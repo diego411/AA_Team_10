{
 "cells": [
  {
   "cell_type": "code",
   "execution_count": 1,
   "id": "0a298ffd",
   "metadata": {},
   "outputs": [],
   "source": [
    "import numpy as np\n",
    "import pandas as pd\n",
    "import seaborn as sns\n",
    "import matplotlib.pyplot as plt\n",
    "\n",
    "%matplotlib inline"
   ]
  },
  {
   "cell_type": "code",
   "execution_count": 2,
   "id": "e10972ae",
   "metadata": {
    "scrolled": true
   },
   "outputs": [
    {
     "data": {
      "text/html": [
       "<div>\n",
       "<style scoped>\n",
       "    .dataframe tbody tr th:only-of-type {\n",
       "        vertical-align: middle;\n",
       "    }\n",
       "\n",
       "    .dataframe tbody tr th {\n",
       "        vertical-align: top;\n",
       "    }\n",
       "\n",
       "    .dataframe thead th {\n",
       "        text-align: right;\n",
       "    }\n",
       "</style>\n",
       "<table border=\"1\" class=\"dataframe\">\n",
       "  <thead>\n",
       "    <tr style=\"text-align: right;\">\n",
       "      <th></th>\n",
       "      <th>date_time</th>\n",
       "      <th>max_temp</th>\n",
       "      <th>min_temp</th>\n",
       "      <th>precip</th>\n",
       "    </tr>\n",
       "  </thead>\n",
       "  <tbody>\n",
       "    <tr>\n",
       "      <th>0</th>\n",
       "      <td>2015-01-02 01:00:00</td>\n",
       "      <td>-1.7</td>\n",
       "      <td>-1.7</td>\n",
       "      <td>0.0</td>\n",
       "    </tr>\n",
       "    <tr>\n",
       "      <th>1</th>\n",
       "      <td>2015-01-02 02:00:00</td>\n",
       "      <td>-2.2</td>\n",
       "      <td>-2.2</td>\n",
       "      <td>0.0</td>\n",
       "    </tr>\n",
       "    <tr>\n",
       "      <th>2</th>\n",
       "      <td>2015-01-02 03:00:00</td>\n",
       "      <td>-2.8</td>\n",
       "      <td>-2.8</td>\n",
       "      <td>0.0</td>\n",
       "    </tr>\n",
       "    <tr>\n",
       "      <th>3</th>\n",
       "      <td>2015-01-02 04:00:00</td>\n",
       "      <td>-3.3</td>\n",
       "      <td>-3.3</td>\n",
       "      <td>0.0</td>\n",
       "    </tr>\n",
       "    <tr>\n",
       "      <th>4</th>\n",
       "      <td>2015-01-02 05:00:00</td>\n",
       "      <td>-4.4</td>\n",
       "      <td>-4.4</td>\n",
       "      <td>0.0</td>\n",
       "    </tr>\n",
       "  </tbody>\n",
       "</table>\n",
       "</div>"
      ],
      "text/plain": [
       "             date_time  max_temp  min_temp  precip\n",
       "0  2015-01-02 01:00:00      -1.7      -1.7     0.0\n",
       "1  2015-01-02 02:00:00      -2.2      -2.2     0.0\n",
       "2  2015-01-02 03:00:00      -2.8      -2.8     0.0\n",
       "3  2015-01-02 04:00:00      -3.3      -3.3     0.0\n",
       "4  2015-01-02 05:00:00      -4.4      -4.4     0.0"
      ]
     },
     "execution_count": 2,
     "metadata": {},
     "output_type": "execute_result"
    }
   ],
   "source": [
    "df_chicago_weather = pd.read_csv('../dataset/weather_hourly_chicago.csv')\n",
    "df_chicago_weather.head()"
   ]
  },
  {
   "cell_type": "code",
   "execution_count": 3,
   "id": "24b76485",
   "metadata": {},
   "outputs": [
    {
     "data": {
      "text/plain": [
       "43848"
      ]
     },
     "execution_count": 3,
     "metadata": {},
     "output_type": "execute_result"
    }
   ],
   "source": [
    "len(df_chicago_weather)"
   ]
  },
  {
   "cell_type": "code",
   "execution_count": 4,
   "id": "ddd89fe6",
   "metadata": {
    "scrolled": false
   },
   "outputs": [
    {
     "name": "stdout",
     "output_type": "stream",
     "text": [
      "<class 'pandas.core.frame.DataFrame'>\n",
      "RangeIndex: 43848 entries, 0 to 43847\n",
      "Data columns (total 4 columns):\n",
      " #   Column     Non-Null Count  Dtype  \n",
      "---  ------     --------------  -----  \n",
      " 0   date_time  43788 non-null  object \n",
      " 1   max_temp   43788 non-null  float64\n",
      " 2   min_temp   43788 non-null  float64\n",
      " 3   precip     43790 non-null  float64\n",
      "dtypes: float64(3), object(1)\n",
      "memory usage: 1.3+ MB\n"
     ]
    }
   ],
   "source": [
    "df_chicago_weather.info()"
   ]
  },
  {
   "cell_type": "code",
   "execution_count": 6,
   "id": "9e19744e",
   "metadata": {
    "scrolled": true
   },
   "outputs": [
    {
     "data": {
      "text/html": [
       "<div>\n",
       "<style scoped>\n",
       "    .dataframe tbody tr th:only-of-type {\n",
       "        vertical-align: middle;\n",
       "    }\n",
       "\n",
       "    .dataframe tbody tr th {\n",
       "        vertical-align: top;\n",
       "    }\n",
       "\n",
       "    .dataframe thead th {\n",
       "        text-align: right;\n",
       "    }\n",
       "</style>\n",
       "<table border=\"1\" class=\"dataframe\">\n",
       "  <thead>\n",
       "    <tr style=\"text-align: right;\">\n",
       "      <th></th>\n",
       "      <th>date_time</th>\n",
       "      <th>max_temp</th>\n",
       "      <th>min_temp</th>\n",
       "      <th>precip</th>\n",
       "    </tr>\n",
       "  </thead>\n",
       "  <tbody>\n",
       "    <tr>\n",
       "      <th>65</th>\n",
       "      <td>2015-01-03 18:00:00</td>\n",
       "      <td>0.6</td>\n",
       "      <td>0.6</td>\n",
       "      <td>1.0</td>\n",
       "    </tr>\n",
       "    <tr>\n",
       "      <th>66</th>\n",
       "      <td>2015-01-03 18:00:00</td>\n",
       "      <td>0.6</td>\n",
       "      <td>0.6</td>\n",
       "      <td>1.0</td>\n",
       "    </tr>\n",
       "    <tr>\n",
       "      <th>79</th>\n",
       "      <td>2015-01-04 08:00:00</td>\n",
       "      <td>0.6</td>\n",
       "      <td>0.6</td>\n",
       "      <td>1.0</td>\n",
       "    </tr>\n",
       "    <tr>\n",
       "      <th>80</th>\n",
       "      <td>2015-01-04 08:00:00</td>\n",
       "      <td>0.6</td>\n",
       "      <td>0.6</td>\n",
       "      <td>1.0</td>\n",
       "    </tr>\n",
       "    <tr>\n",
       "      <th>81</th>\n",
       "      <td>2015-01-04 10:00:00</td>\n",
       "      <td>0.0</td>\n",
       "      <td>0.0</td>\n",
       "      <td>1.0</td>\n",
       "    </tr>\n",
       "    <tr>\n",
       "      <th>...</th>\n",
       "      <td>...</td>\n",
       "      <td>...</td>\n",
       "      <td>...</td>\n",
       "      <td>...</td>\n",
       "    </tr>\n",
       "    <tr>\n",
       "      <th>43448</th>\n",
       "      <td>2019-12-16 08:00:00</td>\n",
       "      <td>-4.4</td>\n",
       "      <td>-4.4</td>\n",
       "      <td>1.0</td>\n",
       "    </tr>\n",
       "    <tr>\n",
       "      <th>43644</th>\n",
       "      <td>2019-12-24 13:00:00</td>\n",
       "      <td>0.6</td>\n",
       "      <td>0.6</td>\n",
       "      <td>0.0</td>\n",
       "    </tr>\n",
       "    <tr>\n",
       "      <th>43645</th>\n",
       "      <td>2019-12-24 13:00:00</td>\n",
       "      <td>0.6</td>\n",
       "      <td>0.6</td>\n",
       "      <td>0.0</td>\n",
       "    </tr>\n",
       "    <tr>\n",
       "      <th>43741</th>\n",
       "      <td>2019-12-28 14:00:00</td>\n",
       "      <td>2.2</td>\n",
       "      <td>1.7</td>\n",
       "      <td>0.0</td>\n",
       "    </tr>\n",
       "    <tr>\n",
       "      <th>43742</th>\n",
       "      <td>2019-12-28 14:00:00</td>\n",
       "      <td>2.2</td>\n",
       "      <td>1.7</td>\n",
       "      <td>0.0</td>\n",
       "    </tr>\n",
       "  </tbody>\n",
       "</table>\n",
       "<p>1388 rows × 4 columns</p>\n",
       "</div>"
      ],
      "text/plain": [
       "                 date_time  max_temp  min_temp  precip\n",
       "65     2015-01-03 18:00:00       0.6       0.6     1.0\n",
       "66     2015-01-03 18:00:00       0.6       0.6     1.0\n",
       "79     2015-01-04 08:00:00       0.6       0.6     1.0\n",
       "80     2015-01-04 08:00:00       0.6       0.6     1.0\n",
       "81     2015-01-04 10:00:00       0.0       0.0     1.0\n",
       "...                    ...       ...       ...     ...\n",
       "43448  2019-12-16 08:00:00      -4.4      -4.4     1.0\n",
       "43644  2019-12-24 13:00:00       0.6       0.6     0.0\n",
       "43645  2019-12-24 13:00:00       0.6       0.6     0.0\n",
       "43741  2019-12-28 14:00:00       2.2       1.7     0.0\n",
       "43742  2019-12-28 14:00:00       2.2       1.7     0.0\n",
       "\n",
       "[1388 rows x 4 columns]"
      ]
     },
     "execution_count": 6,
     "metadata": {},
     "output_type": "execute_result"
    }
   ],
   "source": [
    "df_chicago_weather[df_chicago_weather.duplicated(keep=False)]"
   ]
  },
  {
   "cell_type": "code",
   "execution_count": 7,
   "id": "cdd842e6",
   "metadata": {},
   "outputs": [],
   "source": [
    "df_chicago_weather = df_chicago_weather.drop_duplicates(keep='last')"
   ]
  },
  {
   "cell_type": "code",
   "execution_count": 8,
   "id": "8613e183",
   "metadata": {
    "scrolled": true
   },
   "outputs": [
    {
     "data": {
      "text/html": [
       "<div>\n",
       "<style scoped>\n",
       "    .dataframe tbody tr th:only-of-type {\n",
       "        vertical-align: middle;\n",
       "    }\n",
       "\n",
       "    .dataframe tbody tr th {\n",
       "        vertical-align: top;\n",
       "    }\n",
       "\n",
       "    .dataframe thead th {\n",
       "        text-align: right;\n",
       "    }\n",
       "</style>\n",
       "<table border=\"1\" class=\"dataframe\">\n",
       "  <thead>\n",
       "    <tr style=\"text-align: right;\">\n",
       "      <th></th>\n",
       "      <th>date_time</th>\n",
       "      <th>max_temp</th>\n",
       "      <th>min_temp</th>\n",
       "      <th>precip</th>\n",
       "    </tr>\n",
       "  </thead>\n",
       "  <tbody>\n",
       "  </tbody>\n",
       "</table>\n",
       "</div>"
      ],
      "text/plain": [
       "Empty DataFrame\n",
       "Columns: [date_time, max_temp, min_temp, precip]\n",
       "Index: []"
      ]
     },
     "execution_count": 8,
     "metadata": {},
     "output_type": "execute_result"
    }
   ],
   "source": [
    "df_chicago_weather[df_chicago_weather.duplicated(keep=False)]"
   ]
  },
  {
   "cell_type": "code",
   "execution_count": 10,
   "id": "1969dec2",
   "metadata": {},
   "outputs": [
    {
     "data": {
      "text/html": [
       "<div>\n",
       "<style scoped>\n",
       "    .dataframe tbody tr th:only-of-type {\n",
       "        vertical-align: middle;\n",
       "    }\n",
       "\n",
       "    .dataframe tbody tr th {\n",
       "        vertical-align: top;\n",
       "    }\n",
       "\n",
       "    .dataframe thead th {\n",
       "        text-align: right;\n",
       "    }\n",
       "</style>\n",
       "<table border=\"1\" class=\"dataframe\">\n",
       "  <thead>\n",
       "    <tr style=\"text-align: right;\">\n",
       "      <th></th>\n",
       "      <th>date_time</th>\n",
       "      <th>max_temp</th>\n",
       "      <th>min_temp</th>\n",
       "      <th>precip</th>\n",
       "    </tr>\n",
       "  </thead>\n",
       "  <tbody>\n",
       "  </tbody>\n",
       "</table>\n",
       "</div>"
      ],
      "text/plain": [
       "Empty DataFrame\n",
       "Columns: [date_time, max_temp, min_temp, precip]\n",
       "Index: []"
      ]
     },
     "execution_count": 10,
     "metadata": {},
     "output_type": "execute_result"
    }
   ],
   "source": [
    "df_chicago_weather.loc[df_chicago_weather['max_temp'] < df_chicago_weather['min_temp']]"
   ]
  },
  {
   "cell_type": "code",
   "execution_count": 11,
   "id": "02f19479",
   "metadata": {},
   "outputs": [
    {
     "data": {
      "text/plain": [
       "date_time    2\n",
       "max_temp     2\n",
       "min_temp     2\n",
       "precip       1\n",
       "dtype: int64"
      ]
     },
     "execution_count": 11,
     "metadata": {},
     "output_type": "execute_result"
    }
   ],
   "source": [
    "df_chicago_weather.isnull().sum()"
   ]
  },
  {
   "cell_type": "code",
   "execution_count": 12,
   "id": "072eff79",
   "metadata": {},
   "outputs": [],
   "source": [
    "df_chicago_weather = df_chicago_weather.dropna(axis=0, inplace=False)"
   ]
  },
  {
   "cell_type": "code",
   "execution_count": 14,
   "id": "a2360ad4",
   "metadata": {
    "scrolled": true
   },
   "outputs": [
    {
     "data": {
      "text/plain": [
       "date_time    0\n",
       "max_temp     0\n",
       "min_temp     0\n",
       "precip       0\n",
       "dtype: int64"
      ]
     },
     "execution_count": 14,
     "metadata": {},
     "output_type": "execute_result"
    }
   ],
   "source": [
    "df_chicago_weather.isnull().sum()"
   ]
  },
  {
   "cell_type": "code",
   "execution_count": 16,
   "id": "eed3bab1",
   "metadata": {},
   "outputs": [
    {
     "data": {
      "text/plain": [
       "43124"
      ]
     },
     "execution_count": 16,
     "metadata": {},
     "output_type": "execute_result"
    }
   ],
   "source": [
    "len(df_chicago_weather)"
   ]
  }
 ],
 "metadata": {
  "kernelspec": {
   "display_name": "Python 3 (ipykernel)",
   "language": "python",
   "name": "python3"
  },
  "language_info": {
   "codemirror_mode": {
    "name": "ipython",
    "version": 3
   },
   "file_extension": ".py",
   "mimetype": "text/x-python",
   "name": "python",
   "nbconvert_exporter": "python",
   "pygments_lexer": "ipython3",
   "version": "3.9.12"
  }
 },
 "nbformat": 4,
 "nbformat_minor": 5
}
