{
 "cells": [
  {
   "cell_type": "markdown",
   "id": "357249a0",
   "metadata": {},
   "source": [
    "# Bike Data Preparation"
   ]
  },
  {
   "cell_type": "markdown",
   "id": "1dac5f0f",
   "metadata": {},
   "source": [
    "Within this notebook we clean and prepare the bike sharing dataset for chicago in the year 2018 for the usage in later stages of our project."
   ]
  },
  {
   "cell_type": "markdown",
   "id": "e337dcd3",
   "metadata": {},
   "source": [
    "## 1 Imports"
   ]
  },
  {
   "cell_type": "code",
   "execution_count": 1,
   "id": "a39e34c6",
   "metadata": {},
   "outputs": [],
   "source": [
    "import pandas as pd\n",
    "import numpy as np\n",
    "import matplotlib.pyplot as plt\n",
    "import seaborn as sns\n",
    "from datetime import datetime, timedelta, date, time\n",
    "import pickle"
   ]
  },
  {
   "cell_type": "markdown",
   "id": "d512501a",
   "metadata": {},
   "source": [
    "Load Bike Dataset"
   ]
  },
  {
   "cell_type": "code",
   "execution_count": 2,
   "id": "4e079d46",
   "metadata": {},
   "outputs": [
    {
     "data": {
      "text/html": [
       "<div>\n",
       "<style scoped>\n",
       "    .dataframe tbody tr th:only-of-type {\n",
       "        vertical-align: middle;\n",
       "    }\n",
       "\n",
       "    .dataframe tbody tr th {\n",
       "        vertical-align: top;\n",
       "    }\n",
       "\n",
       "    .dataframe thead th {\n",
       "        text-align: right;\n",
       "    }\n",
       "</style>\n",
       "<table border=\"1\" class=\"dataframe\">\n",
       "  <thead>\n",
       "    <tr style=\"text-align: right;\">\n",
       "      <th></th>\n",
       "      <th>start_time</th>\n",
       "      <th>end_time</th>\n",
       "      <th>start_station_id</th>\n",
       "      <th>end_station_id</th>\n",
       "      <th>start_station_name</th>\n",
       "      <th>end_station_name</th>\n",
       "      <th>bike_id</th>\n",
       "      <th>user_type</th>\n",
       "    </tr>\n",
       "  </thead>\n",
       "  <tbody>\n",
       "    <tr>\n",
       "      <th>0</th>\n",
       "      <td>2018-04-01 00:04:44</td>\n",
       "      <td>2018-04-01 00:13:03</td>\n",
       "      <td>22</td>\n",
       "      <td>171</td>\n",
       "      <td>May St &amp; Taylor St</td>\n",
       "      <td>May St &amp; Cullerton St</td>\n",
       "      <td>3819</td>\n",
       "      <td>Subscriber</td>\n",
       "    </tr>\n",
       "    <tr>\n",
       "      <th>1</th>\n",
       "      <td>2018-04-01 00:06:42</td>\n",
       "      <td>2018-04-01 00:27:07</td>\n",
       "      <td>157</td>\n",
       "      <td>190</td>\n",
       "      <td>Lake Shore Dr &amp; Wellington Ave</td>\n",
       "      <td>Southport Ave &amp; Wrightwood Ave</td>\n",
       "      <td>5000</td>\n",
       "      <td>Subscriber</td>\n",
       "    </tr>\n",
       "    <tr>\n",
       "      <th>2</th>\n",
       "      <td>2018-04-01 00:07:19</td>\n",
       "      <td>2018-04-01 00:23:19</td>\n",
       "      <td>106</td>\n",
       "      <td>106</td>\n",
       "      <td>State St &amp; Pearson St</td>\n",
       "      <td>State St &amp; Pearson St</td>\n",
       "      <td>5165</td>\n",
       "      <td>Customer</td>\n",
       "    </tr>\n",
       "    <tr>\n",
       "      <th>3</th>\n",
       "      <td>2018-04-01 00:07:33</td>\n",
       "      <td>2018-04-01 00:14:47</td>\n",
       "      <td>241</td>\n",
       "      <td>171</td>\n",
       "      <td>Morgan St &amp; Polk St</td>\n",
       "      <td>May St &amp; Cullerton St</td>\n",
       "      <td>3851</td>\n",
       "      <td>Subscriber</td>\n",
       "    </tr>\n",
       "    <tr>\n",
       "      <th>4</th>\n",
       "      <td>2018-04-01 00:10:23</td>\n",
       "      <td>2018-04-01 00:22:12</td>\n",
       "      <td>228</td>\n",
       "      <td>219</td>\n",
       "      <td>Damen Ave &amp; Melrose Ave</td>\n",
       "      <td>Damen Ave &amp; Cortland St</td>\n",
       "      <td>5065</td>\n",
       "      <td>Subscriber</td>\n",
       "    </tr>\n",
       "    <tr>\n",
       "      <th>...</th>\n",
       "      <td>...</td>\n",
       "      <td>...</td>\n",
       "      <td>...</td>\n",
       "      <td>...</td>\n",
       "      <td>...</td>\n",
       "      <td>...</td>\n",
       "      <td>...</td>\n",
       "      <td>...</td>\n",
       "    </tr>\n",
       "    <tr>\n",
       "      <th>3603077</th>\n",
       "      <td>2018-03-31 23:46:34</td>\n",
       "      <td>2018-04-01 00:05:24</td>\n",
       "      <td>158</td>\n",
       "      <td>260</td>\n",
       "      <td>Milwaukee Ave &amp; Wabansia Ave</td>\n",
       "      <td>Kedzie Ave &amp; Milwaukee Ave</td>\n",
       "      <td>1935</td>\n",
       "      <td>Subscriber</td>\n",
       "    </tr>\n",
       "    <tr>\n",
       "      <th>3603078</th>\n",
       "      <td>2018-03-31 23:47:43</td>\n",
       "      <td>2018-03-31 23:52:05</td>\n",
       "      <td>299</td>\n",
       "      <td>229</td>\n",
       "      <td>Halsted St &amp; Roscoe St</td>\n",
       "      <td>Southport Ave &amp; Roscoe St</td>\n",
       "      <td>5852</td>\n",
       "      <td>Subscriber</td>\n",
       "    </tr>\n",
       "    <tr>\n",
       "      <th>3603079</th>\n",
       "      <td>2018-03-31 23:50:18</td>\n",
       "      <td>2018-03-31 23:57:38</td>\n",
       "      <td>327</td>\n",
       "      <td>226</td>\n",
       "      <td>Sheffield Ave &amp; Webster Ave</td>\n",
       "      <td>Racine Ave &amp; Belmont Ave</td>\n",
       "      <td>4414</td>\n",
       "      <td>Subscriber</td>\n",
       "    </tr>\n",
       "    <tr>\n",
       "      <th>3603080</th>\n",
       "      <td>2018-03-31 23:52:26</td>\n",
       "      <td>2018-04-01 00:07:13</td>\n",
       "      <td>265</td>\n",
       "      <td>426</td>\n",
       "      <td>Cottage Grove Ave &amp; Oakwood Blvd</td>\n",
       "      <td>Ellis Ave &amp; 60th St</td>\n",
       "      <td>6448</td>\n",
       "      <td>Subscriber</td>\n",
       "    </tr>\n",
       "    <tr>\n",
       "      <th>3603081</th>\n",
       "      <td>2018-03-31 23:53:38</td>\n",
       "      <td>2018-04-01 00:03:08</td>\n",
       "      <td>485</td>\n",
       "      <td>475</td>\n",
       "      <td>Sawyer Ave &amp; Irving Park Rd</td>\n",
       "      <td>Washtenaw Ave &amp; Lawrence Ave</td>\n",
       "      <td>2769</td>\n",
       "      <td>Subscriber</td>\n",
       "    </tr>\n",
       "  </tbody>\n",
       "</table>\n",
       "<p>3603082 rows × 8 columns</p>\n",
       "</div>"
      ],
      "text/plain": [
       "                  start_time             end_time  start_station_id  \\\n",
       "0        2018-04-01 00:04:44  2018-04-01 00:13:03                22   \n",
       "1        2018-04-01 00:06:42  2018-04-01 00:27:07               157   \n",
       "2        2018-04-01 00:07:19  2018-04-01 00:23:19               106   \n",
       "3        2018-04-01 00:07:33  2018-04-01 00:14:47               241   \n",
       "4        2018-04-01 00:10:23  2018-04-01 00:22:12               228   \n",
       "...                      ...                  ...               ...   \n",
       "3603077  2018-03-31 23:46:34  2018-04-01 00:05:24               158   \n",
       "3603078  2018-03-31 23:47:43  2018-03-31 23:52:05               299   \n",
       "3603079  2018-03-31 23:50:18  2018-03-31 23:57:38               327   \n",
       "3603080  2018-03-31 23:52:26  2018-04-01 00:07:13               265   \n",
       "3603081  2018-03-31 23:53:38  2018-04-01 00:03:08               485   \n",
       "\n",
       "         end_station_id                start_station_name  \\\n",
       "0                   171                May St & Taylor St   \n",
       "1                   190    Lake Shore Dr & Wellington Ave   \n",
       "2                   106             State St & Pearson St   \n",
       "3                   171               Morgan St & Polk St   \n",
       "4                   219           Damen Ave & Melrose Ave   \n",
       "...                 ...                               ...   \n",
       "3603077             260      Milwaukee Ave & Wabansia Ave   \n",
       "3603078             229            Halsted St & Roscoe St   \n",
       "3603079             226       Sheffield Ave & Webster Ave   \n",
       "3603080             426  Cottage Grove Ave & Oakwood Blvd   \n",
       "3603081             475       Sawyer Ave & Irving Park Rd   \n",
       "\n",
       "                       end_station_name  bike_id   user_type  \n",
       "0                 May St & Cullerton St     3819  Subscriber  \n",
       "1        Southport Ave & Wrightwood Ave     5000  Subscriber  \n",
       "2                 State St & Pearson St     5165    Customer  \n",
       "3                 May St & Cullerton St     3851  Subscriber  \n",
       "4               Damen Ave & Cortland St     5065  Subscriber  \n",
       "...                                 ...      ...         ...  \n",
       "3603077      Kedzie Ave & Milwaukee Ave     1935  Subscriber  \n",
       "3603078       Southport Ave & Roscoe St     5852  Subscriber  \n",
       "3603079        Racine Ave & Belmont Ave     4414  Subscriber  \n",
       "3603080             Ellis Ave & 60th St     6448  Subscriber  \n",
       "3603081    Washtenaw Ave & Lawrence Ave     2769  Subscriber  \n",
       "\n",
       "[3603082 rows x 8 columns]"
      ]
     },
     "execution_count": 2,
     "metadata": {},
     "output_type": "execute_result"
    }
   ],
   "source": [
    "df_chicago = pd.read_csv('../dataset/chicago_2018.csv') \n",
    "\n",
    "df_chicago"
   ]
  },
  {
   "cell_type": "markdown",
   "id": "f9c1a641",
   "metadata": {},
   "source": [
    "## 2 Check structure and values of Attributes"
   ]
  },
  {
   "cell_type": "code",
   "execution_count": 3,
   "id": "1582c618",
   "metadata": {},
   "outputs": [
    {
     "name": "stdout",
     "output_type": "stream",
     "text": [
      "<class 'pandas.core.frame.DataFrame'>\n",
      "RangeIndex: 3603082 entries, 0 to 3603081\n",
      "Data columns (total 8 columns):\n",
      " #   Column              Dtype \n",
      "---  ------              ----- \n",
      " 0   start_time          object\n",
      " 1   end_time            object\n",
      " 2   start_station_id    int64 \n",
      " 3   end_station_id      int64 \n",
      " 4   start_station_name  object\n",
      " 5   end_station_name    object\n",
      " 6   bike_id             int64 \n",
      " 7   user_type           object\n",
      "dtypes: int64(3), object(5)\n",
      "memory usage: 219.9+ MB\n"
     ]
    }
   ],
   "source": [
    "df_chicago.info()"
   ]
  },
  {
   "cell_type": "markdown",
   "id": "57cce8f6",
   "metadata": {},
   "source": [
    "<br>\n",
    "The given dataset provides information about all Bike Trips in Chicago from the year 2018. Divy Bikes Chicago is a bicycle sharing system in the Chicago metropolitan area. All information which are needed besides from the historical dataset, will be taken by their websites. Down below you can see a brief overview about all columns and datatypes which are given and needed to be preprocessed for the next steps.\n",
    "<br>\n",
    "<br>\n",
    "\n",
    "**start_time** : Day and time trip started [datetime] <br>\n",
    "**end_time** : Day and time trip ended [datetime] <br>\n",
    "**start_station_id** : Unique ID of station where trip originated [int] <br>\n",
    "**end_station_id** : Unique ID of station where trip terminated [int] <br>\n",
    "**start_station_name** : Name of station where trip originated [str] <br>\n",
    "**end_station_name** : Name of station where trip terminated [str] <br>\n",
    "**bike_id** : Unique ID attached to each bike [int] <br>\n",
    "**user_type** : User membership type [str] <br>\n",
    "\n",
    "\n",
    "The following steps include all necessary activities to construct and clean the dataset."
   ]
  },
  {
   "cell_type": "code",
   "execution_count": 4,
   "id": "752defd5",
   "metadata": {},
   "outputs": [
    {
     "name": "stdout",
     "output_type": "stream",
     "text": [
      "The dataset includes 3603082 entries.\n"
     ]
    }
   ],
   "source": [
    "#Check number of rows\n",
    "Lenght = len(df_chicago)\n",
    "print(\"The dataset includes \" + str(Lenght) + \" entries.\")"
   ]
  },
  {
   "cell_type": "markdown",
   "id": "2a414140",
   "metadata": {},
   "source": [
    "<br>\n",
    "We start by looking at the number of entries to check how many of them will be removed at the end of the cleansing process.\n",
    "In the beginning, the dataset includes 3603082 entries."
   ]
  },
  {
   "cell_type": "markdown",
   "id": "cfd82ef4",
   "metadata": {},
   "source": [
    "## 3 Duplicates"
   ]
  },
  {
   "cell_type": "code",
   "execution_count": 5,
   "id": "2584d4d6",
   "metadata": {},
   "outputs": [],
   "source": [
    "#Drop duplicates and keep the last\n",
    "df_chicago= df_chicago.drop_duplicates(keep='last')"
   ]
  },
  {
   "cell_type": "code",
   "execution_count": 6,
   "id": "e65120d2",
   "metadata": {},
   "outputs": [
    {
     "data": {
      "text/html": [
       "<div>\n",
       "<style scoped>\n",
       "    .dataframe tbody tr th:only-of-type {\n",
       "        vertical-align: middle;\n",
       "    }\n",
       "\n",
       "    .dataframe tbody tr th {\n",
       "        vertical-align: top;\n",
       "    }\n",
       "\n",
       "    .dataframe thead th {\n",
       "        text-align: right;\n",
       "    }\n",
       "</style>\n",
       "<table border=\"1\" class=\"dataframe\">\n",
       "  <thead>\n",
       "    <tr style=\"text-align: right;\">\n",
       "      <th></th>\n",
       "      <th>start_time</th>\n",
       "      <th>end_time</th>\n",
       "      <th>start_station_id</th>\n",
       "      <th>end_station_id</th>\n",
       "      <th>start_station_name</th>\n",
       "      <th>end_station_name</th>\n",
       "      <th>bike_id</th>\n",
       "      <th>user_type</th>\n",
       "    </tr>\n",
       "  </thead>\n",
       "  <tbody>\n",
       "  </tbody>\n",
       "</table>\n",
       "</div>"
      ],
      "text/plain": [
       "Empty DataFrame\n",
       "Columns: [start_time, end_time, start_station_id, end_station_id, start_station_name, end_station_name, bike_id, user_type]\n",
       "Index: []"
      ]
     },
     "execution_count": 6,
     "metadata": {},
     "output_type": "execute_result"
    }
   ],
   "source": [
    "#Check for duplicates\n",
    "df_chicago[df_chicago.duplicated(keep=False)]"
   ]
  },
  {
   "cell_type": "markdown",
   "id": "31d68a0e",
   "metadata": {},
   "source": [
    "## 4 Null Values"
   ]
  },
  {
   "cell_type": "code",
   "execution_count": 7,
   "id": "d8e88d04",
   "metadata": {},
   "outputs": [
    {
     "data": {
      "text/plain": [
       "start_time            0\n",
       "end_time              0\n",
       "start_station_id      0\n",
       "end_station_id        0\n",
       "start_station_name    0\n",
       "end_station_name      0\n",
       "bike_id               0\n",
       "user_type             0\n",
       "dtype: int64"
      ]
     },
     "execution_count": 7,
     "metadata": {},
     "output_type": "execute_result"
    }
   ],
   "source": [
    "#Check for null values\n",
    "df_chicago.isnull().sum()"
   ]
  },
  {
   "cell_type": "markdown",
   "id": "c032681c",
   "metadata": {},
   "source": [
    "No column in the dataset contains null values"
   ]
  },
  {
   "cell_type": "markdown",
   "id": "82d81f34",
   "metadata": {},
   "source": [
    "## 5 Consistency"
   ]
  },
  {
   "cell_type": "markdown",
   "id": "b3a86b9b",
   "metadata": {},
   "source": [
    "In the next step we look if the data set is also logically correct by checking its consistency. \n",
    "<br> We begin with the case if all values of the column start_time are actually smaller than the column end_time. All other cases (equal, bigger than) will be marked with the label 'Delete'. In the next step, we drop this type of outliers from our dataset."
   ]
  },
  {
   "cell_type": "code",
   "execution_count": 8,
   "id": "8352099d",
   "metadata": {
    "scrolled": false
   },
   "outputs": [
    {
     "data": {
      "text/html": [
       "<div>\n",
       "<style scoped>\n",
       "    .dataframe tbody tr th:only-of-type {\n",
       "        vertical-align: middle;\n",
       "    }\n",
       "\n",
       "    .dataframe tbody tr th {\n",
       "        vertical-align: top;\n",
       "    }\n",
       "\n",
       "    .dataframe thead th {\n",
       "        text-align: right;\n",
       "    }\n",
       "</style>\n",
       "<table border=\"1\" class=\"dataframe\">\n",
       "  <thead>\n",
       "    <tr style=\"text-align: right;\">\n",
       "      <th></th>\n",
       "      <th>start_time</th>\n",
       "      <th>end_time</th>\n",
       "      <th>start_station_id</th>\n",
       "      <th>end_station_id</th>\n",
       "      <th>start_station_name</th>\n",
       "      <th>end_station_name</th>\n",
       "      <th>bike_id</th>\n",
       "      <th>user_type</th>\n",
       "      <th>result</th>\n",
       "    </tr>\n",
       "  </thead>\n",
       "  <tbody>\n",
       "    <tr>\n",
       "      <th>0</th>\n",
       "      <td>2018-04-01 00:04:44</td>\n",
       "      <td>2018-04-01 00:13:03</td>\n",
       "      <td>22</td>\n",
       "      <td>171</td>\n",
       "      <td>May St &amp; Taylor St</td>\n",
       "      <td>May St &amp; Cullerton St</td>\n",
       "      <td>3819</td>\n",
       "      <td>Subscriber</td>\n",
       "      <td>Keep</td>\n",
       "    </tr>\n",
       "    <tr>\n",
       "      <th>1</th>\n",
       "      <td>2018-04-01 00:06:42</td>\n",
       "      <td>2018-04-01 00:27:07</td>\n",
       "      <td>157</td>\n",
       "      <td>190</td>\n",
       "      <td>Lake Shore Dr &amp; Wellington Ave</td>\n",
       "      <td>Southport Ave &amp; Wrightwood Ave</td>\n",
       "      <td>5000</td>\n",
       "      <td>Subscriber</td>\n",
       "      <td>Keep</td>\n",
       "    </tr>\n",
       "    <tr>\n",
       "      <th>2</th>\n",
       "      <td>2018-04-01 00:07:19</td>\n",
       "      <td>2018-04-01 00:23:19</td>\n",
       "      <td>106</td>\n",
       "      <td>106</td>\n",
       "      <td>State St &amp; Pearson St</td>\n",
       "      <td>State St &amp; Pearson St</td>\n",
       "      <td>5165</td>\n",
       "      <td>Customer</td>\n",
       "      <td>Keep</td>\n",
       "    </tr>\n",
       "    <tr>\n",
       "      <th>3</th>\n",
       "      <td>2018-04-01 00:07:33</td>\n",
       "      <td>2018-04-01 00:14:47</td>\n",
       "      <td>241</td>\n",
       "      <td>171</td>\n",
       "      <td>Morgan St &amp; Polk St</td>\n",
       "      <td>May St &amp; Cullerton St</td>\n",
       "      <td>3851</td>\n",
       "      <td>Subscriber</td>\n",
       "      <td>Keep</td>\n",
       "    </tr>\n",
       "    <tr>\n",
       "      <th>4</th>\n",
       "      <td>2018-04-01 00:10:23</td>\n",
       "      <td>2018-04-01 00:22:12</td>\n",
       "      <td>228</td>\n",
       "      <td>219</td>\n",
       "      <td>Damen Ave &amp; Melrose Ave</td>\n",
       "      <td>Damen Ave &amp; Cortland St</td>\n",
       "      <td>5065</td>\n",
       "      <td>Subscriber</td>\n",
       "      <td>Keep</td>\n",
       "    </tr>\n",
       "    <tr>\n",
       "      <th>5</th>\n",
       "      <td>2018-04-01 00:11:29</td>\n",
       "      <td>2018-04-01 00:22:28</td>\n",
       "      <td>244</td>\n",
       "      <td>325</td>\n",
       "      <td>Ravenswood Ave &amp; Irving Park Rd</td>\n",
       "      <td>Clark St &amp; Winnemac Ave (Temp)</td>\n",
       "      <td>5962</td>\n",
       "      <td>Subscriber</td>\n",
       "      <td>Keep</td>\n",
       "    </tr>\n",
       "    <tr>\n",
       "      <th>6</th>\n",
       "      <td>2018-04-01 00:15:49</td>\n",
       "      <td>2018-04-01 00:19:47</td>\n",
       "      <td>128</td>\n",
       "      <td>130</td>\n",
       "      <td>Damen Ave &amp; Chicago Ave</td>\n",
       "      <td>Damen Ave &amp; Division St</td>\n",
       "      <td>4570</td>\n",
       "      <td>Subscriber</td>\n",
       "      <td>Keep</td>\n",
       "    </tr>\n",
       "    <tr>\n",
       "      <th>7</th>\n",
       "      <td>2018-04-01 00:17:00</td>\n",
       "      <td>2018-04-01 00:22:53</td>\n",
       "      <td>130</td>\n",
       "      <td>69</td>\n",
       "      <td>Damen Ave &amp; Division St</td>\n",
       "      <td>Damen Ave &amp; Pierce Ave</td>\n",
       "      <td>1323</td>\n",
       "      <td>Subscriber</td>\n",
       "      <td>Keep</td>\n",
       "    </tr>\n",
       "    <tr>\n",
       "      <th>8</th>\n",
       "      <td>2018-04-01 00:18:24</td>\n",
       "      <td>2018-04-01 00:23:06</td>\n",
       "      <td>130</td>\n",
       "      <td>69</td>\n",
       "      <td>Damen Ave &amp; Division St</td>\n",
       "      <td>Damen Ave &amp; Pierce Ave</td>\n",
       "      <td>1977</td>\n",
       "      <td>Subscriber</td>\n",
       "      <td>Keep</td>\n",
       "    </tr>\n",
       "    <tr>\n",
       "      <th>9</th>\n",
       "      <td>2018-04-01 00:20:00</td>\n",
       "      <td>2018-04-01 00:26:22</td>\n",
       "      <td>121</td>\n",
       "      <td>351</td>\n",
       "      <td>Blackstone Ave &amp; Hyde Park Blvd</td>\n",
       "      <td>Cottage Grove Ave &amp; 51st St</td>\n",
       "      <td>2602</td>\n",
       "      <td>Subscriber</td>\n",
       "      <td>Keep</td>\n",
       "    </tr>\n",
       "  </tbody>\n",
       "</table>\n",
       "</div>"
      ],
      "text/plain": [
       "            start_time             end_time  start_station_id  end_station_id  \\\n",
       "0  2018-04-01 00:04:44  2018-04-01 00:13:03                22             171   \n",
       "1  2018-04-01 00:06:42  2018-04-01 00:27:07               157             190   \n",
       "2  2018-04-01 00:07:19  2018-04-01 00:23:19               106             106   \n",
       "3  2018-04-01 00:07:33  2018-04-01 00:14:47               241             171   \n",
       "4  2018-04-01 00:10:23  2018-04-01 00:22:12               228             219   \n",
       "5  2018-04-01 00:11:29  2018-04-01 00:22:28               244             325   \n",
       "6  2018-04-01 00:15:49  2018-04-01 00:19:47               128             130   \n",
       "7  2018-04-01 00:17:00  2018-04-01 00:22:53               130              69   \n",
       "8  2018-04-01 00:18:24  2018-04-01 00:23:06               130              69   \n",
       "9  2018-04-01 00:20:00  2018-04-01 00:26:22               121             351   \n",
       "\n",
       "                start_station_name                end_station_name  bike_id  \\\n",
       "0               May St & Taylor St           May St & Cullerton St     3819   \n",
       "1   Lake Shore Dr & Wellington Ave  Southport Ave & Wrightwood Ave     5000   \n",
       "2            State St & Pearson St           State St & Pearson St     5165   \n",
       "3              Morgan St & Polk St           May St & Cullerton St     3851   \n",
       "4          Damen Ave & Melrose Ave         Damen Ave & Cortland St     5065   \n",
       "5  Ravenswood Ave & Irving Park Rd  Clark St & Winnemac Ave (Temp)     5962   \n",
       "6          Damen Ave & Chicago Ave         Damen Ave & Division St     4570   \n",
       "7          Damen Ave & Division St          Damen Ave & Pierce Ave     1323   \n",
       "8          Damen Ave & Division St          Damen Ave & Pierce Ave     1977   \n",
       "9  Blackstone Ave & Hyde Park Blvd     Cottage Grove Ave & 51st St     2602   \n",
       "\n",
       "    user_type result  \n",
       "0  Subscriber   Keep  \n",
       "1  Subscriber   Keep  \n",
       "2    Customer   Keep  \n",
       "3  Subscriber   Keep  \n",
       "4  Subscriber   Keep  \n",
       "5  Subscriber   Keep  \n",
       "6  Subscriber   Keep  \n",
       "7  Subscriber   Keep  \n",
       "8  Subscriber   Keep  \n",
       "9  Subscriber   Keep  "
      ]
     },
     "execution_count": 8,
     "metadata": {},
     "output_type": "execute_result"
    }
   ],
   "source": [
    "#Define conditions if start_time is smaller than end_time\n",
    "conditions = [df_chicago['end_time'] < df_chicago['start_time'],\n",
    "              df_chicago['start_time'] < df_chicago['end_time'],\n",
    "              df_chicago['start_time'] == df_chicago['end_time']]\n",
    "\n",
    "#Define choices\n",
    "choices=[\"Delete\",\"Keep\", \"Delete\"]\n",
    "\n",
    "#Create new column in DataFrame that displays results of comparisons\n",
    "df_chicago['result'] = np.select(conditions, choices, default='Tie')\n",
    "\n",
    "#view result\n",
    "df_chicago.head(10)"
   ]
  },
  {
   "cell_type": "code",
   "execution_count": 9,
   "id": "d9a4ffbe",
   "metadata": {},
   "outputs": [
    {
     "data": {
      "text/html": [
       "<div>\n",
       "<style scoped>\n",
       "    .dataframe tbody tr th:only-of-type {\n",
       "        vertical-align: middle;\n",
       "    }\n",
       "\n",
       "    .dataframe tbody tr th {\n",
       "        vertical-align: top;\n",
       "    }\n",
       "\n",
       "    .dataframe thead th {\n",
       "        text-align: right;\n",
       "    }\n",
       "</style>\n",
       "<table border=\"1\" class=\"dataframe\">\n",
       "  <thead>\n",
       "    <tr style=\"text-align: right;\">\n",
       "      <th></th>\n",
       "      <th>start_time</th>\n",
       "      <th>end_time</th>\n",
       "      <th>start_station_id</th>\n",
       "      <th>end_station_id</th>\n",
       "      <th>start_station_name</th>\n",
       "      <th>end_station_name</th>\n",
       "      <th>bike_id</th>\n",
       "      <th>user_type</th>\n",
       "      <th>result</th>\n",
       "    </tr>\n",
       "  </thead>\n",
       "  <tbody>\n",
       "    <tr>\n",
       "      <th>2946870</th>\n",
       "      <td>2018-11-04 01:34:41</td>\n",
       "      <td>2018-11-04 01:12:43</td>\n",
       "      <td>188</td>\n",
       "      <td>333</td>\n",
       "      <td>Greenview Ave &amp; Fullerton Ave</td>\n",
       "      <td>Ashland Ave &amp; Blackhawk St</td>\n",
       "      <td>2398</td>\n",
       "      <td>Subscriber</td>\n",
       "      <td>Delete</td>\n",
       "    </tr>\n",
       "    <tr>\n",
       "      <th>2946876</th>\n",
       "      <td>2018-11-04 01:46:45</td>\n",
       "      <td>2018-11-04 01:06:53</td>\n",
       "      <td>54</td>\n",
       "      <td>259</td>\n",
       "      <td>Ogden Ave &amp; Chicago Ave</td>\n",
       "      <td>California Ave &amp; Francis Pl</td>\n",
       "      <td>5303</td>\n",
       "      <td>Subscriber</td>\n",
       "      <td>Delete</td>\n",
       "    </tr>\n",
       "    <tr>\n",
       "      <th>2946877</th>\n",
       "      <td>2018-11-04 01:48:12</td>\n",
       "      <td>2018-11-04 01:02:46</td>\n",
       "      <td>463</td>\n",
       "      <td>229</td>\n",
       "      <td>Clark St &amp; Berwyn Ave</td>\n",
       "      <td>Southport Ave &amp; Roscoe St</td>\n",
       "      <td>2334</td>\n",
       "      <td>Customer</td>\n",
       "      <td>Delete</td>\n",
       "    </tr>\n",
       "    <tr>\n",
       "      <th>2946878</th>\n",
       "      <td>2018-11-04 01:50:42</td>\n",
       "      <td>2018-11-04 01:01:53</td>\n",
       "      <td>453</td>\n",
       "      <td>325</td>\n",
       "      <td>Clark St &amp; Schreiber Ave</td>\n",
       "      <td>Clark St &amp; Winnemac Ave (Temp)</td>\n",
       "      <td>3109</td>\n",
       "      <td>Subscriber</td>\n",
       "      <td>Delete</td>\n",
       "    </tr>\n",
       "    <tr>\n",
       "      <th>2946880</th>\n",
       "      <td>2018-11-04 01:53:16</td>\n",
       "      <td>2018-11-04 01:11:13</td>\n",
       "      <td>118</td>\n",
       "      <td>152</td>\n",
       "      <td>Sedgwick St &amp; North Ave</td>\n",
       "      <td>Lincoln Ave &amp; Diversey Pkwy</td>\n",
       "      <td>6462</td>\n",
       "      <td>Subscriber</td>\n",
       "      <td>Delete</td>\n",
       "    </tr>\n",
       "    <tr>\n",
       "      <th>2946881</th>\n",
       "      <td>2018-11-04 01:55:29</td>\n",
       "      <td>2018-11-04 01:14:56</td>\n",
       "      <td>73</td>\n",
       "      <td>172</td>\n",
       "      <td>Jefferson St &amp; Monroe St</td>\n",
       "      <td>Rush St &amp; Cedar St</td>\n",
       "      <td>1097</td>\n",
       "      <td>Subscriber</td>\n",
       "      <td>Delete</td>\n",
       "    </tr>\n",
       "    <tr>\n",
       "      <th>2946882</th>\n",
       "      <td>2018-11-04 01:59:57</td>\n",
       "      <td>2018-11-04 01:27:14</td>\n",
       "      <td>497</td>\n",
       "      <td>234</td>\n",
       "      <td>Kimball Ave &amp; Belmont Ave</td>\n",
       "      <td>Clark St &amp; Montrose Ave</td>\n",
       "      <td>1439</td>\n",
       "      <td>Subscriber</td>\n",
       "      <td>Delete</td>\n",
       "    </tr>\n",
       "  </tbody>\n",
       "</table>\n",
       "</div>"
      ],
      "text/plain": [
       "                  start_time             end_time  start_station_id  \\\n",
       "2946870  2018-11-04 01:34:41  2018-11-04 01:12:43               188   \n",
       "2946876  2018-11-04 01:46:45  2018-11-04 01:06:53                54   \n",
       "2946877  2018-11-04 01:48:12  2018-11-04 01:02:46               463   \n",
       "2946878  2018-11-04 01:50:42  2018-11-04 01:01:53               453   \n",
       "2946880  2018-11-04 01:53:16  2018-11-04 01:11:13               118   \n",
       "2946881  2018-11-04 01:55:29  2018-11-04 01:14:56                73   \n",
       "2946882  2018-11-04 01:59:57  2018-11-04 01:27:14               497   \n",
       "\n",
       "         end_station_id             start_station_name  \\\n",
       "2946870             333  Greenview Ave & Fullerton Ave   \n",
       "2946876             259        Ogden Ave & Chicago Ave   \n",
       "2946877             229          Clark St & Berwyn Ave   \n",
       "2946878             325       Clark St & Schreiber Ave   \n",
       "2946880             152        Sedgwick St & North Ave   \n",
       "2946881             172       Jefferson St & Monroe St   \n",
       "2946882             234      Kimball Ave & Belmont Ave   \n",
       "\n",
       "                       end_station_name  bike_id   user_type  result  \n",
       "2946870      Ashland Ave & Blackhawk St     2398  Subscriber  Delete  \n",
       "2946876     California Ave & Francis Pl     5303  Subscriber  Delete  \n",
       "2946877       Southport Ave & Roscoe St     2334    Customer  Delete  \n",
       "2946878  Clark St & Winnemac Ave (Temp)     3109  Subscriber  Delete  \n",
       "2946880     Lincoln Ave & Diversey Pkwy     6462  Subscriber  Delete  \n",
       "2946881              Rush St & Cedar St     1097  Subscriber  Delete  \n",
       "2946882         Clark St & Montrose Ave     1439  Subscriber  Delete  "
      ]
     },
     "execution_count": 9,
     "metadata": {},
     "output_type": "execute_result"
    }
   ],
   "source": [
    "#List of values with 'Delete' values\n",
    "df_chicago.loc[df_chicago['result'] == 'Delete']"
   ]
  },
  {
   "cell_type": "markdown",
   "id": "19896e4f",
   "metadata": {},
   "source": [
    "We can see that 7 entries are logically incorrect. These outliers need to be dropped."
   ]
  },
  {
   "cell_type": "code",
   "execution_count": 10,
   "id": "0a3b3d30",
   "metadata": {},
   "outputs": [],
   "source": [
    "#Drop outliers with the value 'Delete'\n",
    "df_chicago.drop(df_chicago[df_chicago['result']== 'Delete'].index, inplace = True)"
   ]
  },
  {
   "cell_type": "code",
   "execution_count": 11,
   "id": "8449973b",
   "metadata": {},
   "outputs": [
    {
     "data": {
      "text/html": [
       "<div>\n",
       "<style scoped>\n",
       "    .dataframe tbody tr th:only-of-type {\n",
       "        vertical-align: middle;\n",
       "    }\n",
       "\n",
       "    .dataframe tbody tr th {\n",
       "        vertical-align: top;\n",
       "    }\n",
       "\n",
       "    .dataframe thead th {\n",
       "        text-align: right;\n",
       "    }\n",
       "</style>\n",
       "<table border=\"1\" class=\"dataframe\">\n",
       "  <thead>\n",
       "    <tr style=\"text-align: right;\">\n",
       "      <th></th>\n",
       "      <th>start_time</th>\n",
       "      <th>end_time</th>\n",
       "      <th>start_station_id</th>\n",
       "      <th>end_station_id</th>\n",
       "      <th>start_station_name</th>\n",
       "      <th>end_station_name</th>\n",
       "      <th>bike_id</th>\n",
       "      <th>user_type</th>\n",
       "      <th>result</th>\n",
       "    </tr>\n",
       "  </thead>\n",
       "  <tbody>\n",
       "  </tbody>\n",
       "</table>\n",
       "</div>"
      ],
      "text/plain": [
       "Empty DataFrame\n",
       "Columns: [start_time, end_time, start_station_id, end_station_id, start_station_name, end_station_name, bike_id, user_type, result]\n",
       "Index: []"
      ]
     },
     "execution_count": 11,
     "metadata": {},
     "output_type": "execute_result"
    }
   ],
   "source": [
    "#Check if 'Delete' values are removed\n",
    "df_chicago.loc[df_chicago['result'] == 'Delete']"
   ]
  },
  {
   "cell_type": "code",
   "execution_count": 12,
   "id": "152b7ddb",
   "metadata": {},
   "outputs": [],
   "source": [
    "df_chicago = df_chicago.drop(['result'], axis = 1)"
   ]
  },
  {
   "cell_type": "markdown",
   "id": "56482192",
   "metadata": {},
   "source": [
    "To continue the process of consistency for the values, we check if each station name belongs to exactly one station id and vice versa."
   ]
  },
  {
   "cell_type": "code",
   "execution_count": 13,
   "id": "b85ff185",
   "metadata": {},
   "outputs": [
    {
     "name": "stdout",
     "output_type": "stream",
     "text": [
      "               start_station_name  start_station_id\n",
      "0             2112 W Peterson Ave                 1\n",
      "1                   63rd St Beach                 1\n",
      "2               900 W Harrison St                 1\n",
      "3      Aberdeen St & Jackson Blvd                 1\n",
      "4         Aberdeen St & Monroe St                 1\n",
      "..                            ...               ...\n",
      "617           Wood St & Taylor St                 1\n",
      "618        Woodlawn Ave & 55th St                 1\n",
      "619        Woodlawn Ave & 75th St                 1\n",
      "620  Woodlawn Ave & Lake Park Ave                 1\n",
      "621          Yates Blvd & 75th St                 1\n",
      "\n",
      "[622 rows x 2 columns]\n",
      "     start_station_id  start_station_name\n",
      "0                   2                   1\n",
      "1                   3                   1\n",
      "2                   4                   1\n",
      "3                   5                   1\n",
      "4                   6                   1\n",
      "..                ...                 ...\n",
      "616               660                   1\n",
      "617               661                   1\n",
      "618               662                   1\n",
      "619               663                   1\n",
      "620               664                   1\n",
      "\n",
      "[621 rows x 2 columns]\n"
     ]
    }
   ],
   "source": [
    "#Check if every start_station_name is assigned to only one start_station_id and vice versa\n",
    "\n",
    "df_id_time = df_chicago.sort_values(by=['start_time','bike_id'], ascending=True)\n",
    "\n",
    "df_name_unique = df_id_time.groupby('start_station_name')['start_station_id'].nunique().reset_index()\n",
    "\n",
    "df_id_unique = df_id_time.groupby('start_station_id')['start_station_name'].nunique().reset_index()\n",
    "\n",
    "print(df_name_unique)\n",
    "print(df_id_unique)"
   ]
  },
  {
   "cell_type": "code",
   "execution_count": 14,
   "id": "b213dc01",
   "metadata": {},
   "outputs": [
    {
     "name": "stdout",
     "output_type": "stream",
     "text": [
      "1\n"
     ]
    }
   ],
   "source": [
    "#Check maximum number of station_id assigned to one station_name\n",
    "print(df_name_unique.start_station_id.max())"
   ]
  },
  {
   "cell_type": "code",
   "execution_count": 15,
   "id": "7fe4fb4f",
   "metadata": {},
   "outputs": [
    {
     "name": "stdout",
     "output_type": "stream",
     "text": [
      "2\n"
     ]
    }
   ],
   "source": [
    "#Check maximum number of station_names assigned to one station_id\n",
    "print(df_id_unique.start_station_name.max())"
   ]
  },
  {
   "cell_type": "markdown",
   "id": "19916736",
   "metadata": {},
   "source": [
    "We have a start_station_id that is assigned to two start_station_names. In the next step we will find out which ID and station_name is affected by this."
   ]
  },
  {
   "cell_type": "code",
   "execution_count": 16,
   "id": "1ec163bc",
   "metadata": {},
   "outputs": [
    {
     "data": {
      "text/html": [
       "<div>\n",
       "<style scoped>\n",
       "    .dataframe tbody tr th:only-of-type {\n",
       "        vertical-align: middle;\n",
       "    }\n",
       "\n",
       "    .dataframe tbody tr th {\n",
       "        vertical-align: top;\n",
       "    }\n",
       "\n",
       "    .dataframe thead th {\n",
       "        text-align: right;\n",
       "    }\n",
       "</style>\n",
       "<table border=\"1\" class=\"dataframe\">\n",
       "  <thead>\n",
       "    <tr style=\"text-align: right;\">\n",
       "      <th></th>\n",
       "      <th>start_station_id</th>\n",
       "      <th>start_station_name</th>\n",
       "    </tr>\n",
       "  </thead>\n",
       "  <tbody>\n",
       "    <tr>\n",
       "      <th>222</th>\n",
       "      <td>243</td>\n",
       "      <td>2</td>\n",
       "    </tr>\n",
       "  </tbody>\n",
       "</table>\n",
       "</div>"
      ],
      "text/plain": [
       "     start_station_id  start_station_name\n",
       "222               243                   2"
      ]
     },
     "execution_count": 16,
     "metadata": {},
     "output_type": "execute_result"
    }
   ],
   "source": [
    "df_id_unique[df_id_unique.start_station_name == 2]"
   ]
  },
  {
   "cell_type": "markdown",
   "id": "81cafcc5",
   "metadata": {},
   "source": [
    "Start_station_id 243 is assigned to two start_station_names. In the next step, we check how many bike trips are influenced by this station confusion."
   ]
  },
  {
   "cell_type": "code",
   "execution_count": 17,
   "id": "db491da1",
   "metadata": {},
   "outputs": [
    {
     "data": {
      "text/plain": [
       "9149"
      ]
     },
     "execution_count": 17,
     "metadata": {},
     "output_type": "execute_result"
    }
   ],
   "source": [
    "#There are more than 9000 rides involving this station\n",
    "len(df_chicago.loc[df_chicago['start_station_id'] == 243]) + len(df_chicago.loc[df_chicago['end_station_id'] == 243])"
   ]
  },
  {
   "cell_type": "code",
   "execution_count": 18,
   "id": "536c31e9",
   "metadata": {},
   "outputs": [
    {
     "data": {
      "text/plain": [
       "array(['Lincoln Ave & Leavitt St', 'Lincoln Ave & Sunnyside Ave'],\n",
       "      dtype=object)"
      ]
     },
     "execution_count": 18,
     "metadata": {},
     "output_type": "execute_result"
    }
   ],
   "source": [
    "df_chicago[df_chicago['end_station_id'] == 243]['end_station_name'].unique()"
   ]
  },
  {
   "cell_type": "markdown",
   "id": "e2e7a616",
   "metadata": {},
   "source": [
    "We make the decision to merge the Avenues instead of dropping them out, because our assumption is to keep the entries since both station_names are very close to each other and could be possibly seen as one.\n",
    "Therefore, we merge Lincoln Ave & Leavitt St and Lincoln Ave & Sunnyside Ave to Lincoln Ave & Sunnyside Ave."
   ]
  },
  {
   "cell_type": "code",
   "execution_count": 19,
   "id": "9cef699f",
   "metadata": {},
   "outputs": [],
   "source": [
    "#Merge two start_station_name which are assigned to one start_station_id\n",
    "df_chicago['start_station_name'] = df_chicago['start_station_name'].replace(\n",
    "    'Lincoln Ave & Leavitt St',\n",
    "    'Lincoln Ave & Sunnyside Ave'\n",
    ")"
   ]
  },
  {
   "cell_type": "code",
   "execution_count": 20,
   "id": "b8cf58fe",
   "metadata": {},
   "outputs": [],
   "source": [
    "#Merge two end_station_name which are assigned to one end_station_id\n",
    "df_chicago['end_station_name'] = df_chicago['end_station_name'].replace(\n",
    "    'Lincoln Ave & Leavitt St',\n",
    "    'Lincoln Ave & Sunnyside Ave'\n",
    ")"
   ]
  },
  {
   "cell_type": "code",
   "execution_count": 21,
   "id": "0d5033b6",
   "metadata": {},
   "outputs": [
    {
     "data": {
      "text/plain": [
       "array(['Lincoln Ave & Sunnyside Ave'], dtype=object)"
      ]
     },
     "execution_count": 21,
     "metadata": {},
     "output_type": "execute_result"
    }
   ],
   "source": [
    "df_chicago[df_chicago['end_station_id'] == 243]['end_station_name'].unique()"
   ]
  },
  {
   "cell_type": "code",
   "execution_count": 22,
   "id": "d36a7cdf",
   "metadata": {},
   "outputs": [
    {
     "name": "stdout",
     "output_type": "stream",
     "text": [
      "               start_station_name  start_station_id\n",
      "0             2112 W Peterson Ave                 1\n",
      "1                   63rd St Beach                 1\n",
      "2               900 W Harrison St                 1\n",
      "3      Aberdeen St & Jackson Blvd                 1\n",
      "4         Aberdeen St & Monroe St                 1\n",
      "..                            ...               ...\n",
      "616           Wood St & Taylor St                 1\n",
      "617        Woodlawn Ave & 55th St                 1\n",
      "618        Woodlawn Ave & 75th St                 1\n",
      "619  Woodlawn Ave & Lake Park Ave                 1\n",
      "620          Yates Blvd & 75th St                 1\n",
      "\n",
      "[621 rows x 2 columns]\n",
      "     start_station_id  start_station_name\n",
      "0                   2                   1\n",
      "1                   3                   1\n",
      "2                   4                   1\n",
      "3                   5                   1\n",
      "4                   6                   1\n",
      "..                ...                 ...\n",
      "616               660                   1\n",
      "617               661                   1\n",
      "618               662                   1\n",
      "619               663                   1\n",
      "620               664                   1\n",
      "\n",
      "[621 rows x 2 columns]\n"
     ]
    }
   ],
   "source": [
    "#Check if every start_station_name is assigned to only one start_station_id and vice versa\n",
    "\n",
    "df_id_time = df_chicago.sort_values(by=['start_time','bike_id'], ascending=True)\n",
    "\n",
    "df_name_unique = df_id_time.groupby('start_station_name')['start_station_id'].nunique().reset_index()\n",
    "\n",
    "df_id_unique = df_id_time.groupby('start_station_id')['start_station_name'].nunique().reset_index()\n",
    "\n",
    "print(df_name_unique)\n",
    "print(df_id_unique)"
   ]
  },
  {
   "cell_type": "code",
   "execution_count": 23,
   "id": "de4a31e1",
   "metadata": {},
   "outputs": [
    {
     "data": {
      "text/html": [
       "<div>\n",
       "<style scoped>\n",
       "    .dataframe tbody tr th:only-of-type {\n",
       "        vertical-align: middle;\n",
       "    }\n",
       "\n",
       "    .dataframe tbody tr th {\n",
       "        vertical-align: top;\n",
       "    }\n",
       "\n",
       "    .dataframe thead th {\n",
       "        text-align: right;\n",
       "    }\n",
       "</style>\n",
       "<table border=\"1\" class=\"dataframe\">\n",
       "  <thead>\n",
       "    <tr style=\"text-align: right;\">\n",
       "      <th></th>\n",
       "      <th>start_station_id</th>\n",
       "      <th>start_station_name</th>\n",
       "    </tr>\n",
       "  </thead>\n",
       "  <tbody>\n",
       "  </tbody>\n",
       "</table>\n",
       "</div>"
      ],
      "text/plain": [
       "Empty DataFrame\n",
       "Columns: [start_station_id, start_station_name]\n",
       "Index: []"
      ]
     },
     "execution_count": 23,
     "metadata": {},
     "output_type": "execute_result"
    }
   ],
   "source": [
    "#Check if every station_name is assigned to only one station_id\n",
    "df_id_unique[df_id_unique.start_station_name == 2]"
   ]
  },
  {
   "cell_type": "code",
   "execution_count": 24,
   "id": "38f33699",
   "metadata": {},
   "outputs": [
    {
     "name": "stdout",
     "output_type": "stream",
     "text": [
      "                 end_station_name  end_station_id\n",
      "0             2112 W Peterson Ave               1\n",
      "1                   63rd St Beach               1\n",
      "2               900 W Harrison St               1\n",
      "3      Aberdeen St & Jackson Blvd               1\n",
      "4         Aberdeen St & Monroe St               1\n",
      "..                            ...             ...\n",
      "614           Wood St & Taylor St               1\n",
      "615        Woodlawn Ave & 55th St               1\n",
      "616        Woodlawn Ave & 75th St               1\n",
      "617  Woodlawn Ave & Lake Park Ave               1\n",
      "618          Yates Blvd & 75th St               1\n",
      "\n",
      "[619 rows x 2 columns]\n",
      "     end_station_id  end_station_name\n",
      "0                 2                 1\n",
      "1                 3                 1\n",
      "2                 4                 1\n",
      "3                 5                 1\n",
      "4                 6                 1\n",
      "..              ...               ...\n",
      "614             660                 1\n",
      "615             661                 1\n",
      "616             662                 1\n",
      "617             663                 1\n",
      "618             664                 1\n",
      "\n",
      "[619 rows x 2 columns]\n"
     ]
    }
   ],
   "source": [
    "#Check if every end_station_name is assigned to only one end_station_id and vice versa\n",
    "\n",
    "df_id_time = df_chicago.sort_values(by=['end_time','bike_id'], ascending=True)\n",
    "\n",
    "df_name_unique = df_id_time.groupby('end_station_name')['end_station_id'].nunique().reset_index()\n",
    "\n",
    "df_id_unique = df_id_time.groupby('end_station_id')['end_station_name'].nunique().reset_index()\n",
    "\n",
    "print(df_name_unique)\n",
    "print(df_id_unique)"
   ]
  },
  {
   "cell_type": "code",
   "execution_count": 25,
   "id": "ab01e7f3",
   "metadata": {},
   "outputs": [
    {
     "data": {
      "text/plain": [
       "1"
      ]
     },
     "execution_count": 25,
     "metadata": {},
     "output_type": "execute_result"
    }
   ],
   "source": [
    "df_name_unique['end_station_id'].max()"
   ]
  },
  {
   "cell_type": "code",
   "execution_count": 26,
   "id": "c91ea170",
   "metadata": {},
   "outputs": [
    {
     "data": {
      "text/plain": [
       "1"
      ]
     },
     "execution_count": 26,
     "metadata": {},
     "output_type": "execute_result"
    }
   ],
   "source": [
    "df_id_unique['end_station_name'].max()"
   ]
  },
  {
   "cell_type": "markdown",
   "id": "520ef05e",
   "metadata": {},
   "source": [
    "After all executed activities, no station_name is assigned to more than one station_id and vice versa\n",
    "(for start_station_name, end_station_name, start_station_id and end_station_id)."
   ]
  },
  {
   "cell_type": "markdown",
   "id": "fc96bdf6",
   "metadata": {},
   "source": [
    "### 5.1 Format Time columns"
   ]
  },
  {
   "cell_type": "markdown",
   "id": "91df5f7f",
   "metadata": {},
   "source": [
    "In this section, we start by formatting start_time and end_time into the right format to use it for further analysis."
   ]
  },
  {
   "cell_type": "code",
   "execution_count": 27,
   "id": "7d5ab648",
   "metadata": {},
   "outputs": [],
   "source": [
    "#Format the columns from datatype object to datatype datetime\n",
    "df_chicago['start_time'] = pd.to_datetime(df_chicago['start_time'])\n",
    "df_chicago['end_time'] = pd.to_datetime(df_chicago['end_time'])"
   ]
  },
  {
   "cell_type": "code",
   "execution_count": 28,
   "id": "fd2529b7",
   "metadata": {},
   "outputs": [],
   "source": [
    "#Calculate the duration time of each trip\n",
    "df_chicago['duration_per_trip'] = df_chicago['end_time'] - df_chicago['start_time']"
   ]
  },
  {
   "cell_type": "code",
   "execution_count": 29,
   "id": "33c17cb3",
   "metadata": {},
   "outputs": [],
   "source": [
    "#Calculate total trip time in hours\n",
    "df_chicago = df_chicago.assign(trip_time_in_hours=df_chicago.apply(lambda x: x['end_time'] - x['start_time'], axis=1) / pd.Timedelta(hours=1)\n",
    ")"
   ]
  },
  {
   "cell_type": "markdown",
   "id": "a1327cdf",
   "metadata": {},
   "source": [
    "We create two new columns named 'duration_per_trip' and 'trip_time_in_hours'. Both will be necessary for the limitation of the dataset. Therefore we calculated the difference between end_time and start_time."
   ]
  },
  {
   "cell_type": "code",
   "execution_count": 30,
   "id": "ddee3de4",
   "metadata": {},
   "outputs": [
    {
     "data": {
      "text/html": [
       "<div>\n",
       "<style scoped>\n",
       "    .dataframe tbody tr th:only-of-type {\n",
       "        vertical-align: middle;\n",
       "    }\n",
       "\n",
       "    .dataframe tbody tr th {\n",
       "        vertical-align: top;\n",
       "    }\n",
       "\n",
       "    .dataframe thead th {\n",
       "        text-align: right;\n",
       "    }\n",
       "</style>\n",
       "<table border=\"1\" class=\"dataframe\">\n",
       "  <thead>\n",
       "    <tr style=\"text-align: right;\">\n",
       "      <th></th>\n",
       "      <th>start_time</th>\n",
       "      <th>end_time</th>\n",
       "      <th>start_station_id</th>\n",
       "      <th>end_station_id</th>\n",
       "      <th>start_station_name</th>\n",
       "      <th>end_station_name</th>\n",
       "      <th>bike_id</th>\n",
       "      <th>user_type</th>\n",
       "      <th>duration_per_trip</th>\n",
       "      <th>trip_time_in_hours</th>\n",
       "    </tr>\n",
       "  </thead>\n",
       "  <tbody>\n",
       "    <tr>\n",
       "      <th>0</th>\n",
       "      <td>2018-04-01 00:04:44</td>\n",
       "      <td>2018-04-01 00:13:03</td>\n",
       "      <td>22</td>\n",
       "      <td>171</td>\n",
       "      <td>May St &amp; Taylor St</td>\n",
       "      <td>May St &amp; Cullerton St</td>\n",
       "      <td>3819</td>\n",
       "      <td>Subscriber</td>\n",
       "      <td>0 days 00:08:19</td>\n",
       "      <td>0.138611</td>\n",
       "    </tr>\n",
       "    <tr>\n",
       "      <th>1</th>\n",
       "      <td>2018-04-01 00:06:42</td>\n",
       "      <td>2018-04-01 00:27:07</td>\n",
       "      <td>157</td>\n",
       "      <td>190</td>\n",
       "      <td>Lake Shore Dr &amp; Wellington Ave</td>\n",
       "      <td>Southport Ave &amp; Wrightwood Ave</td>\n",
       "      <td>5000</td>\n",
       "      <td>Subscriber</td>\n",
       "      <td>0 days 00:20:25</td>\n",
       "      <td>0.340278</td>\n",
       "    </tr>\n",
       "    <tr>\n",
       "      <th>2</th>\n",
       "      <td>2018-04-01 00:07:19</td>\n",
       "      <td>2018-04-01 00:23:19</td>\n",
       "      <td>106</td>\n",
       "      <td>106</td>\n",
       "      <td>State St &amp; Pearson St</td>\n",
       "      <td>State St &amp; Pearson St</td>\n",
       "      <td>5165</td>\n",
       "      <td>Customer</td>\n",
       "      <td>0 days 00:16:00</td>\n",
       "      <td>0.266667</td>\n",
       "    </tr>\n",
       "    <tr>\n",
       "      <th>3</th>\n",
       "      <td>2018-04-01 00:07:33</td>\n",
       "      <td>2018-04-01 00:14:47</td>\n",
       "      <td>241</td>\n",
       "      <td>171</td>\n",
       "      <td>Morgan St &amp; Polk St</td>\n",
       "      <td>May St &amp; Cullerton St</td>\n",
       "      <td>3851</td>\n",
       "      <td>Subscriber</td>\n",
       "      <td>0 days 00:07:14</td>\n",
       "      <td>0.120556</td>\n",
       "    </tr>\n",
       "    <tr>\n",
       "      <th>4</th>\n",
       "      <td>2018-04-01 00:10:23</td>\n",
       "      <td>2018-04-01 00:22:12</td>\n",
       "      <td>228</td>\n",
       "      <td>219</td>\n",
       "      <td>Damen Ave &amp; Melrose Ave</td>\n",
       "      <td>Damen Ave &amp; Cortland St</td>\n",
       "      <td>5065</td>\n",
       "      <td>Subscriber</td>\n",
       "      <td>0 days 00:11:49</td>\n",
       "      <td>0.196944</td>\n",
       "    </tr>\n",
       "    <tr>\n",
       "      <th>5</th>\n",
       "      <td>2018-04-01 00:11:29</td>\n",
       "      <td>2018-04-01 00:22:28</td>\n",
       "      <td>244</td>\n",
       "      <td>325</td>\n",
       "      <td>Ravenswood Ave &amp; Irving Park Rd</td>\n",
       "      <td>Clark St &amp; Winnemac Ave (Temp)</td>\n",
       "      <td>5962</td>\n",
       "      <td>Subscriber</td>\n",
       "      <td>0 days 00:10:59</td>\n",
       "      <td>0.183056</td>\n",
       "    </tr>\n",
       "    <tr>\n",
       "      <th>6</th>\n",
       "      <td>2018-04-01 00:15:49</td>\n",
       "      <td>2018-04-01 00:19:47</td>\n",
       "      <td>128</td>\n",
       "      <td>130</td>\n",
       "      <td>Damen Ave &amp; Chicago Ave</td>\n",
       "      <td>Damen Ave &amp; Division St</td>\n",
       "      <td>4570</td>\n",
       "      <td>Subscriber</td>\n",
       "      <td>0 days 00:03:58</td>\n",
       "      <td>0.066111</td>\n",
       "    </tr>\n",
       "    <tr>\n",
       "      <th>7</th>\n",
       "      <td>2018-04-01 00:17:00</td>\n",
       "      <td>2018-04-01 00:22:53</td>\n",
       "      <td>130</td>\n",
       "      <td>69</td>\n",
       "      <td>Damen Ave &amp; Division St</td>\n",
       "      <td>Damen Ave &amp; Pierce Ave</td>\n",
       "      <td>1323</td>\n",
       "      <td>Subscriber</td>\n",
       "      <td>0 days 00:05:53</td>\n",
       "      <td>0.098056</td>\n",
       "    </tr>\n",
       "    <tr>\n",
       "      <th>8</th>\n",
       "      <td>2018-04-01 00:18:24</td>\n",
       "      <td>2018-04-01 00:23:06</td>\n",
       "      <td>130</td>\n",
       "      <td>69</td>\n",
       "      <td>Damen Ave &amp; Division St</td>\n",
       "      <td>Damen Ave &amp; Pierce Ave</td>\n",
       "      <td>1977</td>\n",
       "      <td>Subscriber</td>\n",
       "      <td>0 days 00:04:42</td>\n",
       "      <td>0.078333</td>\n",
       "    </tr>\n",
       "    <tr>\n",
       "      <th>9</th>\n",
       "      <td>2018-04-01 00:20:00</td>\n",
       "      <td>2018-04-01 00:26:22</td>\n",
       "      <td>121</td>\n",
       "      <td>351</td>\n",
       "      <td>Blackstone Ave &amp; Hyde Park Blvd</td>\n",
       "      <td>Cottage Grove Ave &amp; 51st St</td>\n",
       "      <td>2602</td>\n",
       "      <td>Subscriber</td>\n",
       "      <td>0 days 00:06:22</td>\n",
       "      <td>0.106111</td>\n",
       "    </tr>\n",
       "  </tbody>\n",
       "</table>\n",
       "</div>"
      ],
      "text/plain": [
       "           start_time            end_time  start_station_id  end_station_id  \\\n",
       "0 2018-04-01 00:04:44 2018-04-01 00:13:03                22             171   \n",
       "1 2018-04-01 00:06:42 2018-04-01 00:27:07               157             190   \n",
       "2 2018-04-01 00:07:19 2018-04-01 00:23:19               106             106   \n",
       "3 2018-04-01 00:07:33 2018-04-01 00:14:47               241             171   \n",
       "4 2018-04-01 00:10:23 2018-04-01 00:22:12               228             219   \n",
       "5 2018-04-01 00:11:29 2018-04-01 00:22:28               244             325   \n",
       "6 2018-04-01 00:15:49 2018-04-01 00:19:47               128             130   \n",
       "7 2018-04-01 00:17:00 2018-04-01 00:22:53               130              69   \n",
       "8 2018-04-01 00:18:24 2018-04-01 00:23:06               130              69   \n",
       "9 2018-04-01 00:20:00 2018-04-01 00:26:22               121             351   \n",
       "\n",
       "                start_station_name                end_station_name  bike_id  \\\n",
       "0               May St & Taylor St           May St & Cullerton St     3819   \n",
       "1   Lake Shore Dr & Wellington Ave  Southport Ave & Wrightwood Ave     5000   \n",
       "2            State St & Pearson St           State St & Pearson St     5165   \n",
       "3              Morgan St & Polk St           May St & Cullerton St     3851   \n",
       "4          Damen Ave & Melrose Ave         Damen Ave & Cortland St     5065   \n",
       "5  Ravenswood Ave & Irving Park Rd  Clark St & Winnemac Ave (Temp)     5962   \n",
       "6          Damen Ave & Chicago Ave         Damen Ave & Division St     4570   \n",
       "7          Damen Ave & Division St          Damen Ave & Pierce Ave     1323   \n",
       "8          Damen Ave & Division St          Damen Ave & Pierce Ave     1977   \n",
       "9  Blackstone Ave & Hyde Park Blvd     Cottage Grove Ave & 51st St     2602   \n",
       "\n",
       "    user_type duration_per_trip  trip_time_in_hours  \n",
       "0  Subscriber   0 days 00:08:19            0.138611  \n",
       "1  Subscriber   0 days 00:20:25            0.340278  \n",
       "2    Customer   0 days 00:16:00            0.266667  \n",
       "3  Subscriber   0 days 00:07:14            0.120556  \n",
       "4  Subscriber   0 days 00:11:49            0.196944  \n",
       "5  Subscriber   0 days 00:10:59            0.183056  \n",
       "6  Subscriber   0 days 00:03:58            0.066111  \n",
       "7  Subscriber   0 days 00:05:53            0.098056  \n",
       "8  Subscriber   0 days 00:04:42            0.078333  \n",
       "9  Subscriber   0 days 00:06:22            0.106111  "
      ]
     },
     "execution_count": 30,
     "metadata": {},
     "output_type": "execute_result"
    }
   ],
   "source": [
    "df_chicago.head(10)"
   ]
  },
  {
   "cell_type": "markdown",
   "id": "a8efe901",
   "metadata": {},
   "source": [
    "## 6 Capping trip time"
   ]
  },
  {
   "cell_type": "markdown",
   "id": "abb7c4bc",
   "metadata": {},
   "source": [
    "In order to get a better assessment of the trips, we look at the time aspect of the trips in this section. A time cap may need to be established to drop potential outliers."
   ]
  },
  {
   "cell_type": "code",
   "execution_count": 31,
   "id": "9e8254ef",
   "metadata": {},
   "outputs": [
    {
     "data": {
      "image/png": "[encoded data removed]",
      "text/plain": [
       "<Figure size 1800x900 with 1 Axes>"
      ]
     },
     "metadata": {},
     "output_type": "display_data"
    }
   ],
   "source": [
    "#Trip duration plot \n",
    "fig,ax = plt.subplots(figsize=(20,10), dpi= 90) \n",
    "\n",
    "label_font = {'labelsize':'10'}\n",
    "axis_font = {'size':'35'}\n",
    "dic={'fontsize': '25'}\n",
    "\n",
    "ax.scatter(df_chicago.index, df_chicago['trip_time_in_hours'], s = 5, c = 'blue')\n",
    "ax.set_xlabel('Trips')\n",
    "ax.set_ylabel('Trip Time in Hours')\n",
    "\n",
    "plt.show()"
   ]
  },
  {
   "cell_type": "markdown",
   "id": "bc723cfa",
   "metadata": {},
   "source": [
    "In the first plot, we see that there is a massive spread between the different trip times in hours. Here we have to make a new delimitation, since in some cases trips are shown where the user forgot to log off from the rented bike or individual users deliberately wanted to borrow the bike for several days."
   ]
  },
  {
   "cell_type": "code",
   "execution_count": 32,
   "id": "e39c99e9",
   "metadata": {},
   "outputs": [
    {
     "data": {
      "text/plain": [
       "10.278806666667158"
      ]
     },
     "execution_count": 32,
     "metadata": {},
     "output_type": "execute_result"
    }
   ],
   "source": [
    "#Calculate 0.999 quantile of trip time\n",
    "quantile = df_chicago['trip_time_in_hours'].quantile(0.999)\n",
    "quantile"
   ]
  },
  {
   "cell_type": "markdown",
   "id": "dcb7ecef",
   "metadata": {},
   "source": [
    "We tested different quantiles to get the best suitable constraint for the trip time in hours. In this case we choose the 0.999 quantile, because the 0.99 quantile is taking every bike trip into account which durates not longer than 2 hours. This would cause to a very high loss of the dataset since we have bike trips with a duration time greater than 2 hours. The 0.90 quantile is not precise enough which is why the 0.99 quantile is set as the optimal constraint for our case."
   ]
  },
  {
   "cell_type": "code",
   "execution_count": 33,
   "id": "1286b40d",
   "metadata": {},
   "outputs": [
    {
     "data": {
      "text/plain": [
       "3604"
      ]
     },
     "execution_count": 33,
     "metadata": {},
     "output_type": "execute_result"
    }
   ],
   "source": [
    "#0.1% or 3604 values are above the quantile\n",
    "len(df_chicago.loc[df_chicago['trip_time_in_hours'] > quantile])"
   ]
  },
  {
   "cell_type": "markdown",
   "id": "d02a8cb5",
   "metadata": {},
   "source": [
    "By applying the quantile, we drop 3604 entries from our dataset."
   ]
  },
  {
   "cell_type": "code",
   "execution_count": 34,
   "id": "c6e77fb8",
   "metadata": {},
   "outputs": [],
   "source": [
    "df_chicago_quantile = df_chicago.loc[df_chicago['trip_time_in_hours'] < quantile]"
   ]
  },
  {
   "cell_type": "code",
   "execution_count": 35,
   "id": "50537f7e",
   "metadata": {},
   "outputs": [
    {
     "data": {
      "image/png": "[encoded data removed]",
      "text/plain": [
       "<Figure size 1800x900 with 1 Axes>"
      ]
     },
     "metadata": {},
     "output_type": "display_data"
    }
   ],
   "source": [
    "#Trip duration plot \n",
    "fig,ax = plt.subplots(figsize=(20,10), dpi= 90) \n",
    "\n",
    "label_font = {'labelsize':'10'}\n",
    "axis_font = {'size':'35'}\n",
    "dic={'fontsize': '25'}\n",
    "\n",
    "ax.scatter(df_chicago_quantile.index, df_chicago_quantile['trip_time_in_hours'], s = 5, c = 'blue')\n",
    "ax.set_xlabel('Trips')\n",
    "ax.set_ylabel('Trip Time in Hours')\n",
    "\n",
    "plt.show()"
   ]
  },
  {
   "cell_type": "markdown",
   "id": "1cca6313",
   "metadata": {},
   "source": [
    "Here it is visible that the upper limit of bike trips are approximately 10 hours. Most of the bike trips durate not longer than 4 hours.\n"
   ]
  },
  {
   "cell_type": "code",
   "execution_count": 36,
   "id": "93956feb",
   "metadata": {},
   "outputs": [
    {
     "name": "stdout",
     "output_type": "stream",
     "text": [
      "3603075\n",
      "3599471\n"
     ]
    }
   ],
   "source": [
    "#Check number of entries for current dataframe and the new dataframe with 0.999 quantile\n",
    "print(len(df_chicago))\n",
    "print(len(df_chicago_quantile))"
   ]
  },
  {
   "cell_type": "markdown",
   "id": "45b49622",
   "metadata": {},
   "source": [
    "By comparing the existing dataframe with the 0.999 quantile one, we reach out a reduction of 3604 entries. As now on,the dataframe with the 0.999 quantile will be used as our the new dataframe."
   ]
  },
  {
   "cell_type": "code",
   "execution_count": 37,
   "id": "6c81e3b4",
   "metadata": {},
   "outputs": [],
   "source": [
    "#Continue with new Dataframe\n",
    "df_chicago = df_chicago_quantile"
   ]
  },
  {
   "cell_type": "code",
   "execution_count": 38,
   "id": "fef71d06",
   "metadata": {},
   "outputs": [
    {
     "name": "stdout",
     "output_type": "stream",
     "text": [
      "<class 'pandas.core.frame.DataFrame'>\n",
      "Int64Index: 3599471 entries, 0 to 3603081\n",
      "Data columns (total 10 columns):\n",
      " #   Column              Dtype          \n",
      "---  ------              -----          \n",
      " 0   start_time          datetime64[ns] \n",
      " 1   end_time            datetime64[ns] \n",
      " 2   start_station_id    int64          \n",
      " 3   end_station_id      int64          \n",
      " 4   start_station_name  object         \n",
      " 5   end_station_name    object         \n",
      " 6   bike_id             int64          \n",
      " 7   user_type           object         \n",
      " 8   duration_per_trip   timedelta64[ns]\n",
      " 9   trip_time_in_hours  float64        \n",
      "dtypes: datetime64[ns](2), float64(1), int64(3), object(3), timedelta64[ns](1)\n",
      "memory usage: 302.1+ MB\n"
     ]
    }
   ],
   "source": [
    "df_chicago.info()"
   ]
  },
  {
   "cell_type": "code",
   "execution_count": 39,
   "id": "1a257cf2",
   "metadata": {
    "scrolled": false
   },
   "outputs": [
    {
     "data": {
      "text/html": [
       "<div>\n",
       "<style scoped>\n",
       "    .dataframe tbody tr th:only-of-type {\n",
       "        vertical-align: middle;\n",
       "    }\n",
       "\n",
       "    .dataframe tbody tr th {\n",
       "        vertical-align: top;\n",
       "    }\n",
       "\n",
       "    .dataframe thead th {\n",
       "        text-align: right;\n",
       "    }\n",
       "</style>\n",
       "<table border=\"1\" class=\"dataframe\">\n",
       "  <thead>\n",
       "    <tr style=\"text-align: right;\">\n",
       "      <th></th>\n",
       "      <th>start_time</th>\n",
       "      <th>end_time</th>\n",
       "      <th>start_station_id</th>\n",
       "      <th>end_station_id</th>\n",
       "      <th>start_station_name</th>\n",
       "      <th>end_station_name</th>\n",
       "      <th>bike_id</th>\n",
       "      <th>user_type</th>\n",
       "      <th>duration_per_trip</th>\n",
       "      <th>trip_time_in_hours</th>\n",
       "    </tr>\n",
       "  </thead>\n",
       "  <tbody>\n",
       "    <tr>\n",
       "      <th>414469</th>\n",
       "      <td>2018-05-19 01:10:15</td>\n",
       "      <td>2018-05-19 11:26:55</td>\n",
       "      <td>96</td>\n",
       "      <td>97</td>\n",
       "      <td>Desplaines St &amp; Randolph St</td>\n",
       "      <td>Field Museum</td>\n",
       "      <td>5070</td>\n",
       "      <td>Customer</td>\n",
       "      <td>0 days 10:16:40</td>\n",
       "      <td>10.277778</td>\n",
       "    </tr>\n",
       "    <tr>\n",
       "      <th>1929665</th>\n",
       "      <td>2018-08-19 07:21:20</td>\n",
       "      <td>2018-08-19 17:37:52</td>\n",
       "      <td>85</td>\n",
       "      <td>291</td>\n",
       "      <td>Michigan Ave &amp; Oak St</td>\n",
       "      <td>Wells St &amp; Evergreen Ave</td>\n",
       "      <td>2208</td>\n",
       "      <td>Customer</td>\n",
       "      <td>0 days 10:16:32</td>\n",
       "      <td>10.275556</td>\n",
       "    </tr>\n",
       "    <tr>\n",
       "      <th>1527996</th>\n",
       "      <td>2018-07-27 23:11:49</td>\n",
       "      <td>2018-07-28 09:28:03</td>\n",
       "      <td>119</td>\n",
       "      <td>158</td>\n",
       "      <td>Ashland Ave &amp; Lake St (Temp)</td>\n",
       "      <td>Milwaukee Ave &amp; Wabansia Ave</td>\n",
       "      <td>5741</td>\n",
       "      <td>Customer</td>\n",
       "      <td>0 days 10:16:14</td>\n",
       "      <td>10.270556</td>\n",
       "    </tr>\n",
       "    <tr>\n",
       "      <th>1179810</th>\n",
       "      <td>2018-07-08 10:46:15</td>\n",
       "      <td>2018-07-08 21:02:24</td>\n",
       "      <td>356</td>\n",
       "      <td>356</td>\n",
       "      <td>Stony Island Ave &amp; 71st St</td>\n",
       "      <td>Stony Island Ave &amp; 71st St</td>\n",
       "      <td>2296</td>\n",
       "      <td>Customer</td>\n",
       "      <td>0 days 10:16:09</td>\n",
       "      <td>10.269167</td>\n",
       "    </tr>\n",
       "    <tr>\n",
       "      <th>1064327</th>\n",
       "      <td>2018-07-01 12:57:59</td>\n",
       "      <td>2018-07-01 23:14:05</td>\n",
       "      <td>567</td>\n",
       "      <td>567</td>\n",
       "      <td>May St &amp; 69th St</td>\n",
       "      <td>May St &amp; 69th St</td>\n",
       "      <td>3306</td>\n",
       "      <td>Subscriber</td>\n",
       "      <td>0 days 10:16:06</td>\n",
       "      <td>10.268333</td>\n",
       "    </tr>\n",
       "    <tr>\n",
       "      <th>2829409</th>\n",
       "      <td>2018-10-23 11:50:07</td>\n",
       "      <td>2018-10-23 22:06:06</td>\n",
       "      <td>291</td>\n",
       "      <td>118</td>\n",
       "      <td>Wells St &amp; Evergreen Ave</td>\n",
       "      <td>Sedgwick St &amp; North Ave</td>\n",
       "      <td>2341</td>\n",
       "      <td>Subscriber</td>\n",
       "      <td>0 days 10:15:59</td>\n",
       "      <td>10.266389</td>\n",
       "    </tr>\n",
       "    <tr>\n",
       "      <th>1592681</th>\n",
       "      <td>2018-07-31 11:22:27</td>\n",
       "      <td>2018-07-31 21:38:18</td>\n",
       "      <td>34</td>\n",
       "      <td>265</td>\n",
       "      <td>Cannon Dr &amp; Fullerton Ave</td>\n",
       "      <td>Cottage Grove Ave &amp; Oakwood Blvd</td>\n",
       "      <td>2062</td>\n",
       "      <td>Customer</td>\n",
       "      <td>0 days 10:15:51</td>\n",
       "      <td>10.264167</td>\n",
       "    </tr>\n",
       "    <tr>\n",
       "      <th>535373</th>\n",
       "      <td>2018-05-28 01:52:52</td>\n",
       "      <td>2018-05-28 12:08:40</td>\n",
       "      <td>13</td>\n",
       "      <td>13</td>\n",
       "      <td>Wilton Ave &amp; Diversey Pkwy</td>\n",
       "      <td>Wilton Ave &amp; Diversey Pkwy</td>\n",
       "      <td>953</td>\n",
       "      <td>Customer</td>\n",
       "      <td>0 days 10:15:48</td>\n",
       "      <td>10.263333</td>\n",
       "    </tr>\n",
       "    <tr>\n",
       "      <th>3349347</th>\n",
       "      <td>2018-02-11 21:07:27</td>\n",
       "      <td>2018-02-12 07:23:14</td>\n",
       "      <td>188</td>\n",
       "      <td>153</td>\n",
       "      <td>Greenview Ave &amp; Fullerton Ave</td>\n",
       "      <td>Southport Ave &amp; Wellington Ave</td>\n",
       "      <td>3641</td>\n",
       "      <td>Subscriber</td>\n",
       "      <td>0 days 10:15:47</td>\n",
       "      <td>10.263056</td>\n",
       "    </tr>\n",
       "    <tr>\n",
       "      <th>2352864</th>\n",
       "      <td>2018-09-15 21:36:29</td>\n",
       "      <td>2018-09-16 07:51:48</td>\n",
       "      <td>6</td>\n",
       "      <td>32</td>\n",
       "      <td>Dusable Harbor</td>\n",
       "      <td>Racine Ave &amp; Congress Pkwy</td>\n",
       "      <td>6281</td>\n",
       "      <td>Customer</td>\n",
       "      <td>0 days 10:15:19</td>\n",
       "      <td>10.255278</td>\n",
       "    </tr>\n",
       "  </tbody>\n",
       "</table>\n",
       "</div>"
      ],
      "text/plain": [
       "                 start_time            end_time  start_station_id  \\\n",
       "414469  2018-05-19 01:10:15 2018-05-19 11:26:55                96   \n",
       "1929665 2018-08-19 07:21:20 2018-08-19 17:37:52                85   \n",
       "1527996 2018-07-27 23:11:49 2018-07-28 09:28:03               119   \n",
       "1179810 2018-07-08 10:46:15 2018-07-08 21:02:24               356   \n",
       "1064327 2018-07-01 12:57:59 2018-07-01 23:14:05               567   \n",
       "2829409 2018-10-23 11:50:07 2018-10-23 22:06:06               291   \n",
       "1592681 2018-07-31 11:22:27 2018-07-31 21:38:18                34   \n",
       "535373  2018-05-28 01:52:52 2018-05-28 12:08:40                13   \n",
       "3349347 2018-02-11 21:07:27 2018-02-12 07:23:14               188   \n",
       "2352864 2018-09-15 21:36:29 2018-09-16 07:51:48                 6   \n",
       "\n",
       "         end_station_id             start_station_name  \\\n",
       "414469               97    Desplaines St & Randolph St   \n",
       "1929665             291          Michigan Ave & Oak St   \n",
       "1527996             158   Ashland Ave & Lake St (Temp)   \n",
       "1179810             356     Stony Island Ave & 71st St   \n",
       "1064327             567               May St & 69th St   \n",
       "2829409             118       Wells St & Evergreen Ave   \n",
       "1592681             265      Cannon Dr & Fullerton Ave   \n",
       "535373               13     Wilton Ave & Diversey Pkwy   \n",
       "3349347             153  Greenview Ave & Fullerton Ave   \n",
       "2352864              32                 Dusable Harbor   \n",
       "\n",
       "                         end_station_name  bike_id   user_type  \\\n",
       "414469                       Field Museum     5070    Customer   \n",
       "1929665          Wells St & Evergreen Ave     2208    Customer   \n",
       "1527996      Milwaukee Ave & Wabansia Ave     5741    Customer   \n",
       "1179810        Stony Island Ave & 71st St     2296    Customer   \n",
       "1064327                  May St & 69th St     3306  Subscriber   \n",
       "2829409           Sedgwick St & North Ave     2341  Subscriber   \n",
       "1592681  Cottage Grove Ave & Oakwood Blvd     2062    Customer   \n",
       "535373         Wilton Ave & Diversey Pkwy      953    Customer   \n",
       "3349347    Southport Ave & Wellington Ave     3641  Subscriber   \n",
       "2352864        Racine Ave & Congress Pkwy     6281    Customer   \n",
       "\n",
       "        duration_per_trip  trip_time_in_hours  \n",
       "414469    0 days 10:16:40           10.277778  \n",
       "1929665   0 days 10:16:32           10.275556  \n",
       "1527996   0 days 10:16:14           10.270556  \n",
       "1179810   0 days 10:16:09           10.269167  \n",
       "1064327   0 days 10:16:06           10.268333  \n",
       "2829409   0 days 10:15:59           10.266389  \n",
       "1592681   0 days 10:15:51           10.264167  \n",
       "535373    0 days 10:15:48           10.263333  \n",
       "3349347   0 days 10:15:47           10.263056  \n",
       "2352864   0 days 10:15:19           10.255278  "
      ]
     },
     "execution_count": 39,
     "metadata": {},
     "output_type": "execute_result"
    }
   ],
   "source": [
    "#Check trip length to exclude potential outliers\n",
    "df_chicago.sort_values(by=[\"duration_per_trip\"], ascending=False).head(10)"
   ]
  },
  {
   "cell_type": "code",
   "execution_count": 40,
   "id": "dd489d26",
   "metadata": {},
   "outputs": [],
   "source": [
    "#Drop rows who started or ended biketrip before and after 2018 \n",
    "df_chicago.drop(df_chicago[df_chicago['start_time'] < '2018-01-01 00:00:00'].index, inplace = True)\n",
    "df_chicago.drop(df_chicago[df_chicago['end_time'] > '2018-12-31 23:59:59'].index, inplace = True)"
   ]
  },
  {
   "cell_type": "markdown",
   "id": "530f3f68",
   "metadata": {},
   "source": [
    "To ensure that all trips occurred in 2018, outliers that started before and ended after 2018 are thrown out of the data set."
   ]
  },
  {
   "cell_type": "code",
   "execution_count": 41,
   "id": "d32bca8f",
   "metadata": {},
   "outputs": [
    {
     "data": {
      "text/plain": [
       "3599468"
      ]
     },
     "execution_count": 41,
     "metadata": {},
     "output_type": "execute_result"
    }
   ],
   "source": [
    "len(df_chicago)"
   ]
  },
  {
   "cell_type": "code",
   "execution_count": 42,
   "id": "e0f25890",
   "metadata": {},
   "outputs": [
    {
     "data": {
      "text/plain": [
       "count                      3599468\n",
       "mean     0 days 00:17:40.347873908\n",
       "std      0 days 00:23:23.602598277\n",
       "min                0 days 00:01:01\n",
       "25%                0 days 00:06:34\n",
       "50%                0 days 00:11:12\n",
       "75%                0 days 00:20:07\n",
       "max                0 days 10:16:40\n",
       "Name: duration_per_trip, dtype: object"
      ]
     },
     "execution_count": 42,
     "metadata": {},
     "output_type": "execute_result"
    }
   ],
   "source": [
    "df_chicago['duration_per_trip'].describe()"
   ]
  },
  {
   "cell_type": "markdown",
   "id": "c573a4fb",
   "metadata": {},
   "source": [
    "The average bike trip durates not longer than 18 minutes. The maximum bike trip on the other side takes approximately 10 hours. It could be possible that a user rent a bike and forgot to sign off."
   ]
  },
  {
   "cell_type": "markdown",
   "id": "fffbcd42",
   "metadata": {},
   "source": [
    "## 7 One bike trip at same time\n"
   ]
  },
  {
   "cell_type": "markdown",
   "id": "60b6e010",
   "metadata": {},
   "source": [
    "We continue our logical constraint by looking if only one ride is happening at the same time. Herefore, we use the bike_id and compare the bike trips based on start_time and end_time."
   ]
  },
  {
   "cell_type": "code",
   "execution_count": 43,
   "id": "9ef61478",
   "metadata": {},
   "outputs": [],
   "source": [
    "#Check if for every bike_id only one ride is happening at the same time\n",
    "\n",
    "df_bike_id = df_chicago.sort_values(by=['bike_id','start_time'], ascending=True)\n",
    "x_chicago = df_bike_id[['start_time','end_time', 'bike_id']]\n",
    "\n",
    "#Add columns next_ride and next_bike \n",
    "x_chicago = x_chicago.assign(next_bike_id=0)\n",
    "x_chicago['next_bike']= x_chicago['bike_id'].shift(periods=-1)\n",
    "x_chicago = x_chicago.assign(next_ride_start=0)\n",
    "x_chicago['next_ride']= x_chicago['start_time'].shift(periods=-1)"
   ]
  },
  {
   "cell_type": "code",
   "execution_count": 44,
   "id": "7d3e47fd",
   "metadata": {},
   "outputs": [
    {
     "name": "stdout",
     "output_type": "stream",
     "text": [
      "Wrong entrys: 7\n"
     ]
    }
   ],
   "source": [
    "#Compare if next trip is with the same bike\n",
    "x_chicago['compare_id'] = x_chicago.apply(lambda x: True if ((x['bike_id'] == x['next_bike'])) else False, axis=1)\n",
    "\n",
    "#Drop last row because of nan\n",
    "x_chicago = x_chicago.dropna() \n",
    "\n",
    "x_chicago['check'] = x_chicago.apply(lambda x: True if ((x['next_ride'] >= x['end_time'])) else False, axis=1)\n",
    "\n",
    "#Find wrong entrys \n",
    "df_trips_at_same_time = x_chicago[(x_chicago['check']==False)&(x_chicago['compare_id']==True)]\n",
    "\n",
    "print('Wrong entrys: '+str(len(df_trips_at_same_time)))"
   ]
  },
  {
   "cell_type": "code",
   "execution_count": 45,
   "id": "df82bed4",
   "metadata": {},
   "outputs": [
    {
     "name": "stdout",
     "output_type": "stream",
     "text": [
      "Entrys before this drop: 3599468\n",
      "[298904, 1369725, 2616557, 1302497, 3415934, 2654015, 1169398]\n"
     ]
    }
   ],
   "source": [
    "#Display wrong entries\n",
    "print('Entrys before this drop: ' + str(len(df_chicago)))\n",
    "same_time = list(df_trips_at_same_time.index)\n",
    "same_time\n",
    "print(same_time)"
   ]
  },
  {
   "cell_type": "markdown",
   "id": "fcb07af6",
   "metadata": {},
   "source": [
    "We have 7 bike trips which started at the same time. These entries will be dropped in the next steps."
   ]
  },
  {
   "cell_type": "code",
   "execution_count": 46,
   "id": "10e7e500",
   "metadata": {},
   "outputs": [],
   "source": [
    "#Drop wrong entries\n",
    "df_chicago = df_chicago.drop(same_time)"
   ]
  },
  {
   "cell_type": "code",
   "execution_count": 47,
   "id": "0ebe3a55",
   "metadata": {},
   "outputs": [
    {
     "name": "stdout",
     "output_type": "stream",
     "text": [
      "Entrys after this drop: 3599461\n"
     ]
    }
   ],
   "source": [
    "print('Entrys after this drop: ' + str(len(df_chicago)))"
   ]
  },
  {
   "cell_type": "code",
   "execution_count": 48,
   "id": "d923e272",
   "metadata": {},
   "outputs": [
    {
     "name": "stdout",
     "output_type": "stream",
     "text": [
      "<class 'pandas.core.frame.DataFrame'>\n",
      "Int64Index: 3599461 entries, 0 to 3603081\n",
      "Data columns (total 10 columns):\n",
      " #   Column              Dtype          \n",
      "---  ------              -----          \n",
      " 0   start_time          datetime64[ns] \n",
      " 1   end_time            datetime64[ns] \n",
      " 2   start_station_id    int64          \n",
      " 3   end_station_id      int64          \n",
      " 4   start_station_name  object         \n",
      " 5   end_station_name    object         \n",
      " 6   bike_id             int64          \n",
      " 7   user_type           object         \n",
      " 8   duration_per_trip   timedelta64[ns]\n",
      " 9   trip_time_in_hours  float64        \n",
      "dtypes: datetime64[ns](2), float64(1), int64(3), object(3), timedelta64[ns](1)\n",
      "memory usage: 302.1+ MB\n"
     ]
    }
   ],
   "source": [
    "df_chicago.info()"
   ]
  },
  {
   "cell_type": "markdown",
   "id": "8bd75470",
   "metadata": {},
   "source": [
    "## 8 Export\n"
   ]
  },
  {
   "cell_type": "markdown",
   "id": "ae5e6b93",
   "metadata": {},
   "source": [
    "Since the data preparation phase is completed, the dataset needs to be exported to use it for further analyzing."
   ]
  },
  {
   "cell_type": "code",
   "execution_count": 49,
   "id": "c824e151",
   "metadata": {},
   "outputs": [],
   "source": [
    "#Export dataset\n",
    "df_chicago.to_csv(r'../dataset/chicago_2018_clean.csv', index = False)"
   ]
  }
 ],
 "metadata": {
  "kernelspec": {
   "display_name": "Python 3 (ipykernel)",
   "language": "python",
   "name": "python3"
  },
  "language_info": {
   "codemirror_mode": {
    "name": "ipython",
    "version": 3
   },
   "file_extension": ".py",
   "mimetype": "text/x-python",
   "name": "python",
   "nbconvert_exporter": "python",
   "pygments_lexer": "ipython3",
   "version": "3.9.12"
  }
 },
 "nbformat": 4,
 "nbformat_minor": 5
}
