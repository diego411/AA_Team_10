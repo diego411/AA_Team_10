{
 "cells": [
  {
   "cell_type": "markdown",
   "id": "1b69351a",
   "metadata": {},
   "source": [
    "# Weather Data Preparation"
   ]
  },
  {
   "cell_type": "markdown",
   "id": "49cc1d29",
   "metadata": {},
   "source": [
    "In this notebook we clean and prepare the weather dataset for chicago in the year 2018 for the usage in later stages of our project."
   ]
  },
  {
   "cell_type": "markdown",
   "id": "a1c2bf94",
   "metadata": {},
   "source": [
    "## 1 Imports"
   ]
  },
  {
   "cell_type": "code",
   "execution_count": 1,
   "id": "0a298ffd",
   "metadata": {},
   "outputs": [],
   "source": [
    "import numpy as np\n",
    "import pandas as pd\n",
    "import seaborn as sns\n",
    "import matplotlib.pyplot as plt\n",
    "from datetime import datetime, timedelta\n",
    "\n",
    "%matplotlib inline"
   ]
  },
  {
   "cell_type": "markdown",
   "id": "c2a4e1a5",
   "metadata": {},
   "source": [
    "Load Weather Dataset"
   ]
  },
  {
   "cell_type": "code",
   "execution_count": 2,
   "id": "e10972ae",
   "metadata": {
    "scrolled": true
   },
   "outputs": [
    {
     "data": {
      "text/html": [
       "<div>\n",
       "<style scoped>\n",
       "    .dataframe tbody tr th:only-of-type {\n",
       "        vertical-align: middle;\n",
       "    }\n",
       "\n",
       "    .dataframe tbody tr th {\n",
       "        vertical-align: top;\n",
       "    }\n",
       "\n",
       "    .dataframe thead th {\n",
       "        text-align: right;\n",
       "    }\n",
       "</style>\n",
       "<table border=\"1\" class=\"dataframe\">\n",
       "  <thead>\n",
       "    <tr style=\"text-align: right;\">\n",
       "      <th></th>\n",
       "      <th>date_time</th>\n",
       "      <th>max_temp</th>\n",
       "      <th>min_temp</th>\n",
       "      <th>precip</th>\n",
       "    </tr>\n",
       "  </thead>\n",
       "  <tbody>\n",
       "    <tr>\n",
       "      <th>0</th>\n",
       "      <td>2015-01-02 01:00:00</td>\n",
       "      <td>-1.7</td>\n",
       "      <td>-1.7</td>\n",
       "      <td>0.0</td>\n",
       "    </tr>\n",
       "    <tr>\n",
       "      <th>1</th>\n",
       "      <td>2015-01-02 02:00:00</td>\n",
       "      <td>-2.2</td>\n",
       "      <td>-2.2</td>\n",
       "      <td>0.0</td>\n",
       "    </tr>\n",
       "    <tr>\n",
       "      <th>2</th>\n",
       "      <td>2015-01-02 03:00:00</td>\n",
       "      <td>-2.8</td>\n",
       "      <td>-2.8</td>\n",
       "      <td>0.0</td>\n",
       "    </tr>\n",
       "    <tr>\n",
       "      <th>3</th>\n",
       "      <td>2015-01-02 04:00:00</td>\n",
       "      <td>-3.3</td>\n",
       "      <td>-3.3</td>\n",
       "      <td>0.0</td>\n",
       "    </tr>\n",
       "    <tr>\n",
       "      <th>4</th>\n",
       "      <td>2015-01-02 05:00:00</td>\n",
       "      <td>-4.4</td>\n",
       "      <td>-4.4</td>\n",
       "      <td>0.0</td>\n",
       "    </tr>\n",
       "  </tbody>\n",
       "</table>\n",
       "</div>"
      ],
      "text/plain": [
       "             date_time  max_temp  min_temp  precip\n",
       "0  2015-01-02 01:00:00      -1.7      -1.7     0.0\n",
       "1  2015-01-02 02:00:00      -2.2      -2.2     0.0\n",
       "2  2015-01-02 03:00:00      -2.8      -2.8     0.0\n",
       "3  2015-01-02 04:00:00      -3.3      -3.3     0.0\n",
       "4  2015-01-02 05:00:00      -4.4      -4.4     0.0"
      ]
     },
     "execution_count": 2,
     "metadata": {},
     "output_type": "execute_result"
    }
   ],
   "source": [
    "df_chicago_weather = pd.read_csv('../dataset/weather_hourly_chicago.csv')\n",
    "df_chicago_weather.head()"
   ]
  },
  {
   "cell_type": "code",
   "execution_count": 3,
   "id": "24b76485",
   "metadata": {},
   "outputs": [
    {
     "data": {
      "text/plain": [
       "43848"
      ]
     },
     "execution_count": 3,
     "metadata": {},
     "output_type": "execute_result"
    }
   ],
   "source": [
    "len(df_chicago_weather)"
   ]
  },
  {
   "cell_type": "markdown",
   "id": "03079a4c",
   "metadata": {},
   "source": [
    "## 2 NaN Values"
   ]
  },
  {
   "cell_type": "code",
   "execution_count": 4,
   "id": "a2e939fe",
   "metadata": {
    "scrolled": false
   },
   "outputs": [
    {
     "data": {
      "text/plain": [
       "date_time    60\n",
       "max_temp     60\n",
       "min_temp     60\n",
       "precip       58\n",
       "dtype: int64"
      ]
     },
     "execution_count": 4,
     "metadata": {},
     "output_type": "execute_result"
    }
   ],
   "source": [
    "df_chicago_weather.isnull().sum()"
   ]
  },
  {
   "cell_type": "code",
   "execution_count": 5,
   "id": "9972aad6",
   "metadata": {
    "scrolled": false
   },
   "outputs": [
    {
     "name": "stdout",
     "output_type": "stream",
     "text": [
      "There are 60 NaN values for the key max_temp\n"
     ]
    },
    {
     "data": {
      "text/html": [
       "<div>\n",
       "<style scoped>\n",
       "    .dataframe tbody tr th:only-of-type {\n",
       "        vertical-align: middle;\n",
       "    }\n",
       "\n",
       "    .dataframe tbody tr th {\n",
       "        vertical-align: top;\n",
       "    }\n",
       "\n",
       "    .dataframe thead th {\n",
       "        text-align: right;\n",
       "    }\n",
       "</style>\n",
       "<table border=\"1\" class=\"dataframe\">\n",
       "  <thead>\n",
       "    <tr style=\"text-align: right;\">\n",
       "      <th></th>\n",
       "      <th>date_time</th>\n",
       "      <th>max_temp</th>\n",
       "      <th>min_temp</th>\n",
       "      <th>precip</th>\n",
       "    </tr>\n",
       "  </thead>\n",
       "  <tbody>\n",
       "    <tr>\n",
       "      <th>1589</th>\n",
       "      <td>NaN</td>\n",
       "      <td>NaN</td>\n",
       "      <td>NaN</td>\n",
       "      <td>NaN</td>\n",
       "    </tr>\n",
       "    <tr>\n",
       "      <th>2537</th>\n",
       "      <td>NaN</td>\n",
       "      <td>NaN</td>\n",
       "      <td>NaN</td>\n",
       "      <td>NaN</td>\n",
       "    </tr>\n",
       "    <tr>\n",
       "      <th>3988</th>\n",
       "      <td>NaN</td>\n",
       "      <td>NaN</td>\n",
       "      <td>NaN</td>\n",
       "      <td>NaN</td>\n",
       "    </tr>\n",
       "    <tr>\n",
       "      <th>4013</th>\n",
       "      <td>NaN</td>\n",
       "      <td>NaN</td>\n",
       "      <td>NaN</td>\n",
       "      <td>NaN</td>\n",
       "    </tr>\n",
       "    <tr>\n",
       "      <th>4014</th>\n",
       "      <td>NaN</td>\n",
       "      <td>NaN</td>\n",
       "      <td>NaN</td>\n",
       "      <td>NaN</td>\n",
       "    </tr>\n",
       "    <tr>\n",
       "      <th>4015</th>\n",
       "      <td>NaN</td>\n",
       "      <td>NaN</td>\n",
       "      <td>NaN</td>\n",
       "      <td>NaN</td>\n",
       "    </tr>\n",
       "    <tr>\n",
       "      <th>4016</th>\n",
       "      <td>NaN</td>\n",
       "      <td>NaN</td>\n",
       "      <td>NaN</td>\n",
       "      <td>NaN</td>\n",
       "    </tr>\n",
       "    <tr>\n",
       "      <th>4017</th>\n",
       "      <td>NaN</td>\n",
       "      <td>NaN</td>\n",
       "      <td>NaN</td>\n",
       "      <td>NaN</td>\n",
       "    </tr>\n",
       "    <tr>\n",
       "      <th>4083</th>\n",
       "      <td>NaN</td>\n",
       "      <td>NaN</td>\n",
       "      <td>NaN</td>\n",
       "      <td>NaN</td>\n",
       "    </tr>\n",
       "    <tr>\n",
       "      <th>4084</th>\n",
       "      <td>NaN</td>\n",
       "      <td>NaN</td>\n",
       "      <td>NaN</td>\n",
       "      <td>NaN</td>\n",
       "    </tr>\n",
       "    <tr>\n",
       "      <th>4324</th>\n",
       "      <td>NaN</td>\n",
       "      <td>NaN</td>\n",
       "      <td>NaN</td>\n",
       "      <td>NaN</td>\n",
       "    </tr>\n",
       "    <tr>\n",
       "      <th>6578</th>\n",
       "      <td>NaN</td>\n",
       "      <td>NaN</td>\n",
       "      <td>NaN</td>\n",
       "      <td>NaN</td>\n",
       "    </tr>\n",
       "    <tr>\n",
       "      <th>6579</th>\n",
       "      <td>NaN</td>\n",
       "      <td>NaN</td>\n",
       "      <td>NaN</td>\n",
       "      <td>NaN</td>\n",
       "    </tr>\n",
       "    <tr>\n",
       "      <th>6580</th>\n",
       "      <td>NaN</td>\n",
       "      <td>NaN</td>\n",
       "      <td>NaN</td>\n",
       "      <td>NaN</td>\n",
       "    </tr>\n",
       "    <tr>\n",
       "      <th>6605</th>\n",
       "      <td>NaN</td>\n",
       "      <td>NaN</td>\n",
       "      <td>NaN</td>\n",
       "      <td>NaN</td>\n",
       "    </tr>\n",
       "    <tr>\n",
       "      <th>6606</th>\n",
       "      <td>NaN</td>\n",
       "      <td>NaN</td>\n",
       "      <td>NaN</td>\n",
       "      <td>NaN</td>\n",
       "    </tr>\n",
       "    <tr>\n",
       "      <th>10493</th>\n",
       "      <td>NaN</td>\n",
       "      <td>NaN</td>\n",
       "      <td>NaN</td>\n",
       "      <td>NaN</td>\n",
       "    </tr>\n",
       "    <tr>\n",
       "      <th>11330</th>\n",
       "      <td>NaN</td>\n",
       "      <td>NaN</td>\n",
       "      <td>NaN</td>\n",
       "      <td>NaN</td>\n",
       "    </tr>\n",
       "    <tr>\n",
       "      <th>12668</th>\n",
       "      <td>NaN</td>\n",
       "      <td>NaN</td>\n",
       "      <td>NaN</td>\n",
       "      <td>NaN</td>\n",
       "    </tr>\n",
       "    <tr>\n",
       "      <th>13120</th>\n",
       "      <td>NaN</td>\n",
       "      <td>NaN</td>\n",
       "      <td>NaN</td>\n",
       "      <td>0.0</td>\n",
       "    </tr>\n",
       "    <tr>\n",
       "      <th>16914</th>\n",
       "      <td>NaN</td>\n",
       "      <td>NaN</td>\n",
       "      <td>NaN</td>\n",
       "      <td>NaN</td>\n",
       "    </tr>\n",
       "    <tr>\n",
       "      <th>19229</th>\n",
       "      <td>NaN</td>\n",
       "      <td>NaN</td>\n",
       "      <td>NaN</td>\n",
       "      <td>NaN</td>\n",
       "    </tr>\n",
       "    <tr>\n",
       "      <th>20711</th>\n",
       "      <td>NaN</td>\n",
       "      <td>NaN</td>\n",
       "      <td>NaN</td>\n",
       "      <td>NaN</td>\n",
       "    </tr>\n",
       "    <tr>\n",
       "      <th>21579</th>\n",
       "      <td>NaN</td>\n",
       "      <td>NaN</td>\n",
       "      <td>NaN</td>\n",
       "      <td>NaN</td>\n",
       "    </tr>\n",
       "    <tr>\n",
       "      <th>21580</th>\n",
       "      <td>NaN</td>\n",
       "      <td>NaN</td>\n",
       "      <td>NaN</td>\n",
       "      <td>NaN</td>\n",
       "    </tr>\n",
       "    <tr>\n",
       "      <th>22305</th>\n",
       "      <td>NaN</td>\n",
       "      <td>NaN</td>\n",
       "      <td>NaN</td>\n",
       "      <td>NaN</td>\n",
       "    </tr>\n",
       "    <tr>\n",
       "      <th>23022</th>\n",
       "      <td>NaN</td>\n",
       "      <td>NaN</td>\n",
       "      <td>NaN</td>\n",
       "      <td>NaN</td>\n",
       "    </tr>\n",
       "    <tr>\n",
       "      <th>23023</th>\n",
       "      <td>NaN</td>\n",
       "      <td>NaN</td>\n",
       "      <td>NaN</td>\n",
       "      <td>NaN</td>\n",
       "    </tr>\n",
       "    <tr>\n",
       "      <th>23024</th>\n",
       "      <td>NaN</td>\n",
       "      <td>NaN</td>\n",
       "      <td>NaN</td>\n",
       "      <td>NaN</td>\n",
       "    </tr>\n",
       "    <tr>\n",
       "      <th>23025</th>\n",
       "      <td>NaN</td>\n",
       "      <td>NaN</td>\n",
       "      <td>NaN</td>\n",
       "      <td>NaN</td>\n",
       "    </tr>\n",
       "    <tr>\n",
       "      <th>27965</th>\n",
       "      <td>NaN</td>\n",
       "      <td>NaN</td>\n",
       "      <td>NaN</td>\n",
       "      <td>NaN</td>\n",
       "    </tr>\n",
       "    <tr>\n",
       "      <th>28518</th>\n",
       "      <td>NaN</td>\n",
       "      <td>NaN</td>\n",
       "      <td>NaN</td>\n",
       "      <td>NaN</td>\n",
       "    </tr>\n",
       "    <tr>\n",
       "      <th>28683</th>\n",
       "      <td>NaN</td>\n",
       "      <td>NaN</td>\n",
       "      <td>NaN</td>\n",
       "      <td>NaN</td>\n",
       "    </tr>\n",
       "    <tr>\n",
       "      <th>28684</th>\n",
       "      <td>NaN</td>\n",
       "      <td>NaN</td>\n",
       "      <td>NaN</td>\n",
       "      <td>NaN</td>\n",
       "    </tr>\n",
       "    <tr>\n",
       "      <th>29356</th>\n",
       "      <td>NaN</td>\n",
       "      <td>NaN</td>\n",
       "      <td>NaN</td>\n",
       "      <td>NaN</td>\n",
       "    </tr>\n",
       "    <tr>\n",
       "      <th>29380</th>\n",
       "      <td>NaN</td>\n",
       "      <td>NaN</td>\n",
       "      <td>NaN</td>\n",
       "      <td>NaN</td>\n",
       "    </tr>\n",
       "    <tr>\n",
       "      <th>29381</th>\n",
       "      <td>NaN</td>\n",
       "      <td>NaN</td>\n",
       "      <td>NaN</td>\n",
       "      <td>NaN</td>\n",
       "    </tr>\n",
       "    <tr>\n",
       "      <th>29382</th>\n",
       "      <td>NaN</td>\n",
       "      <td>NaN</td>\n",
       "      <td>NaN</td>\n",
       "      <td>NaN</td>\n",
       "    </tr>\n",
       "    <tr>\n",
       "      <th>29405</th>\n",
       "      <td>NaN</td>\n",
       "      <td>NaN</td>\n",
       "      <td>NaN</td>\n",
       "      <td>NaN</td>\n",
       "    </tr>\n",
       "    <tr>\n",
       "      <th>30230</th>\n",
       "      <td>NaN</td>\n",
       "      <td>NaN</td>\n",
       "      <td>NaN</td>\n",
       "      <td>0.0</td>\n",
       "    </tr>\n",
       "    <tr>\n",
       "      <th>31639</th>\n",
       "      <td>NaN</td>\n",
       "      <td>NaN</td>\n",
       "      <td>NaN</td>\n",
       "      <td>NaN</td>\n",
       "    </tr>\n",
       "    <tr>\n",
       "      <th>31640</th>\n",
       "      <td>NaN</td>\n",
       "      <td>NaN</td>\n",
       "      <td>NaN</td>\n",
       "      <td>NaN</td>\n",
       "    </tr>\n",
       "    <tr>\n",
       "      <th>31641</th>\n",
       "      <td>NaN</td>\n",
       "      <td>NaN</td>\n",
       "      <td>NaN</td>\n",
       "      <td>NaN</td>\n",
       "    </tr>\n",
       "    <tr>\n",
       "      <th>31642</th>\n",
       "      <td>NaN</td>\n",
       "      <td>NaN</td>\n",
       "      <td>NaN</td>\n",
       "      <td>NaN</td>\n",
       "    </tr>\n",
       "    <tr>\n",
       "      <th>31643</th>\n",
       "      <td>NaN</td>\n",
       "      <td>NaN</td>\n",
       "      <td>NaN</td>\n",
       "      <td>NaN</td>\n",
       "    </tr>\n",
       "    <tr>\n",
       "      <th>31975</th>\n",
       "      <td>NaN</td>\n",
       "      <td>NaN</td>\n",
       "      <td>NaN</td>\n",
       "      <td>NaN</td>\n",
       "    </tr>\n",
       "    <tr>\n",
       "      <th>31976</th>\n",
       "      <td>NaN</td>\n",
       "      <td>NaN</td>\n",
       "      <td>NaN</td>\n",
       "      <td>NaN</td>\n",
       "    </tr>\n",
       "    <tr>\n",
       "      <th>31977</th>\n",
       "      <td>NaN</td>\n",
       "      <td>NaN</td>\n",
       "      <td>NaN</td>\n",
       "      <td>NaN</td>\n",
       "    </tr>\n",
       "    <tr>\n",
       "      <th>31978</th>\n",
       "      <td>NaN</td>\n",
       "      <td>NaN</td>\n",
       "      <td>NaN</td>\n",
       "      <td>NaN</td>\n",
       "    </tr>\n",
       "    <tr>\n",
       "      <th>31979</th>\n",
       "      <td>NaN</td>\n",
       "      <td>NaN</td>\n",
       "      <td>NaN</td>\n",
       "      <td>NaN</td>\n",
       "    </tr>\n",
       "    <tr>\n",
       "      <th>33220</th>\n",
       "      <td>NaN</td>\n",
       "      <td>NaN</td>\n",
       "      <td>NaN</td>\n",
       "      <td>NaN</td>\n",
       "    </tr>\n",
       "    <tr>\n",
       "      <th>34378</th>\n",
       "      <td>NaN</td>\n",
       "      <td>NaN</td>\n",
       "      <td>NaN</td>\n",
       "      <td>NaN</td>\n",
       "    </tr>\n",
       "    <tr>\n",
       "      <th>36701</th>\n",
       "      <td>NaN</td>\n",
       "      <td>NaN</td>\n",
       "      <td>NaN</td>\n",
       "      <td>NaN</td>\n",
       "    </tr>\n",
       "    <tr>\n",
       "      <th>37786</th>\n",
       "      <td>NaN</td>\n",
       "      <td>NaN</td>\n",
       "      <td>NaN</td>\n",
       "      <td>NaN</td>\n",
       "    </tr>\n",
       "    <tr>\n",
       "      <th>38933</th>\n",
       "      <td>NaN</td>\n",
       "      <td>NaN</td>\n",
       "      <td>NaN</td>\n",
       "      <td>NaN</td>\n",
       "    </tr>\n",
       "    <tr>\n",
       "      <th>38934</th>\n",
       "      <td>NaN</td>\n",
       "      <td>NaN</td>\n",
       "      <td>NaN</td>\n",
       "      <td>NaN</td>\n",
       "    </tr>\n",
       "    <tr>\n",
       "      <th>38935</th>\n",
       "      <td>NaN</td>\n",
       "      <td>NaN</td>\n",
       "      <td>NaN</td>\n",
       "      <td>NaN</td>\n",
       "    </tr>\n",
       "    <tr>\n",
       "      <th>38936</th>\n",
       "      <td>NaN</td>\n",
       "      <td>NaN</td>\n",
       "      <td>NaN</td>\n",
       "      <td>NaN</td>\n",
       "    </tr>\n",
       "    <tr>\n",
       "      <th>38937</th>\n",
       "      <td>NaN</td>\n",
       "      <td>NaN</td>\n",
       "      <td>NaN</td>\n",
       "      <td>NaN</td>\n",
       "    </tr>\n",
       "    <tr>\n",
       "      <th>38938</th>\n",
       "      <td>NaN</td>\n",
       "      <td>NaN</td>\n",
       "      <td>NaN</td>\n",
       "      <td>NaN</td>\n",
       "    </tr>\n",
       "  </tbody>\n",
       "</table>\n",
       "</div>"
      ],
      "text/plain": [
       "      date_time  max_temp  min_temp  precip\n",
       "1589        NaN       NaN       NaN     NaN\n",
       "2537        NaN       NaN       NaN     NaN\n",
       "3988        NaN       NaN       NaN     NaN\n",
       "4013        NaN       NaN       NaN     NaN\n",
       "4014        NaN       NaN       NaN     NaN\n",
       "4015        NaN       NaN       NaN     NaN\n",
       "4016        NaN       NaN       NaN     NaN\n",
       "4017        NaN       NaN       NaN     NaN\n",
       "4083        NaN       NaN       NaN     NaN\n",
       "4084        NaN       NaN       NaN     NaN\n",
       "4324        NaN       NaN       NaN     NaN\n",
       "6578        NaN       NaN       NaN     NaN\n",
       "6579        NaN       NaN       NaN     NaN\n",
       "6580        NaN       NaN       NaN     NaN\n",
       "6605        NaN       NaN       NaN     NaN\n",
       "6606        NaN       NaN       NaN     NaN\n",
       "10493       NaN       NaN       NaN     NaN\n",
       "11330       NaN       NaN       NaN     NaN\n",
       "12668       NaN       NaN       NaN     NaN\n",
       "13120       NaN       NaN       NaN     0.0\n",
       "16914       NaN       NaN       NaN     NaN\n",
       "19229       NaN       NaN       NaN     NaN\n",
       "20711       NaN       NaN       NaN     NaN\n",
       "21579       NaN       NaN       NaN     NaN\n",
       "21580       NaN       NaN       NaN     NaN\n",
       "22305       NaN       NaN       NaN     NaN\n",
       "23022       NaN       NaN       NaN     NaN\n",
       "23023       NaN       NaN       NaN     NaN\n",
       "23024       NaN       NaN       NaN     NaN\n",
       "23025       NaN       NaN       NaN     NaN\n",
       "27965       NaN       NaN       NaN     NaN\n",
       "28518       NaN       NaN       NaN     NaN\n",
       "28683       NaN       NaN       NaN     NaN\n",
       "28684       NaN       NaN       NaN     NaN\n",
       "29356       NaN       NaN       NaN     NaN\n",
       "29380       NaN       NaN       NaN     NaN\n",
       "29381       NaN       NaN       NaN     NaN\n",
       "29382       NaN       NaN       NaN     NaN\n",
       "29405       NaN       NaN       NaN     NaN\n",
       "30230       NaN       NaN       NaN     0.0\n",
       "31639       NaN       NaN       NaN     NaN\n",
       "31640       NaN       NaN       NaN     NaN\n",
       "31641       NaN       NaN       NaN     NaN\n",
       "31642       NaN       NaN       NaN     NaN\n",
       "31643       NaN       NaN       NaN     NaN\n",
       "31975       NaN       NaN       NaN     NaN\n",
       "31976       NaN       NaN       NaN     NaN\n",
       "31977       NaN       NaN       NaN     NaN\n",
       "31978       NaN       NaN       NaN     NaN\n",
       "31979       NaN       NaN       NaN     NaN\n",
       "33220       NaN       NaN       NaN     NaN\n",
       "34378       NaN       NaN       NaN     NaN\n",
       "36701       NaN       NaN       NaN     NaN\n",
       "37786       NaN       NaN       NaN     NaN\n",
       "38933       NaN       NaN       NaN     NaN\n",
       "38934       NaN       NaN       NaN     NaN\n",
       "38935       NaN       NaN       NaN     NaN\n",
       "38936       NaN       NaN       NaN     NaN\n",
       "38937       NaN       NaN       NaN     NaN\n",
       "38938       NaN       NaN       NaN     NaN"
      ]
     },
     "execution_count": 5,
     "metadata": {},
     "output_type": "execute_result"
    }
   ],
   "source": [
    "nan_values_for_max_temp = df_chicago_weather.loc[np.isnan(df_chicago_weather['max_temp'])]\n",
    "print(\"There are\", len(nan_values_for_max_temp), \"NaN values for the key max_temp\")\n",
    "nan_values_for_max_temp"
   ]
  },
  {
   "cell_type": "markdown",
   "id": "a8045901",
   "metadata": {},
   "source": [
    "The table shows that every row which contains a NaN value for max_temp also contains NaN values for all ther columns (except for two rows which have a value for precip). This explains the 60 NaN values for max_value, min_value and date_time and the 58 NaN values for precip. Since we have NaN values in every column of the dataframe removing columns is not an option. For now we remove all rows containing NaN values (so the 60 rows you see above). We deal with missing data later on"
   ]
  },
  {
   "cell_type": "code",
   "execution_count": 6,
   "id": "b9723625",
   "metadata": {},
   "outputs": [],
   "source": [
    "df_chicago_weather = df_chicago_weather.dropna(axis=0, inplace=False)"
   ]
  },
  {
   "cell_type": "code",
   "execution_count": 7,
   "id": "3dc24de0",
   "metadata": {},
   "outputs": [
    {
     "data": {
      "text/plain": [
       "date_time    0\n",
       "max_temp     0\n",
       "min_temp     0\n",
       "precip       0\n",
       "dtype: int64"
      ]
     },
     "execution_count": 7,
     "metadata": {},
     "output_type": "execute_result"
    }
   ],
   "source": [
    "df_chicago_weather.isnull().sum()"
   ]
  },
  {
   "cell_type": "markdown",
   "id": "0395367a",
   "metadata": {},
   "source": [
    "## 3 Consistency "
   ]
  },
  {
   "cell_type": "code",
   "execution_count": 8,
   "id": "ddd89fe6",
   "metadata": {
    "scrolled": true
   },
   "outputs": [
    {
     "name": "stdout",
     "output_type": "stream",
     "text": [
      "<class 'pandas.core.frame.DataFrame'>\n",
      "Int64Index: 43788 entries, 0 to 43847\n",
      "Data columns (total 4 columns):\n",
      " #   Column     Non-Null Count  Dtype  \n",
      "---  ------     --------------  -----  \n",
      " 0   date_time  43788 non-null  object \n",
      " 1   max_temp   43788 non-null  float64\n",
      " 2   min_temp   43788 non-null  float64\n",
      " 3   precip     43788 non-null  float64\n",
      "dtypes: float64(3), object(1)\n",
      "memory usage: 1.7+ MB\n"
     ]
    }
   ],
   "source": [
    "df_chicago_weather.info()"
   ]
  },
  {
   "cell_type": "markdown",
   "id": "1f4dc612",
   "metadata": {},
   "source": [
    "Columns max_temp, min_temp and precip are all floating point numbers, so they are consistent in terms of their datatype. The datatype of the date_time column is object. In the following we make sure that the datetime column contains valid and consistent dates."
   ]
  },
  {
   "cell_type": "markdown",
   "id": "64cae918",
   "metadata": {},
   "source": [
    "### 3.1 Datetime"
   ]
  },
  {
   "cell_type": "markdown",
   "id": "3eade9f5",
   "metadata": {},
   "source": [
    "In order to check for the consistency of the datetimes we use the following function. The function tries to parse a date string using the datetime package and returns true if it managed to parse it without error."
   ]
  },
  {
   "cell_type": "code",
   "execution_count": 9,
   "id": "ad73a9d6",
   "metadata": {},
   "outputs": [],
   "source": [
    "def is_valid_datetime(date_string):\n",
    "    try:\n",
    "        datetime.strptime(date_string, '%Y-%m-%d %H:%M:%S')\n",
    "        return True\n",
    "    except ValueError:\n",
    "        return False"
   ]
  },
  {
   "cell_type": "code",
   "execution_count": 10,
   "id": "2d8a085a",
   "metadata": {
    "scrolled": true
   },
   "outputs": [
    {
     "data": {
      "text/plain": [
       "0"
      ]
     },
     "execution_count": 10,
     "metadata": {},
     "output_type": "execute_result"
    }
   ],
   "source": [
    "df_chicago_weather.apply(lambda row: not is_valid_datetime(row['date_time']), axis = 1).sum()"
   ]
  },
  {
   "cell_type": "markdown",
   "id": "b6bccfbc",
   "metadata": {},
   "source": [
    "As we can see all entries in the datetime column contain valid dates that all have the same format."
   ]
  },
  {
   "cell_type": "markdown",
   "id": "6ec0d59e",
   "metadata": {},
   "source": [
    "### 3.2 Precip"
   ]
  },
  {
   "cell_type": "markdown",
   "id": "ab936a5e",
   "metadata": {},
   "source": [
    "Precip is a dummy variable, which is equal to 1 if snow or rainfall was recorded for the given date and 0 otherwise. We already know the precip column only contains data of type float64, however we should also make sure it only contains values that are either 1 or 0."
   ]
  },
  {
   "cell_type": "code",
   "execution_count": 11,
   "id": "097c7dcf",
   "metadata": {},
   "outputs": [
    {
     "data": {
      "text/plain": [
       "0"
      ]
     },
     "execution_count": 11,
     "metadata": {},
     "output_type": "execute_result"
    }
   ],
   "source": [
    "def non_binary_precip_values(df):\n",
    "    return df['precip'].apply(lambda x: not x == 0 and not x == 1)\n",
    "\n",
    "non_binary_precip_values(df_chicago_weather).sum()"
   ]
  },
  {
   "cell_type": "markdown",
   "id": "e3b32dd5",
   "metadata": {},
   "source": [
    "As we can see no entries in the precip column have a value that is not 1 or 0."
   ]
  },
  {
   "cell_type": "markdown",
   "id": "3ae94ab2",
   "metadata": {},
   "source": [
    "### 3.3 Min and Max Temperature"
   ]
  },
  {
   "cell_type": "markdown",
   "id": "2f450661",
   "metadata": {},
   "source": [
    "Regarding the max_temp and min_temp columns we already know only values of type float64 are present. Since technically any floating point number is a valid temperature in celsius we dont need to do any additional consistency checks regarding the datatype here."
   ]
  },
  {
   "cell_type": "code",
   "execution_count": 12,
   "id": "1969dec2",
   "metadata": {},
   "outputs": [
    {
     "data": {
      "text/html": [
       "<div>\n",
       "<style scoped>\n",
       "    .dataframe tbody tr th:only-of-type {\n",
       "        vertical-align: middle;\n",
       "    }\n",
       "\n",
       "    .dataframe tbody tr th {\n",
       "        vertical-align: top;\n",
       "    }\n",
       "\n",
       "    .dataframe thead th {\n",
       "        text-align: right;\n",
       "    }\n",
       "</style>\n",
       "<table border=\"1\" class=\"dataframe\">\n",
       "  <thead>\n",
       "    <tr style=\"text-align: right;\">\n",
       "      <th></th>\n",
       "      <th>date_time</th>\n",
       "      <th>max_temp</th>\n",
       "      <th>min_temp</th>\n",
       "      <th>precip</th>\n",
       "    </tr>\n",
       "  </thead>\n",
       "  <tbody>\n",
       "  </tbody>\n",
       "</table>\n",
       "</div>"
      ],
      "text/plain": [
       "Empty DataFrame\n",
       "Columns: [date_time, max_temp, min_temp, precip]\n",
       "Index: []"
      ]
     },
     "execution_count": 12,
     "metadata": {},
     "output_type": "execute_result"
    }
   ],
   "source": [
    "df_chicago_weather.loc[df_chicago_weather['max_temp'] < df_chicago_weather['min_temp']]"
   ]
  },
  {
   "cell_type": "markdown",
   "id": "0900fbf4",
   "metadata": {},
   "source": [
    "Rows containing a larger value for the minimum temperature than for the maximum temperature should be removed. However, the dataframe contains no such data points."
   ]
  },
  {
   "cell_type": "code",
   "execution_count": 13,
   "id": "1f15234c",
   "metadata": {},
   "outputs": [
    {
     "data": {
      "text/plain": [
       "count    43788.000000\n",
       "mean        10.672707\n",
       "std         11.533530\n",
       "min        -30.600000\n",
       "25%          1.700000\n",
       "50%         11.100000\n",
       "75%         20.600000\n",
       "max         36.100000\n",
       "Name: min_temp, dtype: float64"
      ]
     },
     "execution_count": 13,
     "metadata": {},
     "output_type": "execute_result"
    }
   ],
   "source": [
    "df_chicago_weather['min_temp'].describe()"
   ]
  },
  {
   "cell_type": "code",
   "execution_count": 14,
   "id": "abe97efc",
   "metadata": {
    "scrolled": true
   },
   "outputs": [
    {
     "data": {
      "text/plain": [
       "count    43788.000000\n",
       "mean        10.741208\n",
       "std         11.540262\n",
       "min        -30.600000\n",
       "25%          1.700000\n",
       "50%         11.100000\n",
       "75%         20.600000\n",
       "max         36.100000\n",
       "Name: max_temp, dtype: float64"
      ]
     },
     "execution_count": 14,
     "metadata": {},
     "output_type": "execute_result"
    }
   ],
   "source": [
    "df_chicago_weather['max_temp'].describe()"
   ]
  },
  {
   "cell_type": "markdown",
   "id": "3c532923",
   "metadata": {},
   "source": [
    "The hottest and coolest temperature recorded in the dataset also seem reasonable."
   ]
  },
  {
   "cell_type": "markdown",
   "id": "10a087d1",
   "metadata": {},
   "source": [
    "## 4 Duplicates"
   ]
  },
  {
   "cell_type": "markdown",
   "id": "470fee19",
   "metadata": {},
   "source": [
    "### 4.1 Duplicate Rows"
   ]
  },
  {
   "cell_type": "code",
   "execution_count": 15,
   "id": "9e19744e",
   "metadata": {
    "scrolled": false
   },
   "outputs": [
    {
     "data": {
      "text/html": [
       "<div>\n",
       "<style scoped>\n",
       "    .dataframe tbody tr th:only-of-type {\n",
       "        vertical-align: middle;\n",
       "    }\n",
       "\n",
       "    .dataframe tbody tr th {\n",
       "        vertical-align: top;\n",
       "    }\n",
       "\n",
       "    .dataframe thead th {\n",
       "        text-align: right;\n",
       "    }\n",
       "</style>\n",
       "<table border=\"1\" class=\"dataframe\">\n",
       "  <thead>\n",
       "    <tr style=\"text-align: right;\">\n",
       "      <th></th>\n",
       "      <th>date_time</th>\n",
       "      <th>max_temp</th>\n",
       "      <th>min_temp</th>\n",
       "      <th>precip</th>\n",
       "    </tr>\n",
       "  </thead>\n",
       "  <tbody>\n",
       "    <tr>\n",
       "      <th>65</th>\n",
       "      <td>2015-01-03 18:00:00</td>\n",
       "      <td>0.6</td>\n",
       "      <td>0.6</td>\n",
       "      <td>1.0</td>\n",
       "    </tr>\n",
       "    <tr>\n",
       "      <th>66</th>\n",
       "      <td>2015-01-03 18:00:00</td>\n",
       "      <td>0.6</td>\n",
       "      <td>0.6</td>\n",
       "      <td>1.0</td>\n",
       "    </tr>\n",
       "    <tr>\n",
       "      <th>79</th>\n",
       "      <td>2015-01-04 08:00:00</td>\n",
       "      <td>0.6</td>\n",
       "      <td>0.6</td>\n",
       "      <td>1.0</td>\n",
       "    </tr>\n",
       "    <tr>\n",
       "      <th>80</th>\n",
       "      <td>2015-01-04 08:00:00</td>\n",
       "      <td>0.6</td>\n",
       "      <td>0.6</td>\n",
       "      <td>1.0</td>\n",
       "    </tr>\n",
       "    <tr>\n",
       "      <th>81</th>\n",
       "      <td>2015-01-04 10:00:00</td>\n",
       "      <td>0.0</td>\n",
       "      <td>0.0</td>\n",
       "      <td>1.0</td>\n",
       "    </tr>\n",
       "    <tr>\n",
       "      <th>...</th>\n",
       "      <td>...</td>\n",
       "      <td>...</td>\n",
       "      <td>...</td>\n",
       "      <td>...</td>\n",
       "    </tr>\n",
       "    <tr>\n",
       "      <th>43448</th>\n",
       "      <td>2019-12-16 08:00:00</td>\n",
       "      <td>-4.4</td>\n",
       "      <td>-4.4</td>\n",
       "      <td>1.0</td>\n",
       "    </tr>\n",
       "    <tr>\n",
       "      <th>43644</th>\n",
       "      <td>2019-12-24 13:00:00</td>\n",
       "      <td>0.6</td>\n",
       "      <td>0.6</td>\n",
       "      <td>0.0</td>\n",
       "    </tr>\n",
       "    <tr>\n",
       "      <th>43645</th>\n",
       "      <td>2019-12-24 13:00:00</td>\n",
       "      <td>0.6</td>\n",
       "      <td>0.6</td>\n",
       "      <td>0.0</td>\n",
       "    </tr>\n",
       "    <tr>\n",
       "      <th>43741</th>\n",
       "      <td>2019-12-28 14:00:00</td>\n",
       "      <td>2.2</td>\n",
       "      <td>1.7</td>\n",
       "      <td>0.0</td>\n",
       "    </tr>\n",
       "    <tr>\n",
       "      <th>43742</th>\n",
       "      <td>2019-12-28 14:00:00</td>\n",
       "      <td>2.2</td>\n",
       "      <td>1.7</td>\n",
       "      <td>0.0</td>\n",
       "    </tr>\n",
       "  </tbody>\n",
       "</table>\n",
       "<p>1328 rows × 4 columns</p>\n",
       "</div>"
      ],
      "text/plain": [
       "                 date_time  max_temp  min_temp  precip\n",
       "65     2015-01-03 18:00:00       0.6       0.6     1.0\n",
       "66     2015-01-03 18:00:00       0.6       0.6     1.0\n",
       "79     2015-01-04 08:00:00       0.6       0.6     1.0\n",
       "80     2015-01-04 08:00:00       0.6       0.6     1.0\n",
       "81     2015-01-04 10:00:00       0.0       0.0     1.0\n",
       "...                    ...       ...       ...     ...\n",
       "43448  2019-12-16 08:00:00      -4.4      -4.4     1.0\n",
       "43644  2019-12-24 13:00:00       0.6       0.6     0.0\n",
       "43645  2019-12-24 13:00:00       0.6       0.6     0.0\n",
       "43741  2019-12-28 14:00:00       2.2       1.7     0.0\n",
       "43742  2019-12-28 14:00:00       2.2       1.7     0.0\n",
       "\n",
       "[1328 rows x 4 columns]"
      ]
     },
     "execution_count": 15,
     "metadata": {},
     "output_type": "execute_result"
    }
   ],
   "source": [
    "df_chicago_weather[df_chicago_weather.duplicated(keep=False)]"
   ]
  },
  {
   "cell_type": "markdown",
   "id": "585d8c16",
   "metadata": {},
   "source": [
    "There are 1328 duplicate rows in the dataset. We only keep the last recorded entry for duplicate rows. We choose to keep the last recorded entry over the first because a possible reason for duplicates might be rerecordings in the case of equipment malfunctions or similar issures. In such a situation the last recoreded entry should be the most trustworthy. "
   ]
  },
  {
   "cell_type": "code",
   "execution_count": 16,
   "id": "68d025ae",
   "metadata": {},
   "outputs": [],
   "source": [
    "df_chicago_weather = df_chicago_weather.drop_duplicates(keep='last')"
   ]
  },
  {
   "cell_type": "code",
   "execution_count": 17,
   "id": "8613e183",
   "metadata": {
    "scrolled": false
   },
   "outputs": [
    {
     "data": {
      "text/html": [
       "<div>\n",
       "<style scoped>\n",
       "    .dataframe tbody tr th:only-of-type {\n",
       "        vertical-align: middle;\n",
       "    }\n",
       "\n",
       "    .dataframe tbody tr th {\n",
       "        vertical-align: top;\n",
       "    }\n",
       "\n",
       "    .dataframe thead th {\n",
       "        text-align: right;\n",
       "    }\n",
       "</style>\n",
       "<table border=\"1\" class=\"dataframe\">\n",
       "  <thead>\n",
       "    <tr style=\"text-align: right;\">\n",
       "      <th></th>\n",
       "      <th>date_time</th>\n",
       "      <th>max_temp</th>\n",
       "      <th>min_temp</th>\n",
       "      <th>precip</th>\n",
       "    </tr>\n",
       "  </thead>\n",
       "  <tbody>\n",
       "  </tbody>\n",
       "</table>\n",
       "</div>"
      ],
      "text/plain": [
       "Empty DataFrame\n",
       "Columns: [date_time, max_temp, min_temp, precip]\n",
       "Index: []"
      ]
     },
     "execution_count": 17,
     "metadata": {},
     "output_type": "execute_result"
    }
   ],
   "source": [
    "df_chicago_weather[df_chicago_weather.duplicated(keep=False)]"
   ]
  },
  {
   "cell_type": "markdown",
   "id": "a12d8324",
   "metadata": {},
   "source": [
    "### 4.2 Duplicate Dates"
   ]
  },
  {
   "cell_type": "markdown",
   "id": "f3cc8f13",
   "metadata": {},
   "source": [
    "There are also multiple rows that have data for the same dates. For these instances we decided to take the average and remove duplicate entries."
   ]
  },
  {
   "cell_type": "code",
   "execution_count": 18,
   "id": "b3f6c5a2",
   "metadata": {
    "scrolled": false
   },
   "outputs": [
    {
     "data": {
      "text/html": [
       "<div>\n",
       "<style scoped>\n",
       "    .dataframe tbody tr th:only-of-type {\n",
       "        vertical-align: middle;\n",
       "    }\n",
       "\n",
       "    .dataframe tbody tr th {\n",
       "        vertical-align: top;\n",
       "    }\n",
       "\n",
       "    .dataframe thead th {\n",
       "        text-align: right;\n",
       "    }\n",
       "</style>\n",
       "<table border=\"1\" class=\"dataframe\">\n",
       "  <thead>\n",
       "    <tr style=\"text-align: right;\">\n",
       "      <th></th>\n",
       "      <th>date_time</th>\n",
       "      <th>max_temp</th>\n",
       "      <th>min_temp</th>\n",
       "      <th>precip</th>\n",
       "    </tr>\n",
       "  </thead>\n",
       "  <tbody>\n",
       "    <tr>\n",
       "      <th>48</th>\n",
       "      <td>2015-01-04 00:00:00</td>\n",
       "      <td>0.6</td>\n",
       "      <td>0.6</td>\n",
       "      <td>1.0</td>\n",
       "    </tr>\n",
       "    <tr>\n",
       "      <th>50</th>\n",
       "      <td>2015-01-04 03:00:00</td>\n",
       "      <td>0.6</td>\n",
       "      <td>0.6</td>\n",
       "      <td>1.0</td>\n",
       "    </tr>\n",
       "    <tr>\n",
       "      <th>51</th>\n",
       "      <td>2015-01-04 03:00:00</td>\n",
       "      <td>1.1</td>\n",
       "      <td>0.6</td>\n",
       "      <td>1.0</td>\n",
       "    </tr>\n",
       "    <tr>\n",
       "      <th>55</th>\n",
       "      <td>2015-01-03 08:00:00</td>\n",
       "      <td>-0.6</td>\n",
       "      <td>-0.6</td>\n",
       "      <td>0.0</td>\n",
       "    </tr>\n",
       "    <tr>\n",
       "      <th>56</th>\n",
       "      <td>2015-01-03 08:00:00</td>\n",
       "      <td>-0.6</td>\n",
       "      <td>-1.1</td>\n",
       "      <td>1.0</td>\n",
       "    </tr>\n",
       "    <tr>\n",
       "      <th>...</th>\n",
       "      <td>...</td>\n",
       "      <td>...</td>\n",
       "      <td>...</td>\n",
       "      <td>...</td>\n",
       "    </tr>\n",
       "    <tr>\n",
       "      <th>43798</th>\n",
       "      <td>2019-12-30 23:00:00</td>\n",
       "      <td>-1.7</td>\n",
       "      <td>-1.7</td>\n",
       "      <td>1.0</td>\n",
       "    </tr>\n",
       "    <tr>\n",
       "      <th>43799</th>\n",
       "      <td>2019-12-30 23:00:00</td>\n",
       "      <td>-1.1</td>\n",
       "      <td>-1.7</td>\n",
       "      <td>1.0</td>\n",
       "    </tr>\n",
       "    <tr>\n",
       "      <th>43801</th>\n",
       "      <td>2020-01-01 02:00:00</td>\n",
       "      <td>-2.2</td>\n",
       "      <td>-2.2</td>\n",
       "      <td>0.0</td>\n",
       "    </tr>\n",
       "    <tr>\n",
       "      <th>43802</th>\n",
       "      <td>2020-01-01 02:00:00</td>\n",
       "      <td>-2.8</td>\n",
       "      <td>-2.8</td>\n",
       "      <td>0.0</td>\n",
       "    </tr>\n",
       "    <tr>\n",
       "      <th>43806</th>\n",
       "      <td>2019-12-31 06:00:00</td>\n",
       "      <td>-2.8</td>\n",
       "      <td>-3.3</td>\n",
       "      <td>0.0</td>\n",
       "    </tr>\n",
       "  </tbody>\n",
       "</table>\n",
       "<p>4328 rows × 4 columns</p>\n",
       "</div>"
      ],
      "text/plain": [
       "                 date_time  max_temp  min_temp  precip\n",
       "48     2015-01-04 00:00:00       0.6       0.6     1.0\n",
       "50     2015-01-04 03:00:00       0.6       0.6     1.0\n",
       "51     2015-01-04 03:00:00       1.1       0.6     1.0\n",
       "55     2015-01-03 08:00:00      -0.6      -0.6     0.0\n",
       "56     2015-01-03 08:00:00      -0.6      -1.1     1.0\n",
       "...                    ...       ...       ...     ...\n",
       "43798  2019-12-30 23:00:00      -1.7      -1.7     1.0\n",
       "43799  2019-12-30 23:00:00      -1.1      -1.7     1.0\n",
       "43801  2020-01-01 02:00:00      -2.2      -2.2     0.0\n",
       "43802  2020-01-01 02:00:00      -2.8      -2.8     0.0\n",
       "43806  2019-12-31 06:00:00      -2.8      -3.3     0.0\n",
       "\n",
       "[4328 rows x 4 columns]"
      ]
     },
     "execution_count": 18,
     "metadata": {},
     "output_type": "execute_result"
    }
   ],
   "source": [
    "df_chicago_weather[df_chicago_weather['date_time'].duplicated(keep=False)]"
   ]
  },
  {
   "cell_type": "code",
   "execution_count": 19,
   "id": "d83692de",
   "metadata": {},
   "outputs": [],
   "source": [
    "df_chicago_weather = df_chicago_weather.groupby('date_time').mean().reset_index()"
   ]
  },
  {
   "cell_type": "code",
   "execution_count": 20,
   "id": "0abe1166",
   "metadata": {},
   "outputs": [
    {
     "data": {
      "text/html": [
       "<div>\n",
       "<style scoped>\n",
       "    .dataframe tbody tr th:only-of-type {\n",
       "        vertical-align: middle;\n",
       "    }\n",
       "\n",
       "    .dataframe tbody tr th {\n",
       "        vertical-align: top;\n",
       "    }\n",
       "\n",
       "    .dataframe thead th {\n",
       "        text-align: right;\n",
       "    }\n",
       "</style>\n",
       "<table border=\"1\" class=\"dataframe\">\n",
       "  <thead>\n",
       "    <tr style=\"text-align: right;\">\n",
       "      <th></th>\n",
       "      <th>date_time</th>\n",
       "      <th>max_temp</th>\n",
       "      <th>min_temp</th>\n",
       "      <th>precip</th>\n",
       "    </tr>\n",
       "  </thead>\n",
       "  <tbody>\n",
       "  </tbody>\n",
       "</table>\n",
       "</div>"
      ],
      "text/plain": [
       "Empty DataFrame\n",
       "Columns: [date_time, max_temp, min_temp, precip]\n",
       "Index: []"
      ]
     },
     "execution_count": 20,
     "metadata": {},
     "output_type": "execute_result"
    }
   ],
   "source": [
    "df_chicago_weather[df_chicago_weather['date_time'].duplicated(keep=False)]"
   ]
  },
  {
   "cell_type": "markdown",
   "id": "ccd1dca4",
   "metadata": {},
   "source": [
    "Non binary values were introduced through the mean function."
   ]
  },
  {
   "cell_type": "code",
   "execution_count": 21,
   "id": "57ba6415",
   "metadata": {},
   "outputs": [
    {
     "data": {
      "text/plain": [
       "450"
      ]
     },
     "execution_count": 21,
     "metadata": {},
     "output_type": "execute_result"
    }
   ],
   "source": [
    "non_binary_precip_values(df_chicago_weather).sum()"
   ]
  },
  {
   "cell_type": "code",
   "execution_count": 22,
   "id": "8b09f975",
   "metadata": {
    "scrolled": false
   },
   "outputs": [
    {
     "data": {
      "text/html": [
       "<div>\n",
       "<style scoped>\n",
       "    .dataframe tbody tr th:only-of-type {\n",
       "        vertical-align: middle;\n",
       "    }\n",
       "\n",
       "    .dataframe tbody tr th {\n",
       "        vertical-align: top;\n",
       "    }\n",
       "\n",
       "    .dataframe thead th {\n",
       "        text-align: right;\n",
       "    }\n",
       "</style>\n",
       "<table border=\"1\" class=\"dataframe\">\n",
       "  <thead>\n",
       "    <tr style=\"text-align: right;\">\n",
       "      <th></th>\n",
       "      <th>date_time</th>\n",
       "      <th>max_temp</th>\n",
       "      <th>min_temp</th>\n",
       "      <th>precip</th>\n",
       "    </tr>\n",
       "  </thead>\n",
       "  <tbody>\n",
       "    <tr>\n",
       "      <th>49</th>\n",
       "      <td>2015-01-03 08:00:00</td>\n",
       "      <td>-0.6</td>\n",
       "      <td>-0.85</td>\n",
       "      <td>0.5</td>\n",
       "    </tr>\n",
       "  </tbody>\n",
       "</table>\n",
       "</div>"
      ],
      "text/plain": [
       "              date_time  max_temp  min_temp  precip\n",
       "49  2015-01-03 08:00:00      -0.6     -0.85     0.5"
      ]
     },
     "execution_count": 22,
     "metadata": {},
     "output_type": "execute_result"
    }
   ],
   "source": [
    "df_chicago_weather[df_chicago_weather.date_time == '2015-01-03 08:00:00']"
   ]
  },
  {
   "cell_type": "markdown",
   "id": "de642423",
   "metadata": {},
   "source": [
    "For all the non binary values introduced we check whether the introduced value is greater than 0. If that is the case that means that precipitation was recorded at least once in the data points used to compute the average. Accordingly, we set precip equal to 1 in those cases."
   ]
  },
  {
   "cell_type": "code",
   "execution_count": 23,
   "id": "4f90d796",
   "metadata": {},
   "outputs": [],
   "source": [
    "df_chicago_weather['precip'] = df_chicago_weather.apply(lambda row: 1 if row['precip'] > 0.5 else 0, axis = 1)"
   ]
  },
  {
   "cell_type": "markdown",
   "id": "3e46b75a",
   "metadata": {},
   "source": [
    "The binary property of the precip column was restored and no more duplicate date entries are part of the dataframe."
   ]
  },
  {
   "cell_type": "code",
   "execution_count": 24,
   "id": "d8985797",
   "metadata": {},
   "outputs": [
    {
     "data": {
      "text/plain": [
       "0"
      ]
     },
     "execution_count": 24,
     "metadata": {},
     "output_type": "execute_result"
    }
   ],
   "source": [
    "non_binary_precip_values(df_chicago_weather).sum()"
   ]
  },
  {
   "cell_type": "code",
   "execution_count": 25,
   "id": "e163902a",
   "metadata": {},
   "outputs": [
    {
     "data": {
      "text/html": [
       "<div>\n",
       "<style scoped>\n",
       "    .dataframe tbody tr th:only-of-type {\n",
       "        vertical-align: middle;\n",
       "    }\n",
       "\n",
       "    .dataframe tbody tr th {\n",
       "        vertical-align: top;\n",
       "    }\n",
       "\n",
       "    .dataframe thead th {\n",
       "        text-align: right;\n",
       "    }\n",
       "</style>\n",
       "<table border=\"1\" class=\"dataframe\">\n",
       "  <thead>\n",
       "    <tr style=\"text-align: right;\">\n",
       "      <th></th>\n",
       "      <th>date_time</th>\n",
       "      <th>max_temp</th>\n",
       "      <th>min_temp</th>\n",
       "      <th>precip</th>\n",
       "    </tr>\n",
       "  </thead>\n",
       "  <tbody>\n",
       "    <tr>\n",
       "      <th>49</th>\n",
       "      <td>2015-01-03 08:00:00</td>\n",
       "      <td>-0.6</td>\n",
       "      <td>-0.85</td>\n",
       "      <td>0</td>\n",
       "    </tr>\n",
       "  </tbody>\n",
       "</table>\n",
       "</div>"
      ],
      "text/plain": [
       "              date_time  max_temp  min_temp  precip\n",
       "49  2015-01-03 08:00:00      -0.6     -0.85       0"
      ]
     },
     "execution_count": 25,
     "metadata": {},
     "output_type": "execute_result"
    }
   ],
   "source": [
    "df_chicago_weather[df_chicago_weather.date_time == '2015-01-03 08:00:00']"
   ]
  },
  {
   "cell_type": "code",
   "execution_count": 26,
   "id": "e0bd435f",
   "metadata": {},
   "outputs": [
    {
     "data": {
      "text/html": [
       "<div>\n",
       "<style scoped>\n",
       "    .dataframe tbody tr th:only-of-type {\n",
       "        vertical-align: middle;\n",
       "    }\n",
       "\n",
       "    .dataframe tbody tr th {\n",
       "        vertical-align: top;\n",
       "    }\n",
       "\n",
       "    .dataframe thead th {\n",
       "        text-align: right;\n",
       "    }\n",
       "</style>\n",
       "<table border=\"1\" class=\"dataframe\">\n",
       "  <thead>\n",
       "    <tr style=\"text-align: right;\">\n",
       "      <th></th>\n",
       "      <th>date_time</th>\n",
       "      <th>max_temp</th>\n",
       "      <th>min_temp</th>\n",
       "      <th>precip</th>\n",
       "    </tr>\n",
       "  </thead>\n",
       "  <tbody>\n",
       "  </tbody>\n",
       "</table>\n",
       "</div>"
      ],
      "text/plain": [
       "Empty DataFrame\n",
       "Columns: [date_time, max_temp, min_temp, precip]\n",
       "Index: []"
      ]
     },
     "execution_count": 26,
     "metadata": {},
     "output_type": "execute_result"
    }
   ],
   "source": [
    "df_chicago_weather[df_chicago_weather['date_time'].duplicated(keep=False)]"
   ]
  },
  {
   "cell_type": "code",
   "execution_count": 27,
   "id": "ca0bafab",
   "metadata": {},
   "outputs": [
    {
     "data": {
      "text/plain": [
       "40960"
      ]
     },
     "execution_count": 27,
     "metadata": {},
     "output_type": "execute_result"
    }
   ],
   "source": [
    "len(df_chicago_weather)"
   ]
  },
  {
   "cell_type": "markdown",
   "id": "4d1b1a1b",
   "metadata": {},
   "source": [
    "## 5 Timerange"
   ]
  },
  {
   "cell_type": "markdown",
   "id": "ab039aeb",
   "metadata": {},
   "source": [
    "### 5.1 Filter for 2018"
   ]
  },
  {
   "cell_type": "markdown",
   "id": "8f6bc1d2",
   "metadata": {},
   "source": [
    "Since we have the bike data for Chicago in 2018 we want to filter the weather data for dates from the year 2018."
   ]
  },
  {
   "cell_type": "code",
   "execution_count": 28,
   "id": "249f0ac5",
   "metadata": {
    "scrolled": false
   },
   "outputs": [
    {
     "data": {
      "text/html": [
       "<div>\n",
       "<style scoped>\n",
       "    .dataframe tbody tr th:only-of-type {\n",
       "        vertical-align: middle;\n",
       "    }\n",
       "\n",
       "    .dataframe tbody tr th {\n",
       "        vertical-align: top;\n",
       "    }\n",
       "\n",
       "    .dataframe thead th {\n",
       "        text-align: right;\n",
       "    }\n",
       "</style>\n",
       "<table border=\"1\" class=\"dataframe\">\n",
       "  <thead>\n",
       "    <tr style=\"text-align: right;\">\n",
       "      <th></th>\n",
       "      <th>date_time</th>\n",
       "      <th>max_temp</th>\n",
       "      <th>min_temp</th>\n",
       "      <th>precip</th>\n",
       "    </tr>\n",
       "  </thead>\n",
       "  <tbody>\n",
       "    <tr>\n",
       "      <th>24639</th>\n",
       "      <td>2018-01-01 00:00:00</td>\n",
       "      <td>-13.9</td>\n",
       "      <td>-13.9</td>\n",
       "      <td>0</td>\n",
       "    </tr>\n",
       "    <tr>\n",
       "      <th>24640</th>\n",
       "      <td>2018-01-01 01:00:00</td>\n",
       "      <td>-15.0</td>\n",
       "      <td>-15.0</td>\n",
       "      <td>0</td>\n",
       "    </tr>\n",
       "    <tr>\n",
       "      <th>24641</th>\n",
       "      <td>2018-01-01 02:00:00</td>\n",
       "      <td>-15.6</td>\n",
       "      <td>-15.6</td>\n",
       "      <td>0</td>\n",
       "    </tr>\n",
       "    <tr>\n",
       "      <th>24642</th>\n",
       "      <td>2018-01-01 03:00:00</td>\n",
       "      <td>-16.7</td>\n",
       "      <td>-16.7</td>\n",
       "      <td>0</td>\n",
       "    </tr>\n",
       "    <tr>\n",
       "      <th>24643</th>\n",
       "      <td>2018-01-01 04:00:00</td>\n",
       "      <td>-17.2</td>\n",
       "      <td>-17.2</td>\n",
       "      <td>0</td>\n",
       "    </tr>\n",
       "  </tbody>\n",
       "</table>\n",
       "</div>"
      ],
      "text/plain": [
       "                 date_time  max_temp  min_temp  precip\n",
       "24639  2018-01-01 00:00:00     -13.9     -13.9       0\n",
       "24640  2018-01-01 01:00:00     -15.0     -15.0       0\n",
       "24641  2018-01-01 02:00:00     -15.6     -15.6       0\n",
       "24642  2018-01-01 03:00:00     -16.7     -16.7       0\n",
       "24643  2018-01-01 04:00:00     -17.2     -17.2       0"
      ]
     },
     "execution_count": 28,
     "metadata": {},
     "output_type": "execute_result"
    }
   ],
   "source": [
    "df_chicago_weather = df_chicago_weather.loc[\n",
    "    df_chicago_weather.apply(\n",
    "        lambda row: datetime.strptime(row['date_time'], '%Y-%m-%d %H:%M:%S').year == 2018, \n",
    "        axis = 1\n",
    "    )\n",
    "]\n",
    "df_chicago_weather.head()"
   ]
  },
  {
   "cell_type": "code",
   "execution_count": 29,
   "id": "ed5967e2",
   "metadata": {},
   "outputs": [
    {
     "data": {
      "text/plain": [
       "8137"
      ]
     },
     "execution_count": 29,
     "metadata": {},
     "output_type": "execute_result"
    }
   ],
   "source": [
    "len(df_chicago_weather)"
   ]
  },
  {
   "cell_type": "markdown",
   "id": "ada6f823",
   "metadata": {},
   "source": [
    "### 5.2 Completeness"
   ]
  },
  {
   "cell_type": "code",
   "execution_count": 30,
   "id": "da01671d",
   "metadata": {},
   "outputs": [
    {
     "name": "stdout",
     "output_type": "stream",
     "text": [
      "Earliest date entry: 2018-01-01 00:00:00\n",
      "Latest date entry: 2018-12-31 23:00:00\n"
     ]
    }
   ],
   "source": [
    "start = df_chicago_weather['date_time'].min()\n",
    "print(\"Earliest date entry:\", start)\n",
    "end = df_chicago_weather['date_time'].max()\n",
    "print(\"Latest date entry:\", end)"
   ]
  },
  {
   "cell_type": "markdown",
   "id": "292617b8",
   "metadata": {},
   "source": [
    "The earliest date recorded for 2018 is the First of January at midnight, while the latest is the 31st of December at 11pm."
   ]
  },
  {
   "cell_type": "code",
   "execution_count": 31,
   "id": "b18dff52",
   "metadata": {},
   "outputs": [
    {
     "data": {
      "text/plain": [
       "623"
      ]
     },
     "execution_count": 31,
     "metadata": {},
     "output_type": "execute_result"
    }
   ],
   "source": [
    "date_range = pd.date_range(start, end, freq = 'H')\n",
    "\n",
    "#for faster lookup\n",
    "def get_missing_dates():\n",
    "    out = []\n",
    "    df_chicago_weather_indexed_by_date = df_chicago_weather.set_index('date_time')\n",
    "\n",
    "    for date in date_range:\n",
    "        try:\n",
    "            df_chicago_weather_indexed_by_date.loc[date.strftime('%Y-%m-%d %H:%M:%S'),]\n",
    "        except KeyError:\n",
    "            out.append(date)\n",
    "    return out\n",
    "missing_dates = get_missing_dates()\n",
    "len(missing_dates)"
   ]
  },
  {
   "cell_type": "markdown",
   "id": "d9ea6b64",
   "metadata": {},
   "source": [
    "In the above mentioned time range there are 623 hours of missing data. That is almost 26 days of missing data. Regarding the absence of this data we considered two options:\n",
    "\n",
    "1. We could either ignore that we do not have this data and deal with potential NaN values in later tasks or, \n",
    "2. Try to estimate the missing data points. \n",
    "\n",
    "In order to decide between the two options we first analyzed how well we could estimate these missing data points. When making an estimation for the weather for a specific date we want to avoid basing our estimation on data that is far away from the date, since the weather can be fairly dynamic and change a considerable amount in just a few hours. Preferably, we want to estimate the weather for a missing date x using either x - 1h or x + 1h (or both). This  means that long sequences of missing dates are disadvantageous as for dates towards the middle of the sequence no close data is available. "
   ]
  },
  {
   "cell_type": "markdown",
   "id": "603b70a5",
   "metadata": {},
   "source": [
    "#### Missing Date Spread"
   ]
  },
  {
   "cell_type": "code",
   "execution_count": 32,
   "id": "e07015db",
   "metadata": {
    "scrolled": true
   },
   "outputs": [
    {
     "data": {
      "image/png": "[encoded data removed]",
      "text/plain": [
       "<Figure size 640x480 with 1 Axes>"
      ]
     },
     "metadata": {},
     "output_type": "display_data"
    }
   ],
   "source": [
    "months = {'January': 0, 'February': 0, 'March': 0, 'April': 0, \n",
    "          'May': 0, 'June': 0, 'July': 0, 'August': 0, \n",
    "          'September': 0, 'October': 0, 'November': 0, 'December': 0}\n",
    "\n",
    "for date in missing_dates:\n",
    "    months[date.month_name()] = months[date.month_name()] + 1\n",
    "\n",
    "Fig = plt.figure()\n",
    "ax = Fig.add_axes([0.5, 0.5, 1.5, 0.5])\n",
    "ax.plot(months.keys(), months.values())\n",
    "ax.set_xlabel('Months')\n",
    "ax.set_ylabel('Number of missing dates')\n",
    "ax.set_title('Missing Data for every month')\n",
    "plt.show()"
   ]
  },
  {
   "cell_type": "markdown",
   "id": "049f555a",
   "metadata": {},
   "source": [
    "As we can see there are missing dates for every month, they are spread out throughout the year and not concentrated on one or two single months."
   ]
  },
  {
   "cell_type": "markdown",
   "id": "90857ccd",
   "metadata": {},
   "source": [
    "#### Missing Date Sequences"
   ]
  },
  {
   "cell_type": "code",
   "execution_count": 33,
   "id": "bd7b66e4",
   "metadata": {
    "scrolled": false
   },
   "outputs": [],
   "source": [
    "tmp = 1\n",
    "stacks = []\n",
    "i = 0\n",
    "for date in missing_dates:\n",
    "    if i < len(missing_dates) - 1:\n",
    "        r = pd.date_range(missing_dates[i], missing_dates[i + 1], freq = 'H')\n",
    "        if len(r) == 2:\n",
    "            tmp = tmp + 1\n",
    "        else: \n",
    "            stacks.append(tmp)\n",
    "            tmp = 1\n",
    "        i = i + 1"
   ]
  },
  {
   "cell_type": "code",
   "execution_count": 34,
   "id": "4202ec3c",
   "metadata": {
    "scrolled": false
   },
   "outputs": [
    {
     "data": {
      "image/png": "[encoded data removed]",
      "text/plain": [
       "<Figure size 640x480 with 1 Axes>"
      ]
     },
     "metadata": {},
     "output_type": "display_data"
    }
   ],
   "source": [
    "counts, edges, bars = plt.hist(stacks, bins = 6, edgecolor='k')\n",
    "plt.bar_label(bars)\n",
    "plt.xlabel('Sequence length')\n",
    "plt.ylabel('Frequency')\n",
    "plt.title('Sequence length of missing dates')\n",
    "plt.show()"
   ]
  },
  {
   "cell_type": "markdown",
   "id": "e4501709",
   "metadata": {},
   "source": [
    "As we can see most of the time we only have a sequence of 1 missing date. Meaning for all of those dates we have two directly adjacent dates for which we have data available and can base estimations on. There are only a few sequences which are longer than 1, the maximum length of such a sequence is 6. So at worst we do not have data for a 6 hour period. Taking this into consideration using the argumentation from above we decided that it should be possible to estimate the weather for the missing dates without making estimations that are too innacurate."
   ]
  },
  {
   "cell_type": "markdown",
   "id": "4e41dd91",
   "metadata": {},
   "source": [
    "#### Estimating Missing Dates"
   ]
  },
  {
   "cell_type": "code",
   "execution_count": 35,
   "id": "ae8bc61f",
   "metadata": {
    "scrolled": true
   },
   "outputs": [],
   "source": [
    "df_missing_dates = pd.DataFrame(missing_dates, columns = ['date_time'])\n",
    "\n",
    "df_chicago_weather = pd.merge(\n",
    "    df_chicago_weather, \n",
    "    df_missing_dates['date_time'].astype(str), \n",
    "    on = 'date_time', \n",
    "    how = 'outer'\n",
    ")"
   ]
  },
  {
   "cell_type": "code",
   "execution_count": 36,
   "id": "eb26d479",
   "metadata": {
    "scrolled": true
   },
   "outputs": [
    {
     "data": {
      "text/plain": [
       "0"
      ]
     },
     "execution_count": 36,
     "metadata": {},
     "output_type": "execute_result"
    }
   ],
   "source": [
    "len(get_missing_dates())"
   ]
  },
  {
   "cell_type": "code",
   "execution_count": 37,
   "id": "0af57954",
   "metadata": {
    "scrolled": false
   },
   "outputs": [
    {
     "data": {
      "text/html": [
       "<div>\n",
       "<style scoped>\n",
       "    .dataframe tbody tr th:only-of-type {\n",
       "        vertical-align: middle;\n",
       "    }\n",
       "\n",
       "    .dataframe tbody tr th {\n",
       "        vertical-align: top;\n",
       "    }\n",
       "\n",
       "    .dataframe thead th {\n",
       "        text-align: right;\n",
       "    }\n",
       "</style>\n",
       "<table border=\"1\" class=\"dataframe\">\n",
       "  <thead>\n",
       "    <tr style=\"text-align: right;\">\n",
       "      <th></th>\n",
       "      <th>date_time</th>\n",
       "      <th>max_temp</th>\n",
       "      <th>min_temp</th>\n",
       "      <th>precip</th>\n",
       "    </tr>\n",
       "  </thead>\n",
       "  <tbody>\n",
       "    <tr>\n",
       "      <th>8750</th>\n",
       "      <td>2018-12-29 03:00:00</td>\n",
       "      <td>NaN</td>\n",
       "      <td>NaN</td>\n",
       "      <td>NaN</td>\n",
       "    </tr>\n",
       "    <tr>\n",
       "      <th>8751</th>\n",
       "      <td>2018-12-29 07:00:00</td>\n",
       "      <td>NaN</td>\n",
       "      <td>NaN</td>\n",
       "      <td>NaN</td>\n",
       "    </tr>\n",
       "    <tr>\n",
       "      <th>8752</th>\n",
       "      <td>2018-12-29 10:00:00</td>\n",
       "      <td>NaN</td>\n",
       "      <td>NaN</td>\n",
       "      <td>NaN</td>\n",
       "    </tr>\n",
       "    <tr>\n",
       "      <th>8753</th>\n",
       "      <td>2018-12-29 12:00:00</td>\n",
       "      <td>NaN</td>\n",
       "      <td>NaN</td>\n",
       "      <td>NaN</td>\n",
       "    </tr>\n",
       "    <tr>\n",
       "      <th>8754</th>\n",
       "      <td>2018-12-29 20:00:00</td>\n",
       "      <td>NaN</td>\n",
       "      <td>NaN</td>\n",
       "      <td>NaN</td>\n",
       "    </tr>\n",
       "    <tr>\n",
       "      <th>8755</th>\n",
       "      <td>2018-12-29 22:00:00</td>\n",
       "      <td>NaN</td>\n",
       "      <td>NaN</td>\n",
       "      <td>NaN</td>\n",
       "    </tr>\n",
       "    <tr>\n",
       "      <th>8756</th>\n",
       "      <td>2018-12-30 03:00:00</td>\n",
       "      <td>NaN</td>\n",
       "      <td>NaN</td>\n",
       "      <td>NaN</td>\n",
       "    </tr>\n",
       "    <tr>\n",
       "      <th>8757</th>\n",
       "      <td>2018-12-30 12:00:00</td>\n",
       "      <td>NaN</td>\n",
       "      <td>NaN</td>\n",
       "      <td>NaN</td>\n",
       "    </tr>\n",
       "    <tr>\n",
       "      <th>8758</th>\n",
       "      <td>2018-12-31 16:00:00</td>\n",
       "      <td>NaN</td>\n",
       "      <td>NaN</td>\n",
       "      <td>NaN</td>\n",
       "    </tr>\n",
       "    <tr>\n",
       "      <th>8759</th>\n",
       "      <td>2018-12-31 21:00:00</td>\n",
       "      <td>NaN</td>\n",
       "      <td>NaN</td>\n",
       "      <td>NaN</td>\n",
       "    </tr>\n",
       "  </tbody>\n",
       "</table>\n",
       "</div>"
      ],
      "text/plain": [
       "                date_time  max_temp  min_temp  precip\n",
       "8750  2018-12-29 03:00:00       NaN       NaN     NaN\n",
       "8751  2018-12-29 07:00:00       NaN       NaN     NaN\n",
       "8752  2018-12-29 10:00:00       NaN       NaN     NaN\n",
       "8753  2018-12-29 12:00:00       NaN       NaN     NaN\n",
       "8754  2018-12-29 20:00:00       NaN       NaN     NaN\n",
       "8755  2018-12-29 22:00:00       NaN       NaN     NaN\n",
       "8756  2018-12-30 03:00:00       NaN       NaN     NaN\n",
       "8757  2018-12-30 12:00:00       NaN       NaN     NaN\n",
       "8758  2018-12-31 16:00:00       NaN       NaN     NaN\n",
       "8759  2018-12-31 21:00:00       NaN       NaN     NaN"
      ]
     },
     "execution_count": 37,
     "metadata": {},
     "output_type": "execute_result"
    }
   ],
   "source": [
    "df_chicago_weather.tail(10)"
   ]
  },
  {
   "cell_type": "code",
   "execution_count": 38,
   "id": "eefc3a3e",
   "metadata": {},
   "outputs": [],
   "source": [
    "df_chicago_weather = df_chicago_weather.sort_values(by='date_time')"
   ]
  },
  {
   "cell_type": "markdown",
   "id": "9347e728",
   "metadata": {},
   "source": [
    "We assume that the missing values for maximum and mimimum temperature are equally spaced an change linearly. Thus we use the 'linear' interpolation method. Regarding the precipitation we estimate rainfall or rather snow if precipitation was recorded for the previously available datetime. Accordingly, we use the 'ffill' method."
   ]
  },
  {
   "cell_type": "code",
   "execution_count": 39,
   "id": "e6faaa46",
   "metadata": {
    "scrolled": false
   },
   "outputs": [
    {
     "data": {
      "text/html": [
       "<div>\n",
       "<style scoped>\n",
       "    .dataframe tbody tr th:only-of-type {\n",
       "        vertical-align: middle;\n",
       "    }\n",
       "\n",
       "    .dataframe tbody tr th {\n",
       "        vertical-align: top;\n",
       "    }\n",
       "\n",
       "    .dataframe thead th {\n",
       "        text-align: right;\n",
       "    }\n",
       "</style>\n",
       "<table border=\"1\" class=\"dataframe\">\n",
       "  <thead>\n",
       "    <tr style=\"text-align: right;\">\n",
       "      <th></th>\n",
       "      <th>date_time</th>\n",
       "      <th>max_temp</th>\n",
       "      <th>min_temp</th>\n",
       "      <th>precip</th>\n",
       "    </tr>\n",
       "  </thead>\n",
       "  <tbody>\n",
       "    <tr>\n",
       "      <th>0</th>\n",
       "      <td>2018-01-01 00:00:00</td>\n",
       "      <td>-13.9</td>\n",
       "      <td>-13.9</td>\n",
       "      <td>0.0</td>\n",
       "    </tr>\n",
       "    <tr>\n",
       "      <th>1</th>\n",
       "      <td>2018-01-01 01:00:00</td>\n",
       "      <td>-15.0</td>\n",
       "      <td>-15.0</td>\n",
       "      <td>0.0</td>\n",
       "    </tr>\n",
       "    <tr>\n",
       "      <th>2</th>\n",
       "      <td>2018-01-01 02:00:00</td>\n",
       "      <td>-15.6</td>\n",
       "      <td>-15.6</td>\n",
       "      <td>0.0</td>\n",
       "    </tr>\n",
       "    <tr>\n",
       "      <th>3</th>\n",
       "      <td>2018-01-01 03:00:00</td>\n",
       "      <td>-16.7</td>\n",
       "      <td>-16.7</td>\n",
       "      <td>0.0</td>\n",
       "    </tr>\n",
       "    <tr>\n",
       "      <th>4</th>\n",
       "      <td>2018-01-01 04:00:00</td>\n",
       "      <td>-17.2</td>\n",
       "      <td>-17.2</td>\n",
       "      <td>0.0</td>\n",
       "    </tr>\n",
       "    <tr>\n",
       "      <th>...</th>\n",
       "      <td>...</td>\n",
       "      <td>...</td>\n",
       "      <td>...</td>\n",
       "      <td>...</td>\n",
       "    </tr>\n",
       "    <tr>\n",
       "      <th>8133</th>\n",
       "      <td>2018-12-31 19:00:00</td>\n",
       "      <td>3.3</td>\n",
       "      <td>3.3</td>\n",
       "      <td>1.0</td>\n",
       "    </tr>\n",
       "    <tr>\n",
       "      <th>8134</th>\n",
       "      <td>2018-12-31 20:00:00</td>\n",
       "      <td>3.9</td>\n",
       "      <td>3.3</td>\n",
       "      <td>1.0</td>\n",
       "    </tr>\n",
       "    <tr>\n",
       "      <th>8759</th>\n",
       "      <td>2018-12-31 21:00:00</td>\n",
       "      <td>3.6</td>\n",
       "      <td>3.3</td>\n",
       "      <td>1.0</td>\n",
       "    </tr>\n",
       "    <tr>\n",
       "      <th>8135</th>\n",
       "      <td>2018-12-31 22:00:00</td>\n",
       "      <td>3.3</td>\n",
       "      <td>3.3</td>\n",
       "      <td>0.0</td>\n",
       "    </tr>\n",
       "    <tr>\n",
       "      <th>8136</th>\n",
       "      <td>2018-12-31 23:00:00</td>\n",
       "      <td>3.3</td>\n",
       "      <td>3.3</td>\n",
       "      <td>1.0</td>\n",
       "    </tr>\n",
       "  </tbody>\n",
       "</table>\n",
       "<p>8760 rows × 4 columns</p>\n",
       "</div>"
      ],
      "text/plain": [
       "                date_time  max_temp  min_temp  precip\n",
       "0     2018-01-01 00:00:00     -13.9     -13.9     0.0\n",
       "1     2018-01-01 01:00:00     -15.0     -15.0     0.0\n",
       "2     2018-01-01 02:00:00     -15.6     -15.6     0.0\n",
       "3     2018-01-01 03:00:00     -16.7     -16.7     0.0\n",
       "4     2018-01-01 04:00:00     -17.2     -17.2     0.0\n",
       "...                   ...       ...       ...     ...\n",
       "8133  2018-12-31 19:00:00       3.3       3.3     1.0\n",
       "8134  2018-12-31 20:00:00       3.9       3.3     1.0\n",
       "8759  2018-12-31 21:00:00       3.6       3.3     1.0\n",
       "8135  2018-12-31 22:00:00       3.3       3.3     0.0\n",
       "8136  2018-12-31 23:00:00       3.3       3.3     1.0\n",
       "\n",
       "[8760 rows x 4 columns]"
      ]
     },
     "execution_count": 39,
     "metadata": {},
     "output_type": "execute_result"
    }
   ],
   "source": [
    "df_chicago_weather = df_chicago_weather.assign(\n",
    "    max_temp = df_chicago_weather.max_temp.interpolate(method = 'linear', limit = 6)\n",
    ")\n",
    "df_chicago_weather = df_chicago_weather.assign(\n",
    "    min_temp = df_chicago_weather.min_temp.interpolate(method = 'linear', limit = 6)\n",
    ")\n",
    "df_chicago_weather = df_chicago_weather.assign(precip=df_chicago_weather.precip.fillna(method = 'ffill'))\n",
    "\n",
    "df_chicago_weather"
   ]
  },
  {
   "cell_type": "markdown",
   "id": "9cb1842c",
   "metadata": {},
   "source": [
    "#### Recheck consistency of dataset"
   ]
  },
  {
   "cell_type": "code",
   "execution_count": 40,
   "id": "2198d288",
   "metadata": {},
   "outputs": [
    {
     "data": {
      "text/plain": [
       "date_time    0\n",
       "max_temp     0\n",
       "min_temp     0\n",
       "precip       0\n",
       "dtype: int64"
      ]
     },
     "execution_count": 40,
     "metadata": {},
     "output_type": "execute_result"
    }
   ],
   "source": [
    "df_chicago_weather.isnull().sum()"
   ]
  },
  {
   "cell_type": "code",
   "execution_count": 41,
   "id": "99d2e953",
   "metadata": {},
   "outputs": [
    {
     "data": {
      "text/html": [
       "<div>\n",
       "<style scoped>\n",
       "    .dataframe tbody tr th:only-of-type {\n",
       "        vertical-align: middle;\n",
       "    }\n",
       "\n",
       "    .dataframe tbody tr th {\n",
       "        vertical-align: top;\n",
       "    }\n",
       "\n",
       "    .dataframe thead th {\n",
       "        text-align: right;\n",
       "    }\n",
       "</style>\n",
       "<table border=\"1\" class=\"dataframe\">\n",
       "  <thead>\n",
       "    <tr style=\"text-align: right;\">\n",
       "      <th></th>\n",
       "      <th>date_time</th>\n",
       "      <th>max_temp</th>\n",
       "      <th>min_temp</th>\n",
       "      <th>precip</th>\n",
       "    </tr>\n",
       "  </thead>\n",
       "  <tbody>\n",
       "  </tbody>\n",
       "</table>\n",
       "</div>"
      ],
      "text/plain": [
       "Empty DataFrame\n",
       "Columns: [date_time, max_temp, min_temp, precip]\n",
       "Index: []"
      ]
     },
     "execution_count": 41,
     "metadata": {},
     "output_type": "execute_result"
    }
   ],
   "source": [
    "df_chicago_weather[df_chicago_weather.duplicated(keep=False)]"
   ]
  },
  {
   "cell_type": "code",
   "execution_count": 42,
   "id": "c4e1d846",
   "metadata": {
    "scrolled": true
   },
   "outputs": [
    {
     "data": {
      "text/html": [
       "<div>\n",
       "<style scoped>\n",
       "    .dataframe tbody tr th:only-of-type {\n",
       "        vertical-align: middle;\n",
       "    }\n",
       "\n",
       "    .dataframe tbody tr th {\n",
       "        vertical-align: top;\n",
       "    }\n",
       "\n",
       "    .dataframe thead th {\n",
       "        text-align: right;\n",
       "    }\n",
       "</style>\n",
       "<table border=\"1\" class=\"dataframe\">\n",
       "  <thead>\n",
       "    <tr style=\"text-align: right;\">\n",
       "      <th></th>\n",
       "      <th>date_time</th>\n",
       "      <th>max_temp</th>\n",
       "      <th>min_temp</th>\n",
       "      <th>precip</th>\n",
       "    </tr>\n",
       "  </thead>\n",
       "  <tbody>\n",
       "  </tbody>\n",
       "</table>\n",
       "</div>"
      ],
      "text/plain": [
       "Empty DataFrame\n",
       "Columns: [date_time, max_temp, min_temp, precip]\n",
       "Index: []"
      ]
     },
     "execution_count": 42,
     "metadata": {},
     "output_type": "execute_result"
    }
   ],
   "source": [
    "df_chicago_weather[df_chicago_weather['date_time'].duplicated(keep=False)]"
   ]
  },
  {
   "cell_type": "code",
   "execution_count": 43,
   "id": "4078aeeb",
   "metadata": {},
   "outputs": [
    {
     "data": {
      "text/plain": [
       "0"
      ]
     },
     "execution_count": 43,
     "metadata": {},
     "output_type": "execute_result"
    }
   ],
   "source": [
    "len(get_missing_dates())"
   ]
  },
  {
   "cell_type": "markdown",
   "id": "9c8600f8",
   "metadata": {},
   "source": [
    "## 6 Export "
   ]
  },
  {
   "cell_type": "code",
   "execution_count": 52,
   "id": "6c99cdab",
   "metadata": {},
   "outputs": [],
   "source": [
    "df_chicago_weather.to_csv(r'../dataset/chicago_weather_2018.csv', index = False)"
   ]
  }
 ],
 "metadata": {
  "kernelspec": {
   "display_name": "Python 3 (ipykernel)",
   "language": "python",
   "name": "python3"
  },
  "language_info": {
   "codemirror_mode": {
    "name": "ipython",
    "version": 3
   },
   "file_extension": ".py",
   "mimetype": "text/x-python",
   "name": "python",
   "nbconvert_exporter": "python",
   "pygments_lexer": "ipython3",
   "version": "3.9.12"
  }
 },
 "nbformat": 4,
 "nbformat_minor": 5
}
