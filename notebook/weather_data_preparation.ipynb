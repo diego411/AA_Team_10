{
 "cells": [
  {
   "cell_type": "code",
   "execution_count": null,
   "id": "0a298ffd",
   "metadata": {},
   "outputs": [],
   "source": [
    "import numpy as np\n",
    "import pandas as pd\n",
    "import seaborn as sns\n",
    "import matplotlib.pyplot as plt\n",
    "\n",
    "%matplotlib inline"
   ]
  },
  {
   "cell_type": "code",
   "execution_count": null,
   "id": "e10972ae",
   "metadata": {
    "scrolled": true
   },
   "outputs": [],
   "source": [
    "df_chicago_weather = pd.read_csv('../dataset/weather_hourly_chicago.csv')\n",
    "df_chicago_weather.head()"
   ]
  },
  {
   "cell_type": "code",
   "execution_count": null,
   "id": "24b76485",
   "metadata": {},
   "outputs": [],
   "source": [
    "len(df_chicago_weather)"
   ]
  },
  {
   "cell_type": "code",
   "execution_count": null,
   "id": "ddd89fe6",
   "metadata": {
    "scrolled": false
   },
   "outputs": [],
   "source": [
    "df_chicago_weather.info()"
   ]
  },
  {
   "cell_type": "code",
   "execution_count": null,
   "id": "9e19744e",
   "metadata": {
    "scrolled": true
   },
   "outputs": [],
   "source": [
    "df_chicago_weather[df_chicago_weather.duplicated(keep=False)]"
   ]
  },
  {
   "cell_type": "code",
   "execution_count": null,
   "id": "cdd842e6",
   "metadata": {},
   "outputs": [],
   "source": [
    "df_chicago_weather = df_chicago_weather.drop_duplicates(keep='last')"
   ]
  },
  {
   "cell_type": "code",
   "execution_count": null,
   "id": "8613e183",
   "metadata": {
    "scrolled": true
   },
   "outputs": [],
   "source": [
    "df_chicago_weather[df_chicago_weather.duplicated(keep=False)]"
   ]
  },
  {
   "cell_type": "code",
   "execution_count": null,
   "id": "1969dec2",
   "metadata": {},
   "outputs": [],
   "source": [
    "df_chicago_weather.loc[df_chicago_weather['max_temp'] < df_chicago_weather['min_temp']]"
   ]
  },
  {
   "cell_type": "code",
   "execution_count": null,
   "id": "02f19479",
   "metadata": {},
   "outputs": [],
   "source": [
    "df_chicago_weather.isnull().sum()"
   ]
  },
  {
   "cell_type": "code",
   "execution_count": null,
   "id": "072eff79",
   "metadata": {},
   "outputs": [],
   "source": [
    "df_chicago_weather = df_chicago_weather.dropna(axis=0, inplace=False)"
   ]
  },
  {
   "cell_type": "code",
   "execution_count": null,
   "id": "a2360ad4",
   "metadata": {
    "scrolled": true
   },
   "outputs": [],
   "source": [
    "df_chicago_weather.isnull().sum()"
   ]
  },
  {
   "cell_type": "code",
   "execution_count": null,
   "id": "eed3bab1",
   "metadata": {},
   "outputs": [],
   "source": [
    "len(df_chicago_weather)"
   ]
  }
 ],
 "metadata": {
  "kernelspec": {
   "display_name": "Python 3 (ipykernel)",
   "language": "python",
   "name": "python3"
  },
  "language_info": {
   "codemirror_mode": {
    "name": "ipython",
    "version": 3
   },
   "file_extension": ".py",
   "mimetype": "text/x-python",
   "name": "python",
   "nbconvert_exporter": "python",
   "pygments_lexer": "ipython3",
   "version": "3.9.12"
  }
 },
 "nbformat": 4,
 "nbformat_minor": 5
}
