{
 "cells": [
  {
   "cell_type": "markdown",
   "id": "b65bccdf",
   "metadata": {},
   "source": [
    "# KPI: Temporal Bike Availability"
   ]
  },
  {
   "cell_type": "markdown",
   "id": "3bc41ca4",
   "metadata": {},
   "source": [
    "To cover the demand of bikes, we take a two-step look at the utilization of bike rental patterns evolves throughout the day. <br> In the first step, we differentiate between the different user types to see which of the customer segments demonstrates a higher demand over the day on average. In the second step, we look at the number of available bikes per hour to avoid potential bottlenecks and thus have an indicator that represents the peak times of bikes during a day on average. <br> This KPI represents as a fundamental base the temporal utilization and is again concretized with the building up KPI's, at which localities at which time the demand is highest, so that DivyBikes receives an overview of the utilization on the day for different locations.\n"
   ]
  },
  {
   "cell_type": "markdown",
   "id": "b7272648",
   "metadata": {},
   "source": [
    "## 1 Imports"
   ]
  },
  {
   "cell_type": "code",
   "execution_count": 1,
   "id": "06f6f601",
   "metadata": {},
   "outputs": [],
   "source": [
    "import pandas as pd\n",
    "import numpy as np\n",
    "from datetime import datetime, timedelta, date, time"
   ]
  },
  {
   "cell_type": "markdown",
   "id": "d56ecce3",
   "metadata": {},
   "source": [
    "Load bike dataset"
   ]
  },
  {
   "cell_type": "code",
   "execution_count": 2,
   "id": "44288241",
   "metadata": {},
   "outputs": [
    {
     "data": {
      "text/html": [
       "<div>\n",
       "<style scoped>\n",
       "    .dataframe tbody tr th:only-of-type {\n",
       "        vertical-align: middle;\n",
       "    }\n",
       "\n",
       "    .dataframe tbody tr th {\n",
       "        vertical-align: top;\n",
       "    }\n",
       "\n",
       "    .dataframe thead th {\n",
       "        text-align: right;\n",
       "    }\n",
       "</style>\n",
       "<table border=\"1\" class=\"dataframe\">\n",
       "  <thead>\n",
       "    <tr style=\"text-align: right;\">\n",
       "      <th></th>\n",
       "      <th>start_time</th>\n",
       "      <th>end_time</th>\n",
       "      <th>start_station_id</th>\n",
       "      <th>end_station_id</th>\n",
       "      <th>start_station_name</th>\n",
       "      <th>end_station_name</th>\n",
       "      <th>bike_id</th>\n",
       "      <th>user_type</th>\n",
       "      <th>duration_per_trip</th>\n",
       "      <th>trip_time_in_hours</th>\n",
       "    </tr>\n",
       "  </thead>\n",
       "  <tbody>\n",
       "    <tr>\n",
       "      <th>0</th>\n",
       "      <td>2018-04-01 00:04:44</td>\n",
       "      <td>2018-04-01 00:13:03</td>\n",
       "      <td>22</td>\n",
       "      <td>171</td>\n",
       "      <td>May St &amp; Taylor St</td>\n",
       "      <td>May St &amp; Cullerton St</td>\n",
       "      <td>3819</td>\n",
       "      <td>Subscriber</td>\n",
       "      <td>0 days 00:08:19</td>\n",
       "      <td>0.138611</td>\n",
       "    </tr>\n",
       "    <tr>\n",
       "      <th>1</th>\n",
       "      <td>2018-04-01 00:06:42</td>\n",
       "      <td>2018-04-01 00:27:07</td>\n",
       "      <td>157</td>\n",
       "      <td>190</td>\n",
       "      <td>Lake Shore Dr &amp; Wellington Ave</td>\n",
       "      <td>Southport Ave &amp; Wrightwood Ave</td>\n",
       "      <td>5000</td>\n",
       "      <td>Subscriber</td>\n",
       "      <td>0 days 00:20:25</td>\n",
       "      <td>0.340278</td>\n",
       "    </tr>\n",
       "    <tr>\n",
       "      <th>2</th>\n",
       "      <td>2018-04-01 00:07:19</td>\n",
       "      <td>2018-04-01 00:23:19</td>\n",
       "      <td>106</td>\n",
       "      <td>106</td>\n",
       "      <td>State St &amp; Pearson St</td>\n",
       "      <td>State St &amp; Pearson St</td>\n",
       "      <td>5165</td>\n",
       "      <td>Customer</td>\n",
       "      <td>0 days 00:16:00</td>\n",
       "      <td>0.266667</td>\n",
       "    </tr>\n",
       "    <tr>\n",
       "      <th>3</th>\n",
       "      <td>2018-04-01 00:07:33</td>\n",
       "      <td>2018-04-01 00:14:47</td>\n",
       "      <td>241</td>\n",
       "      <td>171</td>\n",
       "      <td>Morgan St &amp; Polk St</td>\n",
       "      <td>May St &amp; Cullerton St</td>\n",
       "      <td>3851</td>\n",
       "      <td>Subscriber</td>\n",
       "      <td>0 days 00:07:14</td>\n",
       "      <td>0.120556</td>\n",
       "    </tr>\n",
       "    <tr>\n",
       "      <th>4</th>\n",
       "      <td>2018-04-01 00:10:23</td>\n",
       "      <td>2018-04-01 00:22:12</td>\n",
       "      <td>228</td>\n",
       "      <td>219</td>\n",
       "      <td>Damen Ave &amp; Melrose Ave</td>\n",
       "      <td>Damen Ave &amp; Cortland St</td>\n",
       "      <td>5065</td>\n",
       "      <td>Subscriber</td>\n",
       "      <td>0 days 00:11:49</td>\n",
       "      <td>0.196944</td>\n",
       "    </tr>\n",
       "    <tr>\n",
       "      <th>...</th>\n",
       "      <td>...</td>\n",
       "      <td>...</td>\n",
       "      <td>...</td>\n",
       "      <td>...</td>\n",
       "      <td>...</td>\n",
       "      <td>...</td>\n",
       "      <td>...</td>\n",
       "      <td>...</td>\n",
       "      <td>...</td>\n",
       "      <td>...</td>\n",
       "    </tr>\n",
       "    <tr>\n",
       "      <th>3599456</th>\n",
       "      <td>2018-03-31 23:46:34</td>\n",
       "      <td>2018-04-01 00:05:24</td>\n",
       "      <td>158</td>\n",
       "      <td>260</td>\n",
       "      <td>Milwaukee Ave &amp; Wabansia Ave</td>\n",
       "      <td>Kedzie Ave &amp; Milwaukee Ave</td>\n",
       "      <td>1935</td>\n",
       "      <td>Subscriber</td>\n",
       "      <td>0 days 00:18:50</td>\n",
       "      <td>0.313889</td>\n",
       "    </tr>\n",
       "    <tr>\n",
       "      <th>3599457</th>\n",
       "      <td>2018-03-31 23:47:43</td>\n",
       "      <td>2018-03-31 23:52:05</td>\n",
       "      <td>299</td>\n",
       "      <td>229</td>\n",
       "      <td>Halsted St &amp; Roscoe St</td>\n",
       "      <td>Southport Ave &amp; Roscoe St</td>\n",
       "      <td>5852</td>\n",
       "      <td>Subscriber</td>\n",
       "      <td>0 days 00:04:22</td>\n",
       "      <td>0.072778</td>\n",
       "    </tr>\n",
       "    <tr>\n",
       "      <th>3599458</th>\n",
       "      <td>2018-03-31 23:50:18</td>\n",
       "      <td>2018-03-31 23:57:38</td>\n",
       "      <td>327</td>\n",
       "      <td>226</td>\n",
       "      <td>Sheffield Ave &amp; Webster Ave</td>\n",
       "      <td>Racine Ave &amp; Belmont Ave</td>\n",
       "      <td>4414</td>\n",
       "      <td>Subscriber</td>\n",
       "      <td>0 days 00:07:20</td>\n",
       "      <td>0.122222</td>\n",
       "    </tr>\n",
       "    <tr>\n",
       "      <th>3599459</th>\n",
       "      <td>2018-03-31 23:52:26</td>\n",
       "      <td>2018-04-01 00:07:13</td>\n",
       "      <td>265</td>\n",
       "      <td>426</td>\n",
       "      <td>Cottage Grove Ave &amp; Oakwood Blvd</td>\n",
       "      <td>Ellis Ave &amp; 60th St</td>\n",
       "      <td>6448</td>\n",
       "      <td>Subscriber</td>\n",
       "      <td>0 days 00:14:47</td>\n",
       "      <td>0.246389</td>\n",
       "    </tr>\n",
       "    <tr>\n",
       "      <th>3599460</th>\n",
       "      <td>2018-03-31 23:53:38</td>\n",
       "      <td>2018-04-01 00:03:08</td>\n",
       "      <td>485</td>\n",
       "      <td>475</td>\n",
       "      <td>Sawyer Ave &amp; Irving Park Rd</td>\n",
       "      <td>Washtenaw Ave &amp; Lawrence Ave</td>\n",
       "      <td>2769</td>\n",
       "      <td>Subscriber</td>\n",
       "      <td>0 days 00:09:30</td>\n",
       "      <td>0.158333</td>\n",
       "    </tr>\n",
       "  </tbody>\n",
       "</table>\n",
       "<p>3599461 rows × 10 columns</p>\n",
       "</div>"
      ],
      "text/plain": [
       "                  start_time             end_time  start_station_id  \\\n",
       "0        2018-04-01 00:04:44  2018-04-01 00:13:03                22   \n",
       "1        2018-04-01 00:06:42  2018-04-01 00:27:07               157   \n",
       "2        2018-04-01 00:07:19  2018-04-01 00:23:19               106   \n",
       "3        2018-04-01 00:07:33  2018-04-01 00:14:47               241   \n",
       "4        2018-04-01 00:10:23  2018-04-01 00:22:12               228   \n",
       "...                      ...                  ...               ...   \n",
       "3599456  2018-03-31 23:46:34  2018-04-01 00:05:24               158   \n",
       "3599457  2018-03-31 23:47:43  2018-03-31 23:52:05               299   \n",
       "3599458  2018-03-31 23:50:18  2018-03-31 23:57:38               327   \n",
       "3599459  2018-03-31 23:52:26  2018-04-01 00:07:13               265   \n",
       "3599460  2018-03-31 23:53:38  2018-04-01 00:03:08               485   \n",
       "\n",
       "         end_station_id                start_station_name  \\\n",
       "0                   171                May St & Taylor St   \n",
       "1                   190    Lake Shore Dr & Wellington Ave   \n",
       "2                   106             State St & Pearson St   \n",
       "3                   171               Morgan St & Polk St   \n",
       "4                   219           Damen Ave & Melrose Ave   \n",
       "...                 ...                               ...   \n",
       "3599456             260      Milwaukee Ave & Wabansia Ave   \n",
       "3599457             229            Halsted St & Roscoe St   \n",
       "3599458             226       Sheffield Ave & Webster Ave   \n",
       "3599459             426  Cottage Grove Ave & Oakwood Blvd   \n",
       "3599460             475       Sawyer Ave & Irving Park Rd   \n",
       "\n",
       "                       end_station_name  bike_id   user_type  \\\n",
       "0                 May St & Cullerton St     3819  Subscriber   \n",
       "1        Southport Ave & Wrightwood Ave     5000  Subscriber   \n",
       "2                 State St & Pearson St     5165    Customer   \n",
       "3                 May St & Cullerton St     3851  Subscriber   \n",
       "4               Damen Ave & Cortland St     5065  Subscriber   \n",
       "...                                 ...      ...         ...   \n",
       "3599456      Kedzie Ave & Milwaukee Ave     1935  Subscriber   \n",
       "3599457       Southport Ave & Roscoe St     5852  Subscriber   \n",
       "3599458        Racine Ave & Belmont Ave     4414  Subscriber   \n",
       "3599459             Ellis Ave & 60th St     6448  Subscriber   \n",
       "3599460    Washtenaw Ave & Lawrence Ave     2769  Subscriber   \n",
       "\n",
       "        duration_per_trip  trip_time_in_hours  \n",
       "0         0 days 00:08:19            0.138611  \n",
       "1         0 days 00:20:25            0.340278  \n",
       "2         0 days 00:16:00            0.266667  \n",
       "3         0 days 00:07:14            0.120556  \n",
       "4         0 days 00:11:49            0.196944  \n",
       "...                   ...                 ...  \n",
       "3599456   0 days 00:18:50            0.313889  \n",
       "3599457   0 days 00:04:22            0.072778  \n",
       "3599458   0 days 00:07:20            0.122222  \n",
       "3599459   0 days 00:14:47            0.246389  \n",
       "3599460   0 days 00:09:30            0.158333  \n",
       "\n",
       "[3599461 rows x 10 columns]"
      ]
     },
     "execution_count": 2,
     "metadata": {},
     "output_type": "execute_result"
    }
   ],
   "source": [
    "df_chicago = pd.read_csv('../dataset/chicago_2018_clean.csv') \n",
    "df_chicago"
   ]
  },
  {
   "cell_type": "code",
   "execution_count": 3,
   "id": "e6bc46b7",
   "metadata": {},
   "outputs": [],
   "source": [
    "#Convert into datetime objects\n",
    "df_chicago['Time'] = pd.to_datetime(df_chicago['start_time']).dt.time\n",
    "df_chicago[\"Hour\"] = pd.to_datetime(df_chicago[\"start_time\"]).dt.hour\n",
    "df_chicago[\"Month\"]= pd.to_datetime(df_chicago[\"start_time\"]).dt.month\n",
    "df_chicago[\"Weekday\"]= pd.to_datetime(df_chicago[\"start_time\"]).dt.dayofweek\n",
    "df_chicago['Day'] = pd.to_datetime(df_chicago['start_time']).dt.date\n",
    "df_chicago[\"Day\"]= pd.to_datetime(df_chicago[\"Day\"])"
   ]
  },
  {
   "cell_type": "markdown",
   "id": "197b7a62",
   "metadata": {},
   "source": [
    "## 2 Average Total Daily Trips per Bike by User_Type"
   ]
  },
  {
   "cell_type": "code",
   "execution_count": 4,
   "id": "54617fcd",
   "metadata": {},
   "outputs": [
    {
     "data": {
      "text/plain": [
       "user_type\n",
       "Customer       674995\n",
       "Subscriber    2924466\n",
       "Name: start_time, dtype: int64"
      ]
     },
     "execution_count": 4,
     "metadata": {},
     "output_type": "execute_result"
    }
   ],
   "source": [
    "df_chicago.groupby(\"user_type\").count()[\"start_time\"].sort_values()"
   ]
  },
  {
   "cell_type": "markdown",
   "id": "667a413c",
   "metadata": {},
   "source": [
    "2 different user_types exist. We split them into 'Subscriber' and 'Customer' and present how many total bike_trips took place during a day on a average basis."
   ]
  },
  {
   "cell_type": "code",
   "execution_count": 5,
   "id": "2cc301a8",
   "metadata": {},
   "outputs": [],
   "source": [
    "df_subscriber = df_chicago[df_chicago['user_type'] == \"Subscriber\"]\n",
    "df_customer = df_chicago[df_chicago['user_type'] == \"Customer\"]"
   ]
  },
  {
   "cell_type": "markdown",
   "id": "cb4cd378",
   "metadata": {},
   "source": [
    "## 3 Average Total Daily Trips per Bike"
   ]
  },
  {
   "cell_type": "code",
   "execution_count": 6,
   "id": "0deecdf8",
   "metadata": {},
   "outputs": [
    {
     "data": {
      "text/plain": [
       "9861.53698630137"
      ]
     },
     "execution_count": 6,
     "metadata": {},
     "output_type": "execute_result"
    }
   ],
   "source": [
    "total_bike_trips_per_day = df_chicago.groupby(['Day'])['bike_id'].count()\n",
    "avg_total_bike_trips_per_day = total_bike_trips_per_day.mean()\n",
    "avg_total_bike_trips_per_day"
   ]
  },
  {
   "cell_type": "markdown",
   "id": "9e6a8292",
   "metadata": {},
   "source": [
    "On average, nearly 9862 trips are made per day."
   ]
  },
  {
   "cell_type": "markdown",
   "id": "88897ad4",
   "metadata": {},
   "source": [
    "## 4 Average Total Daily Trips per Bike (Customer)"
   ]
  },
  {
   "cell_type": "code",
   "execution_count": 7,
   "id": "a5643059",
   "metadata": {},
   "outputs": [
    {
     "data": {
      "text/plain": [
       "1849.3013698630136"
      ]
     },
     "execution_count": 7,
     "metadata": {},
     "output_type": "execute_result"
    }
   ],
   "source": [
    "total_bike_trips_customer = df_customer.groupby(['Day'])['bike_id'].count()\n",
    "avg_total_bike_trips_customer = total_bike_trips_customer.mean()\n",
    "avg_total_bike_trips_customer"
   ]
  },
  {
   "cell_type": "markdown",
   "id": "5e533cbf",
   "metadata": {},
   "source": [
    "Out of the 9862 trips, on average 1849 trips are performed by customers on a daily basis."
   ]
  },
  {
   "cell_type": "markdown",
   "id": "2db04578",
   "metadata": {},
   "source": [
    "## 5 Average Total Daily Trips per Bike (Subscriber)"
   ]
  },
  {
   "cell_type": "code",
   "execution_count": 8,
   "id": "c15869c6",
   "metadata": {},
   "outputs": [
    {
     "data": {
      "text/plain": [
       "8012.235616438356"
      ]
     },
     "execution_count": 8,
     "metadata": {},
     "output_type": "execute_result"
    }
   ],
   "source": [
    "total_bike_trips_subscriber = df_subscriber.groupby(['Day'])['bike_id'].count()\n",
    "avg_total_bike_trips_subscriber = total_bike_trips_subscriber.mean()\n",
    "avg_total_bike_trips_subscriber"
   ]
  },
  {
   "cell_type": "markdown",
   "id": "3e6c178b",
   "metadata": {},
   "source": [
    "From the 9862 trips in total average, 8012 trips are performed by subscribers on a daily basis. Here, we can say that subscribers are these kind of user_types, which are taking more trips compared to customers."
   ]
  },
  {
   "cell_type": "markdown",
   "id": "d378e581",
   "metadata": {},
   "source": [
    "## 6 Average Availability of Bikes per Hour\n"
   ]
  },
  {
   "cell_type": "markdown",
   "id": "43c5ca81",
   "metadata": {},
   "source": [
    "Since we calculate the average daily trips per bike, it is important to estimate the amount of available bikes during a day. Therefore, we look how many bikes are available on an hourly basis. With this, DivyBikes gets a better understanding about their peaking times related to the amount of bikes."
   ]
  },
  {
   "cell_type": "code",
   "execution_count": 9,
   "id": "6bda5e19",
   "metadata": {},
   "outputs": [
    {
     "data": {
      "text/plain": [
       "Text(0, 0.5, 'Available Bikes')"
      ]
     },
     "execution_count": 9,
     "metadata": {},
     "output_type": "execute_result"
    },
    {
     "data": {
      "image/png": "[encoded data removed]",
      "text/plain": [
       "<Figure size 640x480 with 1 Axes>"
      ]
     },
     "metadata": {},
     "output_type": "display_data"
    }
   ],
   "source": [
    "#Calculate the average availability of bikes during a Day\n",
    "def func (x1):\n",
    "    y = df_chicago.bike_id.nunique()/x1\n",
    "    return y\n",
    "\n",
    "y = df_chicago[[\"Hour\",\"Day\",\"bike_id\"]]\n",
    "z = y.groupby([\"Hour\", \"Day\", \"bike_id\"])[\"bike_id\"].count().groupby([\"Hour\"]).mean()\n",
    "z = z.apply(func)\n",
    "\n",
    "#Plot the function\n",
    "ax = z.plot(title =\"Average available bikes for hours of a day\")\n",
    "ax.set_xlabel(\"Hours\")\n",
    "ax.set_ylabel(\"Available Bikes\")"
   ]
  },
  {
   "cell_type": "markdown",
   "id": "3b2d9b10",
   "metadata": {},
   "source": [
    "Based on the plot, we can conclude some statements about the availability of bikes. From midnight to 5am, bikes are available in large quantities. After 6am to 8am, many bikes are used, so the availability is quite low. However, between 9am to 3pm, more bicycles are available. Then, between 4pm to 5pm, availability is the lowest, as that is the time range where most rides are made. Lastly, from 6pm to 11pm, the availability rate increases very high. Here we can once again accept our assumption that the demand of bicycles is mainly taken up as a mobility service to get to work/school."
   ]
  },
  {
   "cell_type": "code",
   "execution_count": 10,
   "id": "99937aad",
   "metadata": {},
   "outputs": [
    {
     "data": {
      "text/plain": [
       "Hour\n",
       "0     5759.463439\n",
       "1     5780.491709\n",
       "2     5739.013923\n",
       "3     5834.367753\n",
       "4     5948.237860\n",
       "5     5844.939717\n",
       "6     5329.646207\n",
       "7     5061.958140\n",
       "8     4958.346422\n",
       "9     5369.238326\n",
       "10    5376.796512\n",
       "11    5253.153823\n",
       "12    5126.927239\n",
       "13    5178.001596\n",
       "14    5204.531411\n",
       "15    5168.858297\n",
       "16    4937.176702\n",
       "17    4619.968978\n",
       "18    4902.309647\n",
       "19    5097.868224\n",
       "20    5287.130316\n",
       "21    5460.159520\n",
       "22    5624.296425\n",
       "23    5696.054602\n",
       "Name: bike_id, dtype: float64"
      ]
     },
     "execution_count": 10,
     "metadata": {},
     "output_type": "execute_result"
    }
   ],
   "source": [
    "#Show available bikes per Hour as list\n",
    "def func (x1):\n",
    "    y = df_chicago.bike_id.nunique()/x1\n",
    "    return y\n",
    "\n",
    "y = df_chicago[[\"Hour\",\"Day\",\"bike_id\"]]\n",
    "z = y.groupby([\"Hour\", \"Day\", \"bike_id\"])[\"bike_id\"].count().groupby([\"Hour\"]).mean()\n",
    "z = z.apply(func)\n",
    "z"
   ]
  }
 ],
 "metadata": {
  "kernelspec": {
   "display_name": "Python 3 (ipykernel)",
   "language": "python",
   "name": "python3"
  },
  "language_info": {
   "codemirror_mode": {
    "name": "ipython",
    "version": 3
   },
   "file_extension": ".py",
   "mimetype": "text/x-python",
   "name": "python",
   "nbconvert_exporter": "python",
   "pygments_lexer": "ipython3",
   "version": "3.9.12"
  }
 },
 "nbformat": 4,
 "nbformat_minor": 5
}
