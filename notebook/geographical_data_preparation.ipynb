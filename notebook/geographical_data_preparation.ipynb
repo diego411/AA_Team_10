{
 "cells": [
  {
   "cell_type": "markdown",
   "id": "48029ab2",
   "metadata": {},
   "source": [
    "# Geographical Data Preparation"
   ]
  },
  {
   "cell_type": "markdown",
   "id": "c4fb3756",
   "metadata": {},
   "source": [
    "In this notebook we clean and prepare the dataset, which contains information about the bike sharing stations within the divvy bike rental network."
   ]
  },
  {
   "cell_type": "markdown",
   "id": "b3f9172e",
   "metadata": {},
   "source": [
    "## 1 Imports"
   ]
  },
  {
   "cell_type": "code",
   "execution_count": 1,
   "id": "73c8e72b",
   "metadata": {},
   "outputs": [],
   "source": [
    "import numpy as np\n",
    "import pandas as pd\n",
    "import matplotlib.pyplot as plt\n",
    "from datetime import datetime, timedelta\n",
    "\n",
    "%matplotlib inline"
   ]
  },
  {
   "cell_type": "markdown",
   "id": "0194a7b2",
   "metadata": {},
   "source": [
    "Load Bike Dataset"
   ]
  },
  {
   "cell_type": "code",
   "execution_count": 2,
   "id": "d2c8271a",
   "metadata": {},
   "outputs": [
    {
     "data": {
      "text/html": [
       "<div>\n",
       "<style scoped>\n",
       "    .dataframe tbody tr th:only-of-type {\n",
       "        vertical-align: middle;\n",
       "    }\n",
       "\n",
       "    .dataframe tbody tr th {\n",
       "        vertical-align: top;\n",
       "    }\n",
       "\n",
       "    .dataframe thead th {\n",
       "        text-align: right;\n",
       "    }\n",
       "</style>\n",
       "<table border=\"1\" class=\"dataframe\">\n",
       "  <thead>\n",
       "    <tr style=\"text-align: right;\">\n",
       "      <th></th>\n",
       "      <th>start_time</th>\n",
       "      <th>end_time</th>\n",
       "      <th>start_station_id</th>\n",
       "      <th>end_station_id</th>\n",
       "      <th>start_station_name</th>\n",
       "      <th>end_station_name</th>\n",
       "      <th>bike_id</th>\n",
       "      <th>user_type</th>\n",
       "      <th>duration_per_trip</th>\n",
       "      <th>trip_time_in_hours</th>\n",
       "    </tr>\n",
       "  </thead>\n",
       "  <tbody>\n",
       "    <tr>\n",
       "      <th>0</th>\n",
       "      <td>2018-04-01 00:04:44</td>\n",
       "      <td>2018-04-01 00:13:03</td>\n",
       "      <td>22</td>\n",
       "      <td>171</td>\n",
       "      <td>May St &amp; Taylor St</td>\n",
       "      <td>May St &amp; Cullerton St</td>\n",
       "      <td>3819</td>\n",
       "      <td>Subscriber</td>\n",
       "      <td>0 days 00:08:19</td>\n",
       "      <td>0.138611</td>\n",
       "    </tr>\n",
       "    <tr>\n",
       "      <th>1</th>\n",
       "      <td>2018-04-01 00:06:42</td>\n",
       "      <td>2018-04-01 00:27:07</td>\n",
       "      <td>157</td>\n",
       "      <td>190</td>\n",
       "      <td>Lake Shore Dr &amp; Wellington Ave</td>\n",
       "      <td>Southport Ave &amp; Wrightwood Ave</td>\n",
       "      <td>5000</td>\n",
       "      <td>Subscriber</td>\n",
       "      <td>0 days 00:20:25</td>\n",
       "      <td>0.340278</td>\n",
       "    </tr>\n",
       "    <tr>\n",
       "      <th>2</th>\n",
       "      <td>2018-04-01 00:07:19</td>\n",
       "      <td>2018-04-01 00:23:19</td>\n",
       "      <td>106</td>\n",
       "      <td>106</td>\n",
       "      <td>State St &amp; Pearson St</td>\n",
       "      <td>State St &amp; Pearson St</td>\n",
       "      <td>5165</td>\n",
       "      <td>Customer</td>\n",
       "      <td>0 days 00:16:00</td>\n",
       "      <td>0.266667</td>\n",
       "    </tr>\n",
       "    <tr>\n",
       "      <th>3</th>\n",
       "      <td>2018-04-01 00:07:33</td>\n",
       "      <td>2018-04-01 00:14:47</td>\n",
       "      <td>241</td>\n",
       "      <td>171</td>\n",
       "      <td>Morgan St &amp; Polk St</td>\n",
       "      <td>May St &amp; Cullerton St</td>\n",
       "      <td>3851</td>\n",
       "      <td>Subscriber</td>\n",
       "      <td>0 days 00:07:14</td>\n",
       "      <td>0.120556</td>\n",
       "    </tr>\n",
       "    <tr>\n",
       "      <th>4</th>\n",
       "      <td>2018-04-01 00:10:23</td>\n",
       "      <td>2018-04-01 00:22:12</td>\n",
       "      <td>228</td>\n",
       "      <td>219</td>\n",
       "      <td>Damen Ave &amp; Melrose Ave</td>\n",
       "      <td>Damen Ave &amp; Cortland St</td>\n",
       "      <td>5065</td>\n",
       "      <td>Subscriber</td>\n",
       "      <td>0 days 00:11:49</td>\n",
       "      <td>0.196944</td>\n",
       "    </tr>\n",
       "  </tbody>\n",
       "</table>\n",
       "</div>"
      ],
      "text/plain": [
       "            start_time             end_time  start_station_id  end_station_id  \\\n",
       "0  2018-04-01 00:04:44  2018-04-01 00:13:03                22             171   \n",
       "1  2018-04-01 00:06:42  2018-04-01 00:27:07               157             190   \n",
       "2  2018-04-01 00:07:19  2018-04-01 00:23:19               106             106   \n",
       "3  2018-04-01 00:07:33  2018-04-01 00:14:47               241             171   \n",
       "4  2018-04-01 00:10:23  2018-04-01 00:22:12               228             219   \n",
       "\n",
       "               start_station_name                end_station_name  bike_id  \\\n",
       "0              May St & Taylor St           May St & Cullerton St     3819   \n",
       "1  Lake Shore Dr & Wellington Ave  Southport Ave & Wrightwood Ave     5000   \n",
       "2           State St & Pearson St           State St & Pearson St     5165   \n",
       "3             Morgan St & Polk St           May St & Cullerton St     3851   \n",
       "4         Damen Ave & Melrose Ave         Damen Ave & Cortland St     5065   \n",
       "\n",
       "    user_type duration_per_trip  trip_time_in_hours  \n",
       "0  Subscriber   0 days 00:08:19            0.138611  \n",
       "1  Subscriber   0 days 00:20:25            0.340278  \n",
       "2    Customer   0 days 00:16:00            0.266667  \n",
       "3  Subscriber   0 days 00:07:14            0.120556  \n",
       "4  Subscriber   0 days 00:11:49            0.196944  "
      ]
     },
     "execution_count": 2,
     "metadata": {},
     "output_type": "execute_result"
    }
   ],
   "source": [
    "df_chicago = pd.read_csv('../dataset/chicago_2018_clean.csv') \n",
    "df_chicago.head()"
   ]
  },
  {
   "cell_type": "markdown",
   "id": "ae4f1653",
   "metadata": {},
   "source": [
    "## 2 Load Station Dataset"
   ]
  },
  {
   "cell_type": "markdown",
   "id": "efe7025c",
   "metadata": {},
   "source": [
    "We retrieved the geographical data for the bike stations from the [Chicago Data Portal](https://data.cityofchicago.org/). They provide a dataset which contains a list of all the stations where one can pick up and return bicycles from the Divvy bicycle sharing system, which is the same system the data for the bike rides is based on. The particular dataset can be accessed [here](https://data.cityofchicago.org/Transportation/Divvy-Bicycle-Stations/bbyy-e7gq/data). According to the website it was last updated in 2022, meaning it contains newer data than the data our biked dataset is based on. However, as long as only new stations were added this should not pose a problem. We also later consider the case of stations being altered."
   ]
  },
  {
   "cell_type": "code",
   "execution_count": 3,
   "id": "a7af1021",
   "metadata": {},
   "outputs": [
    {
     "data": {
      "text/html": [
       "<div>\n",
       "<style scoped>\n",
       "    .dataframe tbody tr th:only-of-type {\n",
       "        vertical-align: middle;\n",
       "    }\n",
       "\n",
       "    .dataframe tbody tr th {\n",
       "        vertical-align: top;\n",
       "    }\n",
       "\n",
       "    .dataframe thead th {\n",
       "        text-align: right;\n",
       "    }\n",
       "</style>\n",
       "<table border=\"1\" class=\"dataframe\">\n",
       "  <thead>\n",
       "    <tr style=\"text-align: right;\">\n",
       "      <th></th>\n",
       "      <th>ID</th>\n",
       "      <th>Station Name</th>\n",
       "      <th>Total Docks</th>\n",
       "      <th>Docks in Service</th>\n",
       "      <th>Status</th>\n",
       "      <th>Latitude</th>\n",
       "      <th>Longitude</th>\n",
       "      <th>Location</th>\n",
       "    </tr>\n",
       "  </thead>\n",
       "  <tbody>\n",
       "    <tr>\n",
       "      <th>0</th>\n",
       "      <td>1594046383808271024</td>\n",
       "      <td>Troy St &amp; Jackson Blvd</td>\n",
       "      <td>9</td>\n",
       "      <td>9</td>\n",
       "      <td>In Service</td>\n",
       "      <td>41.877505</td>\n",
       "      <td>-87.704850</td>\n",
       "      <td>(41.877505, -87.70485)</td>\n",
       "    </tr>\n",
       "    <tr>\n",
       "      <th>1</th>\n",
       "      <td>641</td>\n",
       "      <td>Central Park Ave &amp; Bloomingdale Ave</td>\n",
       "      <td>11</td>\n",
       "      <td>11</td>\n",
       "      <td>In Service</td>\n",
       "      <td>41.914166</td>\n",
       "      <td>-87.716755</td>\n",
       "      <td>(41.914166, -87.716755)</td>\n",
       "    </tr>\n",
       "    <tr>\n",
       "      <th>2</th>\n",
       "      <td>1683527931525155814</td>\n",
       "      <td>Public Rack - Cornell Ave &amp; 87th Pl</td>\n",
       "      <td>1</td>\n",
       "      <td>1</td>\n",
       "      <td>In Service</td>\n",
       "      <td>41.736881</td>\n",
       "      <td>-87.583146</td>\n",
       "      <td>(41.73688127, -87.58314552)</td>\n",
       "    </tr>\n",
       "    <tr>\n",
       "      <th>3</th>\n",
       "      <td>367</td>\n",
       "      <td>Racine Ave &amp; 35th St</td>\n",
       "      <td>15</td>\n",
       "      <td>15</td>\n",
       "      <td>In Service</td>\n",
       "      <td>41.830689</td>\n",
       "      <td>-87.656211</td>\n",
       "      <td>(41.83068856472101, -87.65621066093445)</td>\n",
       "    </tr>\n",
       "    <tr>\n",
       "      <th>4</th>\n",
       "      <td>1673852313397164648</td>\n",
       "      <td>Public Rack - Francisco Ave &amp; Touhy Ave</td>\n",
       "      <td>2</td>\n",
       "      <td>2</td>\n",
       "      <td>In Service</td>\n",
       "      <td>42.011865</td>\n",
       "      <td>-87.701317</td>\n",
       "      <td>(42.011865, -87.701317)</td>\n",
       "    </tr>\n",
       "  </tbody>\n",
       "</table>\n",
       "</div>"
      ],
      "text/plain": [
       "                    ID                             Station Name  Total Docks  \\\n",
       "0  1594046383808271024                   Troy St & Jackson Blvd            9   \n",
       "1                  641      Central Park Ave & Bloomingdale Ave           11   \n",
       "2  1683527931525155814      Public Rack - Cornell Ave & 87th Pl            1   \n",
       "3                  367                     Racine Ave & 35th St           15   \n",
       "4  1673852313397164648  Public Rack - Francisco Ave & Touhy Ave            2   \n",
       "\n",
       "   Docks in Service      Status   Latitude  Longitude  \\\n",
       "0                 9  In Service  41.877505 -87.704850   \n",
       "1                11  In Service  41.914166 -87.716755   \n",
       "2                 1  In Service  41.736881 -87.583146   \n",
       "3                15  In Service  41.830689 -87.656211   \n",
       "4                 2  In Service  42.011865 -87.701317   \n",
       "\n",
       "                                  Location  \n",
       "0                   (41.877505, -87.70485)  \n",
       "1                  (41.914166, -87.716755)  \n",
       "2              (41.73688127, -87.58314552)  \n",
       "3  (41.83068856472101, -87.65621066093445)  \n",
       "4                  (42.011865, -87.701317)  "
      ]
     },
     "execution_count": 3,
     "metadata": {},
     "output_type": "execute_result"
    }
   ],
   "source": [
    "df_chicago_stations = pd.read_csv('../dataset/Divvy_Bicycle_Stations.csv')\n",
    "df_chicago_stations.head()"
   ]
  },
  {
   "cell_type": "markdown",
   "id": "b9300ca1",
   "metadata": {},
   "source": [
    "## 3 NaN Values"
   ]
  },
  {
   "cell_type": "code",
   "execution_count": 4,
   "id": "1cd9f54a",
   "metadata": {},
   "outputs": [
    {
     "data": {
      "text/plain": [
       "ID                  0\n",
       "Station Name        0\n",
       "Total Docks         0\n",
       "Docks in Service    0\n",
       "Status              0\n",
       "Latitude            0\n",
       "Longitude           0\n",
       "Location            0\n",
       "dtype: int64"
      ]
     },
     "execution_count": 4,
     "metadata": {},
     "output_type": "execute_result"
    }
   ],
   "source": [
    "df_chicago_stations.isnull().sum()"
   ]
  },
  {
   "cell_type": "markdown",
   "id": "7eaecb20",
   "metadata": {},
   "source": [
    "The dataset has no missing values."
   ]
  },
  {
   "cell_type": "markdown",
   "id": "0fa8e1d3",
   "metadata": {},
   "source": [
    "## 4 Duplicates"
   ]
  },
  {
   "cell_type": "code",
   "execution_count": 5,
   "id": "4a503652",
   "metadata": {},
   "outputs": [
    {
     "data": {
      "text/html": [
       "<div>\n",
       "<style scoped>\n",
       "    .dataframe tbody tr th:only-of-type {\n",
       "        vertical-align: middle;\n",
       "    }\n",
       "\n",
       "    .dataframe tbody tr th {\n",
       "        vertical-align: top;\n",
       "    }\n",
       "\n",
       "    .dataframe thead th {\n",
       "        text-align: right;\n",
       "    }\n",
       "</style>\n",
       "<table border=\"1\" class=\"dataframe\">\n",
       "  <thead>\n",
       "    <tr style=\"text-align: right;\">\n",
       "      <th></th>\n",
       "      <th>ID</th>\n",
       "      <th>Station Name</th>\n",
       "      <th>Total Docks</th>\n",
       "      <th>Docks in Service</th>\n",
       "      <th>Status</th>\n",
       "      <th>Latitude</th>\n",
       "      <th>Longitude</th>\n",
       "      <th>Location</th>\n",
       "    </tr>\n",
       "  </thead>\n",
       "  <tbody>\n",
       "  </tbody>\n",
       "</table>\n",
       "</div>"
      ],
      "text/plain": [
       "Empty DataFrame\n",
       "Columns: [ID, Station Name, Total Docks, Docks in Service, Status, Latitude, Longitude, Location]\n",
       "Index: []"
      ]
     },
     "execution_count": 5,
     "metadata": {},
     "output_type": "execute_result"
    }
   ],
   "source": [
    "df_chicago_stations[df_chicago_stations.duplicated(keep=False)]"
   ]
  },
  {
   "cell_type": "markdown",
   "id": "f0708078",
   "metadata": {},
   "source": [
    "The data contains no duplicate rows."
   ]
  },
  {
   "cell_type": "markdown",
   "id": "18ba5049",
   "metadata": {},
   "source": [
    "## 5 Completeness"
   ]
  },
  {
   "cell_type": "code",
   "execution_count": 6,
   "id": "6e5857e4",
   "metadata": {
    "scrolled": false
   },
   "outputs": [
    {
     "data": {
      "text/plain": [
       "array([  2,   3,   4,   5,   6,   7,   9,  11,  12,  13,  14,  15,  16,\n",
       "        17,  18,  19,  20,  21,  22,  23,  24,  25,  26,  27,  28,  29,\n",
       "        30,  31,  32,  33,  34,  35,  36,  37,  38,  39,  40,  41,  42,\n",
       "        43,  44,  45,  46,  47,  48,  49,  50,  51,  52,  53,  54,  55,\n",
       "        56,  57,  58,  59,  60,  61,  62,  66,  67,  68,  69,  71,  72,\n",
       "        73,  74,  75,  76,  77,  80,  81,  84,  85,  86,  87,  88,  89,\n",
       "        90,  91,  92,  93,  94,  95,  96,  97,  98,  99, 100, 101, 102,\n",
       "       103, 106, 107, 108, 109, 110, 111, 112, 113, 114, 115, 116, 117,\n",
       "       118, 119, 120, 121, 122, 123, 124, 125, 126, 127, 128, 129, 130,\n",
       "       131, 132, 133, 134, 135, 136, 137, 138, 140, 141, 142, 143, 144,\n",
       "       145, 146, 147, 148, 149, 150, 152, 153, 154, 156, 157, 158, 159,\n",
       "       160, 161, 162, 163, 164, 165, 166, 167, 168, 169, 170, 171, 172,\n",
       "       173, 174, 175, 176, 177, 178, 179, 180, 181, 182, 183, 184, 185,\n",
       "       186, 188, 190, 191, 192, 193, 194, 195, 196, 197, 198, 199, 200,\n",
       "       201, 202, 203, 204, 205, 206, 207, 208, 209, 210, 211, 212, 213,\n",
       "       214, 215, 216, 217, 218, 219, 220, 222, 223, 224, 225, 226, 227,\n",
       "       228, 229, 230, 231, 232, 233, 234, 236, 237, 238, 239, 240, 241,\n",
       "       242, 243, 244, 245, 246, 247, 248, 249, 250, 251, 252, 253, 254,\n",
       "       255, 256, 257, 258, 259, 260, 261, 262, 263, 264, 265, 267, 268,\n",
       "       270, 271, 272, 273, 274, 275, 276, 277, 278, 279, 280, 281, 282,\n",
       "       283, 284, 285, 286, 287, 288, 289, 290, 291, 292, 293, 294, 295,\n",
       "       296, 297, 298, 299, 300, 301, 302, 303, 304, 305, 306, 307, 308,\n",
       "       309, 310, 311, 312, 313, 314, 315, 316, 317, 318, 319, 320, 321,\n",
       "       322, 323, 324, 325, 326, 327, 328, 329, 330, 331, 332, 333, 334,\n",
       "       335, 336, 337, 338, 339, 340, 341, 342, 343, 344, 345, 346, 347,\n",
       "       348, 349, 350, 351, 352, 353, 354, 355, 356, 359, 360, 361, 363,\n",
       "       364, 365, 366, 367, 368, 369, 370, 373, 374, 375, 376, 377, 378,\n",
       "       381, 382, 383, 384, 385, 386, 388, 390, 391, 392, 393, 394, 395,\n",
       "       396, 397, 398, 399, 400, 401, 402, 403, 405, 406, 407, 408, 409,\n",
       "       410, 411, 412, 413, 414, 415, 416, 417, 418, 419, 420, 421, 422,\n",
       "       423, 424, 425, 426, 427, 428, 429, 430, 431, 432, 433, 434, 435,\n",
       "       436, 437, 438, 439, 440, 441, 442, 443, 444, 445, 446, 447, 448,\n",
       "       449, 450, 451, 452, 453, 454, 455, 456, 457, 458, 459, 460, 461,\n",
       "       462, 463, 464, 465, 466, 467, 468, 469, 470, 471, 472, 474, 475,\n",
       "       476, 477, 478, 479, 480, 481, 482, 483, 484, 485, 486, 487, 488,\n",
       "       489, 490, 491, 492, 493, 494, 495, 496, 497, 498, 499, 500, 501,\n",
       "       502, 503, 504, 505, 506, 507, 508, 509, 510, 511, 512, 514, 515,\n",
       "       517, 518, 519, 520, 522, 523, 524, 525, 526, 527, 528, 529, 530,\n",
       "       531, 532, 533, 534, 535, 536, 537, 538, 539, 540, 541, 542, 543,\n",
       "       544, 545, 546, 547, 548, 549, 550, 551, 552, 553, 554, 555, 556,\n",
       "       557, 558, 559, 560, 561, 562, 563, 564, 565, 566, 567, 568, 569,\n",
       "       570, 571, 572, 573, 574, 575, 576, 577, 578, 579, 580, 581, 582,\n",
       "       583, 584, 585, 586, 587, 588, 589, 590, 591, 592, 593, 594, 595,\n",
       "       596, 597, 598, 599, 600, 601, 602, 603, 604, 605, 606, 607, 608,\n",
       "       609, 610, 611, 612, 613, 614, 615, 616, 617, 618, 619, 620, 621,\n",
       "       622, 623, 624, 625, 626, 627, 628, 630, 631, 632, 635, 636, 637,\n",
       "       638, 639, 640, 641, 643, 644, 646, 647, 648, 649, 650, 651, 653,\n",
       "       654, 655, 656, 657, 658, 659, 660, 661, 662, 663, 664], dtype=int64)"
      ]
     },
     "execution_count": 6,
     "metadata": {},
     "output_type": "execute_result"
    }
   ],
   "source": [
    "relevant_station_ids = np.union1d(\n",
    "    df_chicago['start_station_id'].unique(), df_chicago['end_station_id'].unique()\n",
    ")\n",
    "relevant_station_ids"
   ]
  },
  {
   "cell_type": "markdown",
   "id": "79b1f043",
   "metadata": {},
   "source": [
    "These are the ids of all unique stations in the bike dataset. Firstly, we check whether or not the station dataset covers all of these stations."
   ]
  },
  {
   "cell_type": "code",
   "execution_count": 7,
   "id": "5f4acadd",
   "metadata": {},
   "outputs": [],
   "source": [
    "available_stations_ids = np.intersect1d(df_chicago_stations['ID'].unique(), \n",
    "                                    relevant_station_ids)"
   ]
  },
  {
   "cell_type": "code",
   "execution_count": 8,
   "id": "806e1134",
   "metadata": {
    "scrolled": true
   },
   "outputs": [
    {
     "name": "stdout",
     "output_type": "stream",
     "text": [
      "Missing station ids: [360 361 363 397 459 512 606 607 608 609 610 611 612 613 614 615 616 617\n",
      " 618 651]\n",
      "We do not have data for 20 stations.\n"
     ]
    }
   ],
   "source": [
    "missing_stations_ids = np.setdiff1d(relevant_station_ids, available_stations_ids)\n",
    "print(\"Missing station ids:\",missing_stations_ids)\n",
    "print(\"We do not have data for\", len(missing_stations_ids), \"stations.\")"
   ]
  },
  {
   "cell_type": "code",
   "execution_count": 9,
   "id": "bec72ccf",
   "metadata": {},
   "outputs": [
    {
     "data": {
      "text/plain": [
       "{360: 'DIVVY Map Frame B/C Station',\n",
       " 361: 'DIVVY CASSETTE REPAIR MOBILE STATION',\n",
       " 363: 'TS ~ DIVVY PARTS TESTING',\n",
       " 397: 'Saginaw Ave & Exchange Ave',\n",
       " 459: 'Lakefront Trail & Bryn Mawr Ave',\n",
       " 512: 'BBB ~ Divvy Parts Testing',\n",
       " 606: 'Forest Ave & Chicago Ave',\n",
       " 607: 'Cuyler Ave & Augusta St',\n",
       " 608: 'Humphrey Ave & Ontario St',\n",
       " 609: 'Forest Ave & Lake St',\n",
       " 610: 'Marion St & South Blvd',\n",
       " 611: 'Oak Park Ave & South Blvd',\n",
       " 612: 'Ridgeland Ave & Lake St',\n",
       " 613: 'Wisconsin Ave & Madison St (Temp)',\n",
       " 614: 'East Ave & Madison St',\n",
       " 615: 'Lombard Ave & Madison St',\n",
       " 616: 'Oak Park Ave & Harrison St',\n",
       " 617: 'East Ave & Garfield St',\n",
       " 618: 'Lombard Ave & Garfield St',\n",
       " 651: 'Michigan Ave & 71st St'}"
      ]
     },
     "execution_count": 9,
     "metadata": {},
     "output_type": "execute_result"
    }
   ],
   "source": [
    "missing_stations = {}\n",
    "\n",
    "for station_id in missing_stations_ids:\n",
    "    station_name = np.nan\n",
    "    if not df_chicago[df_chicago['start_station_id'] == station_id].empty:\n",
    "        station_name = df_chicago[df_chicago['start_station_id'] == station_id]['start_station_name'].iloc[0]\n",
    "    elif not df_chicago[df_chicago['end_station_id'] == station_id].empty:\n",
    "        station_name = df_chicago[df_chicago['end_station_id'] == station_id]['end_station_name'].iloc[0]\n",
    "    missing_stations[station_id] = station_name\n",
    "missing_stations"
   ]
  },
  {
   "cell_type": "markdown",
   "id": "60a6ea62",
   "metadata": {},
   "source": [
    "Above are the stations which are not included in the stations dataset. In total these are 20 stations. Looking at some of the names one can see that some of these stations are operational Divvy stations which are e.g used for repairing or testing bikes. It is possible that divvy removed or even renamed some of these stations after 2018 thus their absence in the station dataset. However, some of these are legitimate streets. Their absence could mean that they either lost their status as divvy bicycles stations or their id changed for some reason."
   ]
  },
  {
   "cell_type": "markdown",
   "id": "bf1355e6",
   "metadata": {},
   "source": [
    "E.g. the station 'Michigan Ave & 71st St' can be found in the station dataset, however its id changed from 651 to 674. "
   ]
  },
  {
   "cell_type": "code",
   "execution_count": 10,
   "id": "4b99632b",
   "metadata": {
    "scrolled": true
   },
   "outputs": [
    {
     "data": {
      "text/html": [
       "<div>\n",
       "<style scoped>\n",
       "    .dataframe tbody tr th:only-of-type {\n",
       "        vertical-align: middle;\n",
       "    }\n",
       "\n",
       "    .dataframe tbody tr th {\n",
       "        vertical-align: top;\n",
       "    }\n",
       "\n",
       "    .dataframe thead th {\n",
       "        text-align: right;\n",
       "    }\n",
       "</style>\n",
       "<table border=\"1\" class=\"dataframe\">\n",
       "  <thead>\n",
       "    <tr style=\"text-align: right;\">\n",
       "      <th></th>\n",
       "      <th>ID</th>\n",
       "      <th>Station Name</th>\n",
       "      <th>Total Docks</th>\n",
       "      <th>Docks in Service</th>\n",
       "      <th>Status</th>\n",
       "      <th>Latitude</th>\n",
       "      <th>Longitude</th>\n",
       "      <th>Location</th>\n",
       "    </tr>\n",
       "  </thead>\n",
       "  <tbody>\n",
       "    <tr>\n",
       "      <th>21</th>\n",
       "      <td>674</td>\n",
       "      <td>Michigan Ave &amp; 71st St</td>\n",
       "      <td>7</td>\n",
       "      <td>7</td>\n",
       "      <td>In Service</td>\n",
       "      <td>41.765286</td>\n",
       "      <td>-87.621748</td>\n",
       "      <td>(41.765286, -87.621748)</td>\n",
       "    </tr>\n",
       "  </tbody>\n",
       "</table>\n",
       "</div>"
      ],
      "text/plain": [
       "     ID            Station Name  Total Docks  Docks in Service      Status  \\\n",
       "21  674  Michigan Ave & 71st St            7                 7  In Service   \n",
       "\n",
       "     Latitude  Longitude                 Location  \n",
       "21  41.765286 -87.621748  (41.765286, -87.621748)  "
      ]
     },
     "execution_count": 10,
     "metadata": {},
     "output_type": "execute_result"
    }
   ],
   "source": [
    "df_chicago_stations[\n",
    "    df_chicago_stations['Station Name'].str.contains('Michigan Ave & 71st St')\n",
    "]"
   ]
  },
  {
   "cell_type": "markdown",
   "id": "4ae2411f",
   "metadata": {},
   "source": [
    "The same goes for the stations 'Lakefront Trail & Bryn Mawr Ave' and 'Michigan Ave & 71st St'."
   ]
  },
  {
   "cell_type": "code",
   "execution_count": 11,
   "id": "80e3ad0d",
   "metadata": {},
   "outputs": [
    {
     "data": {
      "text/html": [
       "<div>\n",
       "<style scoped>\n",
       "    .dataframe tbody tr th:only-of-type {\n",
       "        vertical-align: middle;\n",
       "    }\n",
       "\n",
       "    .dataframe tbody tr th {\n",
       "        vertical-align: top;\n",
       "    }\n",
       "\n",
       "    .dataframe thead th {\n",
       "        text-align: right;\n",
       "    }\n",
       "</style>\n",
       "<table border=\"1\" class=\"dataframe\">\n",
       "  <thead>\n",
       "    <tr style=\"text-align: right;\">\n",
       "      <th></th>\n",
       "      <th>ID</th>\n",
       "      <th>Station Name</th>\n",
       "      <th>Total Docks</th>\n",
       "      <th>Docks in Service</th>\n",
       "      <th>Status</th>\n",
       "      <th>Latitude</th>\n",
       "      <th>Longitude</th>\n",
       "      <th>Location</th>\n",
       "    </tr>\n",
       "  </thead>\n",
       "  <tbody>\n",
       "    <tr>\n",
       "      <th>676</th>\n",
       "      <td>760</td>\n",
       "      <td>Lakefront Trail &amp; Bryn Mawr Ave</td>\n",
       "      <td>19</td>\n",
       "      <td>19</td>\n",
       "      <td>In Service</td>\n",
       "      <td>41.984044</td>\n",
       "      <td>-87.652281</td>\n",
       "      <td>(41.98404411519213, -87.65228122472763)</td>\n",
       "    </tr>\n",
       "  </tbody>\n",
       "</table>\n",
       "</div>"
      ],
      "text/plain": [
       "      ID                     Station Name  Total Docks  Docks in Service  \\\n",
       "676  760  Lakefront Trail & Bryn Mawr Ave           19                19   \n",
       "\n",
       "         Status   Latitude  Longitude                                 Location  \n",
       "676  In Service  41.984044 -87.652281  (41.98404411519213, -87.65228122472763)  "
      ]
     },
     "execution_count": 11,
     "metadata": {},
     "output_type": "execute_result"
    }
   ],
   "source": [
    "df_chicago_stations[\n",
    "    df_chicago_stations['Station Name'].str.contains('Lakefront Trail & Bryn Mawr Ave')\n",
    "]"
   ]
  },
  {
   "cell_type": "code",
   "execution_count": 12,
   "id": "71b02943",
   "metadata": {},
   "outputs": [
    {
     "data": {
      "text/html": [
       "<div>\n",
       "<style scoped>\n",
       "    .dataframe tbody tr th:only-of-type {\n",
       "        vertical-align: middle;\n",
       "    }\n",
       "\n",
       "    .dataframe tbody tr th {\n",
       "        vertical-align: top;\n",
       "    }\n",
       "\n",
       "    .dataframe thead th {\n",
       "        text-align: right;\n",
       "    }\n",
       "</style>\n",
       "<table border=\"1\" class=\"dataframe\">\n",
       "  <thead>\n",
       "    <tr style=\"text-align: right;\">\n",
       "      <th></th>\n",
       "      <th>ID</th>\n",
       "      <th>Station Name</th>\n",
       "      <th>Total Docks</th>\n",
       "      <th>Docks in Service</th>\n",
       "      <th>Status</th>\n",
       "      <th>Latitude</th>\n",
       "      <th>Longitude</th>\n",
       "      <th>Location</th>\n",
       "    </tr>\n",
       "  </thead>\n",
       "  <tbody>\n",
       "    <tr>\n",
       "      <th>21</th>\n",
       "      <td>674</td>\n",
       "      <td>Michigan Ave &amp; 71st St</td>\n",
       "      <td>7</td>\n",
       "      <td>7</td>\n",
       "      <td>In Service</td>\n",
       "      <td>41.765286</td>\n",
       "      <td>-87.621748</td>\n",
       "      <td>(41.765286, -87.621748)</td>\n",
       "    </tr>\n",
       "  </tbody>\n",
       "</table>\n",
       "</div>"
      ],
      "text/plain": [
       "     ID            Station Name  Total Docks  Docks in Service      Status  \\\n",
       "21  674  Michigan Ave & 71st St            7                 7  In Service   \n",
       "\n",
       "     Latitude  Longitude                 Location  \n",
       "21  41.765286 -87.621748  (41.765286, -87.621748)  "
      ]
     },
     "execution_count": 12,
     "metadata": {},
     "output_type": "execute_result"
    }
   ],
   "source": [
    "df_chicago_stations[\n",
    "    df_chicago_stations['Station Name'].str.contains('Michigan Ave & 71st St')\n",
    "]"
   ]
  },
  {
   "cell_type": "markdown",
   "id": "b9c686a0",
   "metadata": {},
   "source": [
    "Even for these stations however there might be a justified reason for the change of id. For that reason we will treat these stations the same way as all the other stations which we cannot map to the station dataset."
   ]
  },
  {
   "cell_type": "markdown",
   "id": "dfd9d890",
   "metadata": {},
   "source": [
    "## 6 Synthesise Station Dataset"
   ]
  },
  {
   "cell_type": "markdown",
   "id": "f3e84567",
   "metadata": {},
   "source": [
    "### 6.1 Rename columns and index by id"
   ]
  },
  {
   "cell_type": "code",
   "execution_count": 13,
   "id": "54c0cfa0",
   "metadata": {},
   "outputs": [
    {
     "data": {
      "text/html": [
       "<div>\n",
       "<style scoped>\n",
       "    .dataframe tbody tr th:only-of-type {\n",
       "        vertical-align: middle;\n",
       "    }\n",
       "\n",
       "    .dataframe tbody tr th {\n",
       "        vertical-align: top;\n",
       "    }\n",
       "\n",
       "    .dataframe thead th {\n",
       "        text-align: right;\n",
       "    }\n",
       "</style>\n",
       "<table border=\"1\" class=\"dataframe\">\n",
       "  <thead>\n",
       "    <tr style=\"text-align: right;\">\n",
       "      <th></th>\n",
       "      <th>station_name</th>\n",
       "      <th>x</th>\n",
       "      <th>y</th>\n",
       "      <th>position</th>\n",
       "    </tr>\n",
       "    <tr>\n",
       "      <th>ID</th>\n",
       "      <th></th>\n",
       "      <th></th>\n",
       "      <th></th>\n",
       "      <th></th>\n",
       "    </tr>\n",
       "  </thead>\n",
       "  <tbody>\n",
       "    <tr>\n",
       "      <th>1594046383808271024</th>\n",
       "      <td>Troy St &amp; Jackson Blvd</td>\n",
       "      <td>41.877505</td>\n",
       "      <td>-87.704850</td>\n",
       "      <td>(41.877505, -87.70485)</td>\n",
       "    </tr>\n",
       "    <tr>\n",
       "      <th>641</th>\n",
       "      <td>Central Park Ave &amp; Bloomingdale Ave</td>\n",
       "      <td>41.914166</td>\n",
       "      <td>-87.716755</td>\n",
       "      <td>(41.914166, -87.716755)</td>\n",
       "    </tr>\n",
       "    <tr>\n",
       "      <th>1683527931525155814</th>\n",
       "      <td>Public Rack - Cornell Ave &amp; 87th Pl</td>\n",
       "      <td>41.736881</td>\n",
       "      <td>-87.583146</td>\n",
       "      <td>(41.73688127, -87.58314552)</td>\n",
       "    </tr>\n",
       "    <tr>\n",
       "      <th>367</th>\n",
       "      <td>Racine Ave &amp; 35th St</td>\n",
       "      <td>41.830689</td>\n",
       "      <td>-87.656211</td>\n",
       "      <td>(41.83068856472101, -87.65621066093445)</td>\n",
       "    </tr>\n",
       "    <tr>\n",
       "      <th>1673852313397164648</th>\n",
       "      <td>Public Rack - Francisco Ave &amp; Touhy Ave</td>\n",
       "      <td>42.011865</td>\n",
       "      <td>-87.701317</td>\n",
       "      <td>(42.011865, -87.701317)</td>\n",
       "    </tr>\n",
       "  </tbody>\n",
       "</table>\n",
       "</div>"
      ],
      "text/plain": [
       "                                                station_name          x  \\\n",
       "ID                                                                        \n",
       "1594046383808271024                   Troy St & Jackson Blvd  41.877505   \n",
       "641                      Central Park Ave & Bloomingdale Ave  41.914166   \n",
       "1683527931525155814      Public Rack - Cornell Ave & 87th Pl  41.736881   \n",
       "367                                     Racine Ave & 35th St  41.830689   \n",
       "1673852313397164648  Public Rack - Francisco Ave & Touhy Ave  42.011865   \n",
       "\n",
       "                             y                                 position  \n",
       "ID                                                                       \n",
       "1594046383808271024 -87.704850                   (41.877505, -87.70485)  \n",
       "641                 -87.716755                  (41.914166, -87.716755)  \n",
       "1683527931525155814 -87.583146              (41.73688127, -87.58314552)  \n",
       "367                 -87.656211  (41.83068856472101, -87.65621066093445)  \n",
       "1673852313397164648 -87.701317                  (42.011865, -87.701317)  "
      ]
     },
     "execution_count": 13,
     "metadata": {},
     "output_type": "execute_result"
    }
   ],
   "source": [
    "df_chicago_stations_indexed_by_id = df_chicago_stations.set_index('ID')\n",
    "df_chicago_stations_indexed_by_id = df_chicago_stations_indexed_by_id.drop(\n",
    "    ['Total Docks', 'Docks in Service', 'Status'], axis = 1\n",
    ")\n",
    "df_chicago_stations_indexed_by_id = df_chicago_stations_indexed_by_id.rename(\n",
    "    columns = {'Latitude': 'x', 'Longitude': 'y', 'Station Name': 'station_name', 'Location': 'position'}\n",
    ")\n",
    "df_chicago_stations_indexed_by_id.head()"
   ]
  },
  {
   "cell_type": "markdown",
   "id": "014165c1",
   "metadata": {},
   "source": [
    "### 6.2 Add available data"
   ]
  },
  {
   "cell_type": "markdown",
   "id": "16b4f447",
   "metadata": {},
   "source": [
    "First we query the data for all stations available in the dataset and add them to a new dataframe."
   ]
  },
  {
   "cell_type": "code",
   "execution_count": 14,
   "id": "4a4d467d",
   "metadata": {},
   "outputs": [
    {
     "data": {
      "text/html": [
       "<div>\n",
       "<style scoped>\n",
       "    .dataframe tbody tr th:only-of-type {\n",
       "        vertical-align: middle;\n",
       "    }\n",
       "\n",
       "    .dataframe tbody tr th {\n",
       "        vertical-align: top;\n",
       "    }\n",
       "\n",
       "    .dataframe thead th {\n",
       "        text-align: right;\n",
       "    }\n",
       "</style>\n",
       "<table border=\"1\" class=\"dataframe\">\n",
       "  <thead>\n",
       "    <tr style=\"text-align: right;\">\n",
       "      <th></th>\n",
       "      <th>station_name</th>\n",
       "      <th>x</th>\n",
       "      <th>y</th>\n",
       "      <th>position</th>\n",
       "    </tr>\n",
       "    <tr>\n",
       "      <th>ID</th>\n",
       "      <th></th>\n",
       "      <th></th>\n",
       "      <th></th>\n",
       "      <th></th>\n",
       "    </tr>\n",
       "  </thead>\n",
       "  <tbody>\n",
       "    <tr>\n",
       "      <th>2</th>\n",
       "      <td>Buckingham Fountain</td>\n",
       "      <td>41.876423</td>\n",
       "      <td>-87.620339</td>\n",
       "      <td>(41.876423, -87.620339)</td>\n",
       "    </tr>\n",
       "    <tr>\n",
       "      <th>3</th>\n",
       "      <td>Shedd Aquarium</td>\n",
       "      <td>41.867226</td>\n",
       "      <td>-87.615355</td>\n",
       "      <td>(41.86722595682, -87.6153553902)</td>\n",
       "    </tr>\n",
       "    <tr>\n",
       "      <th>4</th>\n",
       "      <td>Burnham Harbor</td>\n",
       "      <td>41.857412</td>\n",
       "      <td>-87.613792</td>\n",
       "      <td>(41.85741178707404, -87.61379152536392)</td>\n",
       "    </tr>\n",
       "    <tr>\n",
       "      <th>5</th>\n",
       "      <td>State St &amp; Harrison St</td>\n",
       "      <td>41.874053</td>\n",
       "      <td>-87.627716</td>\n",
       "      <td>(41.874053, -87.627716)</td>\n",
       "    </tr>\n",
       "    <tr>\n",
       "      <th>6</th>\n",
       "      <td>Dusable Harbor</td>\n",
       "      <td>41.886976</td>\n",
       "      <td>-87.612813</td>\n",
       "      <td>(41.886976, -87.612813)</td>\n",
       "    </tr>\n",
       "  </tbody>\n",
       "</table>\n",
       "</div>"
      ],
      "text/plain": [
       "              station_name          x          y  \\\n",
       "ID                                                 \n",
       "2      Buckingham Fountain  41.876423 -87.620339   \n",
       "3           Shedd Aquarium  41.867226 -87.615355   \n",
       "4           Burnham Harbor  41.857412 -87.613792   \n",
       "5   State St & Harrison St  41.874053 -87.627716   \n",
       "6           Dusable Harbor  41.886976 -87.612813   \n",
       "\n",
       "                                   position  \n",
       "ID                                           \n",
       "2                   (41.876423, -87.620339)  \n",
       "3          (41.86722595682, -87.6153553902)  \n",
       "4   (41.85741178707404, -87.61379152536392)  \n",
       "5                   (41.874053, -87.627716)  \n",
       "6                   (41.886976, -87.612813)  "
      ]
     },
     "execution_count": 14,
     "metadata": {},
     "output_type": "execute_result"
    }
   ],
   "source": [
    "df_stations = df_chicago_stations_indexed_by_id.loc[available_stations_ids]\n",
    "df_stations.head()"
   ]
  },
  {
   "cell_type": "markdown",
   "id": "47137807",
   "metadata": {},
   "source": [
    "### 6.3 Fill missing stations with NaN"
   ]
  },
  {
   "cell_type": "markdown",
   "id": "42067fef",
   "metadata": {},
   "source": [
    "Then, we add a row for every missing stations, filling every column except the id and name column with NaN values. Since we do not have the data for these stations this is our only option. It is not feasible to e.g. estimate the position of a station, since this is not a feature that we can derive from any other property of the station or other realted entries in the dataset. When using this dataset in other tasks we make sure to consider the presence of these NaN values."
   ]
  },
  {
   "cell_type": "code",
   "execution_count": 15,
   "id": "250aa373",
   "metadata": {},
   "outputs": [],
   "source": [
    "df_missing_stations = pd.DataFrame(\n",
    "    data=missing_stations.values(), index=missing_stations.keys(), columns=['station_name']\n",
    ")\n",
    "df_missing_stations.index.name = 'ID'"
   ]
  },
  {
   "cell_type": "code",
   "execution_count": 16,
   "id": "abe0ad26",
   "metadata": {},
   "outputs": [
    {
     "data": {
      "text/html": [
       "<div>\n",
       "<style scoped>\n",
       "    .dataframe tbody tr th:only-of-type {\n",
       "        vertical-align: middle;\n",
       "    }\n",
       "\n",
       "    .dataframe tbody tr th {\n",
       "        vertical-align: top;\n",
       "    }\n",
       "\n",
       "    .dataframe thead th {\n",
       "        text-align: right;\n",
       "    }\n",
       "</style>\n",
       "<table border=\"1\" class=\"dataframe\">\n",
       "  <thead>\n",
       "    <tr style=\"text-align: right;\">\n",
       "      <th></th>\n",
       "      <th>station_name</th>\n",
       "      <th>x</th>\n",
       "      <th>y</th>\n",
       "      <th>position</th>\n",
       "    </tr>\n",
       "    <tr>\n",
       "      <th>ID</th>\n",
       "      <th></th>\n",
       "      <th></th>\n",
       "      <th></th>\n",
       "      <th></th>\n",
       "    </tr>\n",
       "  </thead>\n",
       "  <tbody>\n",
       "    <tr>\n",
       "      <th>2</th>\n",
       "      <td>Buckingham Fountain</td>\n",
       "      <td>41.876423</td>\n",
       "      <td>-87.620339</td>\n",
       "      <td>(41.876423, -87.620339)</td>\n",
       "    </tr>\n",
       "    <tr>\n",
       "      <th>3</th>\n",
       "      <td>Shedd Aquarium</td>\n",
       "      <td>41.867226</td>\n",
       "      <td>-87.615355</td>\n",
       "      <td>(41.86722595682, -87.6153553902)</td>\n",
       "    </tr>\n",
       "    <tr>\n",
       "      <th>4</th>\n",
       "      <td>Burnham Harbor</td>\n",
       "      <td>41.857412</td>\n",
       "      <td>-87.613792</td>\n",
       "      <td>(41.85741178707404, -87.61379152536392)</td>\n",
       "    </tr>\n",
       "    <tr>\n",
       "      <th>5</th>\n",
       "      <td>State St &amp; Harrison St</td>\n",
       "      <td>41.874053</td>\n",
       "      <td>-87.627716</td>\n",
       "      <td>(41.874053, -87.627716)</td>\n",
       "    </tr>\n",
       "    <tr>\n",
       "      <th>6</th>\n",
       "      <td>Dusable Harbor</td>\n",
       "      <td>41.886976</td>\n",
       "      <td>-87.612813</td>\n",
       "      <td>(41.886976, -87.612813)</td>\n",
       "    </tr>\n",
       "    <tr>\n",
       "      <th>...</th>\n",
       "      <td>...</td>\n",
       "      <td>...</td>\n",
       "      <td>...</td>\n",
       "      <td>...</td>\n",
       "    </tr>\n",
       "    <tr>\n",
       "      <th>615</th>\n",
       "      <td>Lombard Ave &amp; Madison St</td>\n",
       "      <td>NaN</td>\n",
       "      <td>NaN</td>\n",
       "      <td>NaN</td>\n",
       "    </tr>\n",
       "    <tr>\n",
       "      <th>616</th>\n",
       "      <td>Oak Park Ave &amp; Harrison St</td>\n",
       "      <td>NaN</td>\n",
       "      <td>NaN</td>\n",
       "      <td>NaN</td>\n",
       "    </tr>\n",
       "    <tr>\n",
       "      <th>617</th>\n",
       "      <td>East Ave &amp; Garfield St</td>\n",
       "      <td>NaN</td>\n",
       "      <td>NaN</td>\n",
       "      <td>NaN</td>\n",
       "    </tr>\n",
       "    <tr>\n",
       "      <th>618</th>\n",
       "      <td>Lombard Ave &amp; Garfield St</td>\n",
       "      <td>NaN</td>\n",
       "      <td>NaN</td>\n",
       "      <td>NaN</td>\n",
       "    </tr>\n",
       "    <tr>\n",
       "      <th>651</th>\n",
       "      <td>Michigan Ave &amp; 71st St</td>\n",
       "      <td>NaN</td>\n",
       "      <td>NaN</td>\n",
       "      <td>NaN</td>\n",
       "    </tr>\n",
       "  </tbody>\n",
       "</table>\n",
       "<p>622 rows × 4 columns</p>\n",
       "</div>"
      ],
      "text/plain": [
       "                   station_name          x          y  \\\n",
       "ID                                                      \n",
       "2           Buckingham Fountain  41.876423 -87.620339   \n",
       "3                Shedd Aquarium  41.867226 -87.615355   \n",
       "4                Burnham Harbor  41.857412 -87.613792   \n",
       "5        State St & Harrison St  41.874053 -87.627716   \n",
       "6                Dusable Harbor  41.886976 -87.612813   \n",
       "..                          ...        ...        ...   \n",
       "615    Lombard Ave & Madison St        NaN        NaN   \n",
       "616  Oak Park Ave & Harrison St        NaN        NaN   \n",
       "617      East Ave & Garfield St        NaN        NaN   \n",
       "618   Lombard Ave & Garfield St        NaN        NaN   \n",
       "651      Michigan Ave & 71st St        NaN        NaN   \n",
       "\n",
       "                                    position  \n",
       "ID                                            \n",
       "2                    (41.876423, -87.620339)  \n",
       "3           (41.86722595682, -87.6153553902)  \n",
       "4    (41.85741178707404, -87.61379152536392)  \n",
       "5                    (41.874053, -87.627716)  \n",
       "6                    (41.886976, -87.612813)  \n",
       "..                                       ...  \n",
       "615                                      NaN  \n",
       "616                                      NaN  \n",
       "617                                      NaN  \n",
       "618                                      NaN  \n",
       "651                                      NaN  \n",
       "\n",
       "[622 rows x 4 columns]"
      ]
     },
     "execution_count": 16,
     "metadata": {},
     "output_type": "execute_result"
    }
   ],
   "source": [
    "df_stations = pd.concat([df_stations, df_missing_stations])\n",
    "df_stations"
   ]
  },
  {
   "cell_type": "markdown",
   "id": "67a83821",
   "metadata": {},
   "source": [
    "### 6.4 Reset index and sort"
   ]
  },
  {
   "cell_type": "code",
   "execution_count": 17,
   "id": "07875b86",
   "metadata": {},
   "outputs": [
    {
     "data": {
      "text/html": [
       "<div>\n",
       "<style scoped>\n",
       "    .dataframe tbody tr th:only-of-type {\n",
       "        vertical-align: middle;\n",
       "    }\n",
       "\n",
       "    .dataframe tbody tr th {\n",
       "        vertical-align: top;\n",
       "    }\n",
       "\n",
       "    .dataframe thead th {\n",
       "        text-align: right;\n",
       "    }\n",
       "</style>\n",
       "<table border=\"1\" class=\"dataframe\">\n",
       "  <thead>\n",
       "    <tr style=\"text-align: right;\">\n",
       "      <th></th>\n",
       "      <th>ID</th>\n",
       "      <th>station_name</th>\n",
       "      <th>x</th>\n",
       "      <th>y</th>\n",
       "      <th>position</th>\n",
       "    </tr>\n",
       "  </thead>\n",
       "  <tbody>\n",
       "    <tr>\n",
       "      <th>0</th>\n",
       "      <td>2</td>\n",
       "      <td>Buckingham Fountain</td>\n",
       "      <td>41.876423</td>\n",
       "      <td>-87.620339</td>\n",
       "      <td>(41.876423, -87.620339)</td>\n",
       "    </tr>\n",
       "    <tr>\n",
       "      <th>1</th>\n",
       "      <td>3</td>\n",
       "      <td>Shedd Aquarium</td>\n",
       "      <td>41.867226</td>\n",
       "      <td>-87.615355</td>\n",
       "      <td>(41.86722595682, -87.6153553902)</td>\n",
       "    </tr>\n",
       "    <tr>\n",
       "      <th>2</th>\n",
       "      <td>4</td>\n",
       "      <td>Burnham Harbor</td>\n",
       "      <td>41.857412</td>\n",
       "      <td>-87.613792</td>\n",
       "      <td>(41.85741178707404, -87.61379152536392)</td>\n",
       "    </tr>\n",
       "    <tr>\n",
       "      <th>3</th>\n",
       "      <td>5</td>\n",
       "      <td>State St &amp; Harrison St</td>\n",
       "      <td>41.874053</td>\n",
       "      <td>-87.627716</td>\n",
       "      <td>(41.874053, -87.627716)</td>\n",
       "    </tr>\n",
       "    <tr>\n",
       "      <th>4</th>\n",
       "      <td>6</td>\n",
       "      <td>Dusable Harbor</td>\n",
       "      <td>41.886976</td>\n",
       "      <td>-87.612813</td>\n",
       "      <td>(41.886976, -87.612813)</td>\n",
       "    </tr>\n",
       "  </tbody>\n",
       "</table>\n",
       "</div>"
      ],
      "text/plain": [
       "   ID            station_name          x          y  \\\n",
       "0   2     Buckingham Fountain  41.876423 -87.620339   \n",
       "1   3          Shedd Aquarium  41.867226 -87.615355   \n",
       "2   4          Burnham Harbor  41.857412 -87.613792   \n",
       "3   5  State St & Harrison St  41.874053 -87.627716   \n",
       "4   6          Dusable Harbor  41.886976 -87.612813   \n",
       "\n",
       "                                  position  \n",
       "0                  (41.876423, -87.620339)  \n",
       "1         (41.86722595682, -87.6153553902)  \n",
       "2  (41.85741178707404, -87.61379152536392)  \n",
       "3                  (41.874053, -87.627716)  \n",
       "4                  (41.886976, -87.612813)  "
      ]
     },
     "execution_count": 17,
     "metadata": {},
     "output_type": "execute_result"
    }
   ],
   "source": [
    "df_stations = df_stations.reset_index()\n",
    "df_stations = df_stations.sort_values(by='ID')\n",
    "df_stations.head()"
   ]
  },
  {
   "cell_type": "markdown",
   "id": "57ce3495",
   "metadata": {},
   "source": [
    "## 7 Export"
   ]
  },
  {
   "cell_type": "code",
   "execution_count": 18,
   "id": "a370121b",
   "metadata": {},
   "outputs": [],
   "source": [
    "df_stations.to_csv(r'../dataset/chicago_stations.csv', index = False)"
   ]
  }
 ],
 "metadata": {
  "kernelspec": {
   "display_name": "Python 3 (ipykernel)",
   "language": "python",
   "name": "python3"
  },
  "language_info": {
   "codemirror_mode": {
    "name": "ipython",
    "version": 3
   },
   "file_extension": ".py",
   "mimetype": "text/x-python",
   "name": "python",
   "nbconvert_exporter": "python",
   "pygments_lexer": "ipython3",
   "version": "3.9.12"
  }
 },
 "nbformat": 4,
 "nbformat_minor": 5
}
